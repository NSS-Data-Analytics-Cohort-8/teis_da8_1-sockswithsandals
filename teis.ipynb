{
 "cells": [
  {
   "cell_type": "code",
   "execution_count": 1,
   "id": "7dd9667f",
   "metadata": {},
   "outputs": [],
   "source": [
    "import pandas as pd\n",
    "from datetime import datetime\n",
    "import io\n",
    "import matplotlib.pyplot as plt\n",
    "import numpy as np"
   ]
  },
  {
   "cell_type": "markdown",
   "id": "9ee27969",
   "metadata": {},
   "source": [
    "# Reading in the excel file, tab 1"
   ]
  },
  {
   "cell_type": "code",
   "execution_count": 2,
   "id": "098b9e6b",
   "metadata": {},
   "outputs": [
    {
     "data": {
      "text/html": [
       "<div>\n",
       "<style scoped>\n",
       "    .dataframe tbody tr th:only-of-type {\n",
       "        vertical-align: middle;\n",
       "    }\n",
       "\n",
       "    .dataframe tbody tr th {\n",
       "        vertical-align: top;\n",
       "    }\n",
       "\n",
       "    .dataframe thead th {\n",
       "        text-align: right;\n",
       "    }\n",
       "</style>\n",
       "<table border=\"1\" class=\"dataframe\">\n",
       "  <thead>\n",
       "    <tr style=\"text-align: right;\">\n",
       "      <th></th>\n",
       "      <th>CHILD_ID</th>\n",
       "      <th>SERVICE_DATE</th>\n",
       "      <th>START_TIME</th>\n",
       "      <th>END_TIME</th>\n",
       "      <th>SERVICE_SETTING</th>\n",
       "      <th>SERVICE DELIVERY</th>\n",
       "      <th>ADD_USER</th>\n",
       "      <th>ADD_DATE</th>\n",
       "      <th>IFSP Teaming ID name</th>\n",
       "      <th>Agency Name</th>\n",
       "      <th>Agency Type</th>\n",
       "      <th>Service Name</th>\n",
       "    </tr>\n",
       "  </thead>\n",
       "  <tbody>\n",
       "    <tr>\n",
       "      <th>0</th>\n",
       "      <td>457136</td>\n",
       "      <td>2022-01-21</td>\n",
       "      <td>09:30:00</td>\n",
       "      <td>10:30:00</td>\n",
       "      <td>Community-based</td>\n",
       "      <td>Service Delivered</td>\n",
       "      <td>LEECAROL1</td>\n",
       "      <td>2022-01-21 17:54:45</td>\n",
       "      <td>IEP Meeting</td>\n",
       "      <td>Siskin Children's Institute (EIRA)</td>\n",
       "      <td>EIRA</td>\n",
       "      <td>Dev. Therapy Prof - Home/Community</td>\n",
       "    </tr>\n",
       "    <tr>\n",
       "      <th>1</th>\n",
       "      <td>457136</td>\n",
       "      <td>2022-02-15</td>\n",
       "      <td>14:00:00</td>\n",
       "      <td>15:00:00</td>\n",
       "      <td>Community-based</td>\n",
       "      <td>Service Delivered</td>\n",
       "      <td>LEECAROL1</td>\n",
       "      <td>2022-02-16 05:29:12</td>\n",
       "      <td>Co-Visit</td>\n",
       "      <td>Siskin Children's Institute (EIRA)</td>\n",
       "      <td>EIRA</td>\n",
       "      <td>Dev. Therapy Prof - Home/Community</td>\n",
       "    </tr>\n",
       "    <tr>\n",
       "      <th>2</th>\n",
       "      <td>457585</td>\n",
       "      <td>2022-01-24</td>\n",
       "      <td>08:30:00</td>\n",
       "      <td>09:30:00</td>\n",
       "      <td>Telehealth</td>\n",
       "      <td>Service Delivered</td>\n",
       "      <td>MILLARDCATHERINE</td>\n",
       "      <td>2022-01-24 14:18:29</td>\n",
       "      <td>IEP Meeting</td>\n",
       "      <td>Siskin Children's Institute (EIRA)</td>\n",
       "      <td>EIRA</td>\n",
       "      <td>Dev. Therapy Prof - Home/Community</td>\n",
       "    </tr>\n",
       "    <tr>\n",
       "      <th>3</th>\n",
       "      <td>457852</td>\n",
       "      <td>2022-01-12</td>\n",
       "      <td>14:00:00</td>\n",
       "      <td>15:00:00</td>\n",
       "      <td>Community-based</td>\n",
       "      <td>Service Delivered</td>\n",
       "      <td>HEMELKATIE1</td>\n",
       "      <td>2022-01-18 10:39:51</td>\n",
       "      <td>IEP Meeting</td>\n",
       "      <td>LTVEC</td>\n",
       "      <td>EIRA</td>\n",
       "      <td>Dev. Therapy Prof - Home/Community</td>\n",
       "    </tr>\n",
       "    <tr>\n",
       "      <th>4</th>\n",
       "      <td>458051</td>\n",
       "      <td>2022-01-12</td>\n",
       "      <td>12:00:00</td>\n",
       "      <td>13:00:00</td>\n",
       "      <td>Telehealth</td>\n",
       "      <td>Service Delivered</td>\n",
       "      <td>JONESMEGAN</td>\n",
       "      <td>2022-01-12 13:46:48</td>\n",
       "      <td>IFSP Meeting</td>\n",
       "      <td>First Steps, Inc (EIRA)</td>\n",
       "      <td>EIRA</td>\n",
       "      <td>Dev. Therapy Prof - Home/Community</td>\n",
       "    </tr>\n",
       "    <tr>\n",
       "      <th>...</th>\n",
       "      <td>...</td>\n",
       "      <td>...</td>\n",
       "      <td>...</td>\n",
       "      <td>...</td>\n",
       "      <td>...</td>\n",
       "      <td>...</td>\n",
       "      <td>...</td>\n",
       "      <td>...</td>\n",
       "      <td>...</td>\n",
       "      <td>...</td>\n",
       "      <td>...</td>\n",
       "      <td>...</td>\n",
       "    </tr>\n",
       "    <tr>\n",
       "      <th>9538</th>\n",
       "      <td>541337</td>\n",
       "      <td>2023-01-10</td>\n",
       "      <td>15:00:00</td>\n",
       "      <td>16:00:00</td>\n",
       "      <td>Home</td>\n",
       "      <td>Service Delivered</td>\n",
       "      <td>WESTAMY</td>\n",
       "      <td>2023-01-12 17:55:59</td>\n",
       "      <td>Co-Visit</td>\n",
       "      <td>Kid's Putnam, Inc.</td>\n",
       "      <td>EIRA</td>\n",
       "      <td>Dev. Therapy Prof - Home/Community</td>\n",
       "    </tr>\n",
       "    <tr>\n",
       "      <th>9539</th>\n",
       "      <td>541511</td>\n",
       "      <td>2023-01-19</td>\n",
       "      <td>13:30:00</td>\n",
       "      <td>14:30:00</td>\n",
       "      <td>Home</td>\n",
       "      <td>Service Delivered</td>\n",
       "      <td>WESTAMY</td>\n",
       "      <td>2023-01-20 16:11:04</td>\n",
       "      <td>Co-Visit</td>\n",
       "      <td>Kid's Putnam, Inc.</td>\n",
       "      <td>EIRA</td>\n",
       "      <td>Dev. Therapy Prof - Home/Community</td>\n",
       "    </tr>\n",
       "    <tr>\n",
       "      <th>9540</th>\n",
       "      <td>541890</td>\n",
       "      <td>2023-01-19</td>\n",
       "      <td>09:00:00</td>\n",
       "      <td>10:00:00</td>\n",
       "      <td>Home</td>\n",
       "      <td>Service Delivered</td>\n",
       "      <td>WESTAMY</td>\n",
       "      <td>2023-01-20 10:23:05</td>\n",
       "      <td>Co-Visit</td>\n",
       "      <td>Kid's Putnam, Inc.</td>\n",
       "      <td>EIRA</td>\n",
       "      <td>Dev. Therapy Prof - Home/Community</td>\n",
       "    </tr>\n",
       "    <tr>\n",
       "      <th>9541</th>\n",
       "      <td>542077</td>\n",
       "      <td>2023-01-30</td>\n",
       "      <td>14:30:00</td>\n",
       "      <td>15:20:00</td>\n",
       "      <td>Telehealth</td>\n",
       "      <td>Service Delivered</td>\n",
       "      <td>FANELLASAMANTHA</td>\n",
       "      <td>2023-01-30 15:21:59</td>\n",
       "      <td>IFSP Meeting</td>\n",
       "      <td>Pediatric Language Clinic</td>\n",
       "      <td>EIRA</td>\n",
       "      <td>Dev. Therapy Prof - Home/Community</td>\n",
       "    </tr>\n",
       "    <tr>\n",
       "      <th>9542</th>\n",
       "      <td>542122</td>\n",
       "      <td>2023-01-30</td>\n",
       "      <td>13:00:00</td>\n",
       "      <td>14:00:00</td>\n",
       "      <td>Home</td>\n",
       "      <td>Service Delivered</td>\n",
       "      <td>QUINNEMILY</td>\n",
       "      <td>2023-02-02 21:54:53</td>\n",
       "      <td>Co-Visit</td>\n",
       "      <td>Little Folks Arc of Washington Co.</td>\n",
       "      <td>EIRA</td>\n",
       "      <td>Dev. Therapy Prof - Home/Community</td>\n",
       "    </tr>\n",
       "  </tbody>\n",
       "</table>\n",
       "<p>9543 rows × 12 columns</p>\n",
       "</div>"
      ],
      "text/plain": [
       "      CHILD_ID SERVICE_DATE START_TIME  END_TIME  SERVICE_SETTING  \\\n",
       "0       457136   2022-01-21   09:30:00  10:30:00  Community-based   \n",
       "1       457136   2022-02-15   14:00:00  15:00:00  Community-based   \n",
       "2       457585   2022-01-24   08:30:00  09:30:00       Telehealth   \n",
       "3       457852   2022-01-12   14:00:00  15:00:00  Community-based   \n",
       "4       458051   2022-01-12   12:00:00  13:00:00       Telehealth   \n",
       "...        ...          ...        ...       ...              ...   \n",
       "9538    541337   2023-01-10   15:00:00  16:00:00             Home   \n",
       "9539    541511   2023-01-19   13:30:00  14:30:00             Home   \n",
       "9540    541890   2023-01-19   09:00:00  10:00:00             Home   \n",
       "9541    542077   2023-01-30   14:30:00  15:20:00       Telehealth   \n",
       "9542    542122   2023-01-30   13:00:00  14:00:00             Home   \n",
       "\n",
       "       SERVICE DELIVERY          ADD_USER            ADD_DATE  \\\n",
       "0     Service Delivered         LEECAROL1 2022-01-21 17:54:45   \n",
       "1     Service Delivered         LEECAROL1 2022-02-16 05:29:12   \n",
       "2     Service Delivered  MILLARDCATHERINE 2022-01-24 14:18:29   \n",
       "3     Service Delivered       HEMELKATIE1 2022-01-18 10:39:51   \n",
       "4     Service Delivered        JONESMEGAN 2022-01-12 13:46:48   \n",
       "...                 ...               ...                 ...   \n",
       "9538  Service Delivered           WESTAMY 2023-01-12 17:55:59   \n",
       "9539  Service Delivered           WESTAMY 2023-01-20 16:11:04   \n",
       "9540  Service Delivered           WESTAMY 2023-01-20 10:23:05   \n",
       "9541  Service Delivered   FANELLASAMANTHA 2023-01-30 15:21:59   \n",
       "9542  Service Delivered        QUINNEMILY 2023-02-02 21:54:53   \n",
       "\n",
       "     IFSP Teaming ID name                         Agency Name Agency Type  \\\n",
       "0             IEP Meeting  Siskin Children's Institute (EIRA)        EIRA   \n",
       "1                Co-Visit  Siskin Children's Institute (EIRA)        EIRA   \n",
       "2             IEP Meeting  Siskin Children's Institute (EIRA)        EIRA   \n",
       "3             IEP Meeting                               LTVEC        EIRA   \n",
       "4            IFSP Meeting             First Steps, Inc (EIRA)        EIRA   \n",
       "...                   ...                                 ...         ...   \n",
       "9538             Co-Visit                  Kid's Putnam, Inc.        EIRA   \n",
       "9539             Co-Visit                  Kid's Putnam, Inc.        EIRA   \n",
       "9540             Co-Visit                  Kid's Putnam, Inc.        EIRA   \n",
       "9541         IFSP Meeting           Pediatric Language Clinic        EIRA   \n",
       "9542             Co-Visit  Little Folks Arc of Washington Co.        EIRA   \n",
       "\n",
       "                            Service Name  \n",
       "0     Dev. Therapy Prof - Home/Community  \n",
       "1     Dev. Therapy Prof - Home/Community  \n",
       "2     Dev. Therapy Prof - Home/Community  \n",
       "3     Dev. Therapy Prof - Home/Community  \n",
       "4     Dev. Therapy Prof - Home/Community  \n",
       "...                                  ...  \n",
       "9538  Dev. Therapy Prof - Home/Community  \n",
       "9539  Dev. Therapy Prof - Home/Community  \n",
       "9540  Dev. Therapy Prof - Home/Community  \n",
       "9541  Dev. Therapy Prof - Home/Community  \n",
       "9542  Dev. Therapy Prof - Home/Community  \n",
       "\n",
       "[9543 rows x 12 columns]"
      ]
     },
     "metadata": {},
     "output_type": "display_data"
    }
   ],
   "source": [
    "teaming_df = pd.read_excel('TEIS_IFSP_Teaming_Jan_2022-_Jan_2023.xlsx')\n",
    "\n",
    "display(teaming_df)"
   ]
  },
  {
   "cell_type": "markdown",
   "id": "2285ef01",
   "metadata": {},
   "source": [
    "# Reading in excel file, tab 2"
   ]
  },
  {
   "cell_type": "code",
   "execution_count": 3,
   "id": "73a0bdbd",
   "metadata": {},
   "outputs": [
    {
     "name": "stderr",
     "output_type": "stream",
     "text": [
      "C:\\Users\\Erica\\anaconda3\\lib\\site-packages\\openpyxl\\worksheet\\_read_only.py:79: UserWarning: Unknown extension is not supported and will be removed\n",
      "  for idx, row in parser.parse():\n"
     ]
    },
    {
     "data": {
      "text/html": [
       "<div>\n",
       "<style scoped>\n",
       "    .dataframe tbody tr th:only-of-type {\n",
       "        vertical-align: middle;\n",
       "    }\n",
       "\n",
       "    .dataframe tbody tr th {\n",
       "        vertical-align: top;\n",
       "    }\n",
       "\n",
       "    .dataframe thead th {\n",
       "        text-align: right;\n",
       "    }\n",
       "</style>\n",
       "<table border=\"1\" class=\"dataframe\">\n",
       "  <thead>\n",
       "    <tr style=\"text-align: right;\">\n",
       "      <th></th>\n",
       "      <th>POE</th>\n",
       "      <th>Child ID</th>\n",
       "      <th>Referral Date</th>\n",
       "      <th>Exit Date</th>\n",
       "    </tr>\n",
       "  </thead>\n",
       "  <tbody>\n",
       "    <tr>\n",
       "      <th>0</th>\n",
       "      <td>ET</td>\n",
       "      <td>508615</td>\n",
       "      <td>2021-08-06</td>\n",
       "      <td>NaT</td>\n",
       "    </tr>\n",
       "    <tr>\n",
       "      <th>1</th>\n",
       "      <td>ET</td>\n",
       "      <td>488455</td>\n",
       "      <td>2021-11-02</td>\n",
       "      <td>NaT</td>\n",
       "    </tr>\n",
       "    <tr>\n",
       "      <th>2</th>\n",
       "      <td>ET</td>\n",
       "      <td>494500</td>\n",
       "      <td>2020-12-14</td>\n",
       "      <td>NaT</td>\n",
       "    </tr>\n",
       "    <tr>\n",
       "      <th>3</th>\n",
       "      <td>ET</td>\n",
       "      <td>515143</td>\n",
       "      <td>2021-11-22</td>\n",
       "      <td>NaT</td>\n",
       "    </tr>\n",
       "    <tr>\n",
       "      <th>4</th>\n",
       "      <td>ET</td>\n",
       "      <td>505490</td>\n",
       "      <td>2021-06-15</td>\n",
       "      <td>NaT</td>\n",
       "    </tr>\n",
       "    <tr>\n",
       "      <th>...</th>\n",
       "      <td>...</td>\n",
       "      <td>...</td>\n",
       "      <td>...</td>\n",
       "      <td>...</td>\n",
       "    </tr>\n",
       "    <tr>\n",
       "      <th>138659</th>\n",
       "      <td>UC</td>\n",
       "      <td>539845</td>\n",
       "      <td>2022-11-03</td>\n",
       "      <td>NaT</td>\n",
       "    </tr>\n",
       "    <tr>\n",
       "      <th>138660</th>\n",
       "      <td>UC</td>\n",
       "      <td>499575</td>\n",
       "      <td>2021-03-11</td>\n",
       "      <td>NaT</td>\n",
       "    </tr>\n",
       "    <tr>\n",
       "      <th>138661</th>\n",
       "      <td>UC</td>\n",
       "      <td>540987</td>\n",
       "      <td>2022-11-16</td>\n",
       "      <td>NaT</td>\n",
       "    </tr>\n",
       "    <tr>\n",
       "      <th>138662</th>\n",
       "      <td>UC</td>\n",
       "      <td>526430</td>\n",
       "      <td>2022-07-19</td>\n",
       "      <td>2023-02-13</td>\n",
       "    </tr>\n",
       "    <tr>\n",
       "      <th>138663</th>\n",
       "      <td>UC</td>\n",
       "      <td>545101</td>\n",
       "      <td>2023-01-17</td>\n",
       "      <td>NaT</td>\n",
       "    </tr>\n",
       "  </tbody>\n",
       "</table>\n",
       "<p>138664 rows × 4 columns</p>\n",
       "</div>"
      ],
      "text/plain": [
       "       POE  Child ID Referral Date  Exit Date\n",
       "0       ET    508615    2021-08-06        NaT\n",
       "1       ET    488455    2021-11-02        NaT\n",
       "2       ET    494500    2020-12-14        NaT\n",
       "3       ET    515143    2021-11-22        NaT\n",
       "4       ET    505490    2021-06-15        NaT\n",
       "...     ..       ...           ...        ...\n",
       "138659  UC    539845    2022-11-03        NaT\n",
       "138660  UC    499575    2021-03-11        NaT\n",
       "138661  UC    540987    2022-11-16        NaT\n",
       "138662  UC    526430    2022-07-19 2023-02-13\n",
       "138663  UC    545101    2023-01-17        NaT\n",
       "\n",
       "[138664 rows x 4 columns]"
      ]
     },
     "metadata": {},
     "output_type": "display_data"
    }
   ],
   "source": [
    "ifsps_df = pd.read_excel('TEIS_IFSP_Teaming_Jan_2022-_Jan_2023.xlsx', sheet_name='All Children with IFSPs')\n",
    "display(ifsps_df)"
   ]
  },
  {
   "cell_type": "markdown",
   "id": "6f50357c",
   "metadata": {},
   "source": [
    "# Adding a column to teaming_df to show the length of a meeting, column titled TIME_DIFF"
   ]
  },
  {
   "cell_type": "code",
   "execution_count": 4,
   "id": "67954c9e",
   "metadata": {},
   "outputs": [
    {
     "data": {
      "text/html": [
       "<div>\n",
       "<style scoped>\n",
       "    .dataframe tbody tr th:only-of-type {\n",
       "        vertical-align: middle;\n",
       "    }\n",
       "\n",
       "    .dataframe tbody tr th {\n",
       "        vertical-align: top;\n",
       "    }\n",
       "\n",
       "    .dataframe thead th {\n",
       "        text-align: right;\n",
       "    }\n",
       "</style>\n",
       "<table border=\"1\" class=\"dataframe\">\n",
       "  <thead>\n",
       "    <tr style=\"text-align: right;\">\n",
       "      <th></th>\n",
       "      <th>CHILD_ID</th>\n",
       "      <th>SERVICE_DATE</th>\n",
       "      <th>START_TIME</th>\n",
       "      <th>END_TIME</th>\n",
       "      <th>SERVICE_SETTING</th>\n",
       "      <th>SERVICE DELIVERY</th>\n",
       "      <th>ADD_USER</th>\n",
       "      <th>ADD_DATE</th>\n",
       "      <th>IFSP Teaming ID name</th>\n",
       "      <th>Agency Name</th>\n",
       "      <th>Agency Type</th>\n",
       "      <th>Service Name</th>\n",
       "      <th>TIME_DIFF</th>\n",
       "    </tr>\n",
       "  </thead>\n",
       "  <tbody>\n",
       "    <tr>\n",
       "      <th>0</th>\n",
       "      <td>457136</td>\n",
       "      <td>2022-01-21</td>\n",
       "      <td>09:30:00</td>\n",
       "      <td>10:30:00</td>\n",
       "      <td>Community-based</td>\n",
       "      <td>Service Delivered</td>\n",
       "      <td>LEECAROL1</td>\n",
       "      <td>2022-01-21 17:54:45</td>\n",
       "      <td>IEP Meeting</td>\n",
       "      <td>Siskin Children's Institute (EIRA)</td>\n",
       "      <td>EIRA</td>\n",
       "      <td>Dev. Therapy Prof - Home/Community</td>\n",
       "      <td>0 days 01:00:00</td>\n",
       "    </tr>\n",
       "    <tr>\n",
       "      <th>1</th>\n",
       "      <td>457136</td>\n",
       "      <td>2022-02-15</td>\n",
       "      <td>14:00:00</td>\n",
       "      <td>15:00:00</td>\n",
       "      <td>Community-based</td>\n",
       "      <td>Service Delivered</td>\n",
       "      <td>LEECAROL1</td>\n",
       "      <td>2022-02-16 05:29:12</td>\n",
       "      <td>Co-Visit</td>\n",
       "      <td>Siskin Children's Institute (EIRA)</td>\n",
       "      <td>EIRA</td>\n",
       "      <td>Dev. Therapy Prof - Home/Community</td>\n",
       "      <td>0 days 01:00:00</td>\n",
       "    </tr>\n",
       "    <tr>\n",
       "      <th>2</th>\n",
       "      <td>457585</td>\n",
       "      <td>2022-01-24</td>\n",
       "      <td>08:30:00</td>\n",
       "      <td>09:30:00</td>\n",
       "      <td>Telehealth</td>\n",
       "      <td>Service Delivered</td>\n",
       "      <td>MILLARDCATHERINE</td>\n",
       "      <td>2022-01-24 14:18:29</td>\n",
       "      <td>IEP Meeting</td>\n",
       "      <td>Siskin Children's Institute (EIRA)</td>\n",
       "      <td>EIRA</td>\n",
       "      <td>Dev. Therapy Prof - Home/Community</td>\n",
       "      <td>0 days 01:00:00</td>\n",
       "    </tr>\n",
       "    <tr>\n",
       "      <th>3</th>\n",
       "      <td>457852</td>\n",
       "      <td>2022-01-12</td>\n",
       "      <td>14:00:00</td>\n",
       "      <td>15:00:00</td>\n",
       "      <td>Community-based</td>\n",
       "      <td>Service Delivered</td>\n",
       "      <td>HEMELKATIE1</td>\n",
       "      <td>2022-01-18 10:39:51</td>\n",
       "      <td>IEP Meeting</td>\n",
       "      <td>LTVEC</td>\n",
       "      <td>EIRA</td>\n",
       "      <td>Dev. Therapy Prof - Home/Community</td>\n",
       "      <td>0 days 01:00:00</td>\n",
       "    </tr>\n",
       "    <tr>\n",
       "      <th>4</th>\n",
       "      <td>458051</td>\n",
       "      <td>2022-01-12</td>\n",
       "      <td>12:00:00</td>\n",
       "      <td>13:00:00</td>\n",
       "      <td>Telehealth</td>\n",
       "      <td>Service Delivered</td>\n",
       "      <td>JONESMEGAN</td>\n",
       "      <td>2022-01-12 13:46:48</td>\n",
       "      <td>IFSP Meeting</td>\n",
       "      <td>First Steps, Inc (EIRA)</td>\n",
       "      <td>EIRA</td>\n",
       "      <td>Dev. Therapy Prof - Home/Community</td>\n",
       "      <td>0 days 01:00:00</td>\n",
       "    </tr>\n",
       "    <tr>\n",
       "      <th>...</th>\n",
       "      <td>...</td>\n",
       "      <td>...</td>\n",
       "      <td>...</td>\n",
       "      <td>...</td>\n",
       "      <td>...</td>\n",
       "      <td>...</td>\n",
       "      <td>...</td>\n",
       "      <td>...</td>\n",
       "      <td>...</td>\n",
       "      <td>...</td>\n",
       "      <td>...</td>\n",
       "      <td>...</td>\n",
       "      <td>...</td>\n",
       "    </tr>\n",
       "    <tr>\n",
       "      <th>9538</th>\n",
       "      <td>541337</td>\n",
       "      <td>2023-01-10</td>\n",
       "      <td>15:00:00</td>\n",
       "      <td>16:00:00</td>\n",
       "      <td>Home</td>\n",
       "      <td>Service Delivered</td>\n",
       "      <td>WESTAMY</td>\n",
       "      <td>2023-01-12 17:55:59</td>\n",
       "      <td>Co-Visit</td>\n",
       "      <td>Kid's Putnam, Inc.</td>\n",
       "      <td>EIRA</td>\n",
       "      <td>Dev. Therapy Prof - Home/Community</td>\n",
       "      <td>0 days 01:00:00</td>\n",
       "    </tr>\n",
       "    <tr>\n",
       "      <th>9539</th>\n",
       "      <td>541511</td>\n",
       "      <td>2023-01-19</td>\n",
       "      <td>13:30:00</td>\n",
       "      <td>14:30:00</td>\n",
       "      <td>Home</td>\n",
       "      <td>Service Delivered</td>\n",
       "      <td>WESTAMY</td>\n",
       "      <td>2023-01-20 16:11:04</td>\n",
       "      <td>Co-Visit</td>\n",
       "      <td>Kid's Putnam, Inc.</td>\n",
       "      <td>EIRA</td>\n",
       "      <td>Dev. Therapy Prof - Home/Community</td>\n",
       "      <td>0 days 01:00:00</td>\n",
       "    </tr>\n",
       "    <tr>\n",
       "      <th>9540</th>\n",
       "      <td>541890</td>\n",
       "      <td>2023-01-19</td>\n",
       "      <td>09:00:00</td>\n",
       "      <td>10:00:00</td>\n",
       "      <td>Home</td>\n",
       "      <td>Service Delivered</td>\n",
       "      <td>WESTAMY</td>\n",
       "      <td>2023-01-20 10:23:05</td>\n",
       "      <td>Co-Visit</td>\n",
       "      <td>Kid's Putnam, Inc.</td>\n",
       "      <td>EIRA</td>\n",
       "      <td>Dev. Therapy Prof - Home/Community</td>\n",
       "      <td>0 days 01:00:00</td>\n",
       "    </tr>\n",
       "    <tr>\n",
       "      <th>9541</th>\n",
       "      <td>542077</td>\n",
       "      <td>2023-01-30</td>\n",
       "      <td>14:30:00</td>\n",
       "      <td>15:20:00</td>\n",
       "      <td>Telehealth</td>\n",
       "      <td>Service Delivered</td>\n",
       "      <td>FANELLASAMANTHA</td>\n",
       "      <td>2023-01-30 15:21:59</td>\n",
       "      <td>IFSP Meeting</td>\n",
       "      <td>Pediatric Language Clinic</td>\n",
       "      <td>EIRA</td>\n",
       "      <td>Dev. Therapy Prof - Home/Community</td>\n",
       "      <td>0 days 00:50:00</td>\n",
       "    </tr>\n",
       "    <tr>\n",
       "      <th>9542</th>\n",
       "      <td>542122</td>\n",
       "      <td>2023-01-30</td>\n",
       "      <td>13:00:00</td>\n",
       "      <td>14:00:00</td>\n",
       "      <td>Home</td>\n",
       "      <td>Service Delivered</td>\n",
       "      <td>QUINNEMILY</td>\n",
       "      <td>2023-02-02 21:54:53</td>\n",
       "      <td>Co-Visit</td>\n",
       "      <td>Little Folks Arc of Washington Co.</td>\n",
       "      <td>EIRA</td>\n",
       "      <td>Dev. Therapy Prof - Home/Community</td>\n",
       "      <td>0 days 01:00:00</td>\n",
       "    </tr>\n",
       "  </tbody>\n",
       "</table>\n",
       "<p>9543 rows × 13 columns</p>\n",
       "</div>"
      ],
      "text/plain": [
       "      CHILD_ID SERVICE_DATE START_TIME  END_TIME  SERVICE_SETTING  \\\n",
       "0       457136   2022-01-21   09:30:00  10:30:00  Community-based   \n",
       "1       457136   2022-02-15   14:00:00  15:00:00  Community-based   \n",
       "2       457585   2022-01-24   08:30:00  09:30:00       Telehealth   \n",
       "3       457852   2022-01-12   14:00:00  15:00:00  Community-based   \n",
       "4       458051   2022-01-12   12:00:00  13:00:00       Telehealth   \n",
       "...        ...          ...        ...       ...              ...   \n",
       "9538    541337   2023-01-10   15:00:00  16:00:00             Home   \n",
       "9539    541511   2023-01-19   13:30:00  14:30:00             Home   \n",
       "9540    541890   2023-01-19   09:00:00  10:00:00             Home   \n",
       "9541    542077   2023-01-30   14:30:00  15:20:00       Telehealth   \n",
       "9542    542122   2023-01-30   13:00:00  14:00:00             Home   \n",
       "\n",
       "       SERVICE DELIVERY          ADD_USER            ADD_DATE  \\\n",
       "0     Service Delivered         LEECAROL1 2022-01-21 17:54:45   \n",
       "1     Service Delivered         LEECAROL1 2022-02-16 05:29:12   \n",
       "2     Service Delivered  MILLARDCATHERINE 2022-01-24 14:18:29   \n",
       "3     Service Delivered       HEMELKATIE1 2022-01-18 10:39:51   \n",
       "4     Service Delivered        JONESMEGAN 2022-01-12 13:46:48   \n",
       "...                 ...               ...                 ...   \n",
       "9538  Service Delivered           WESTAMY 2023-01-12 17:55:59   \n",
       "9539  Service Delivered           WESTAMY 2023-01-20 16:11:04   \n",
       "9540  Service Delivered           WESTAMY 2023-01-20 10:23:05   \n",
       "9541  Service Delivered   FANELLASAMANTHA 2023-01-30 15:21:59   \n",
       "9542  Service Delivered        QUINNEMILY 2023-02-02 21:54:53   \n",
       "\n",
       "     IFSP Teaming ID name                         Agency Name Agency Type  \\\n",
       "0             IEP Meeting  Siskin Children's Institute (EIRA)        EIRA   \n",
       "1                Co-Visit  Siskin Children's Institute (EIRA)        EIRA   \n",
       "2             IEP Meeting  Siskin Children's Institute (EIRA)        EIRA   \n",
       "3             IEP Meeting                               LTVEC        EIRA   \n",
       "4            IFSP Meeting             First Steps, Inc (EIRA)        EIRA   \n",
       "...                   ...                                 ...         ...   \n",
       "9538             Co-Visit                  Kid's Putnam, Inc.        EIRA   \n",
       "9539             Co-Visit                  Kid's Putnam, Inc.        EIRA   \n",
       "9540             Co-Visit                  Kid's Putnam, Inc.        EIRA   \n",
       "9541         IFSP Meeting           Pediatric Language Clinic        EIRA   \n",
       "9542             Co-Visit  Little Folks Arc of Washington Co.        EIRA   \n",
       "\n",
       "                            Service Name       TIME_DIFF  \n",
       "0     Dev. Therapy Prof - Home/Community 0 days 01:00:00  \n",
       "1     Dev. Therapy Prof - Home/Community 0 days 01:00:00  \n",
       "2     Dev. Therapy Prof - Home/Community 0 days 01:00:00  \n",
       "3     Dev. Therapy Prof - Home/Community 0 days 01:00:00  \n",
       "4     Dev. Therapy Prof - Home/Community 0 days 01:00:00  \n",
       "...                                  ...             ...  \n",
       "9538  Dev. Therapy Prof - Home/Community 0 days 01:00:00  \n",
       "9539  Dev. Therapy Prof - Home/Community 0 days 01:00:00  \n",
       "9540  Dev. Therapy Prof - Home/Community 0 days 01:00:00  \n",
       "9541  Dev. Therapy Prof - Home/Community 0 days 00:50:00  \n",
       "9542  Dev. Therapy Prof - Home/Community 0 days 01:00:00  \n",
       "\n",
       "[9543 rows x 13 columns]"
      ]
     },
     "execution_count": 4,
     "metadata": {},
     "output_type": "execute_result"
    }
   ],
   "source": [
    "# reformating datetime datatypes to prepare for subtraction\n",
    "teaming_df['START_TIME'] = pd.to_datetime(teaming_df['START_TIME'], format='%H:%M:%S').dt.time\n",
    "teaming_df['END_TIME'] = pd.to_datetime(teaming_df['END_TIME'], format='%H:%M:%S').dt.time\n",
    "\n",
    "# calculate the time difference\n",
    "teaming_df['TIME_DIFF'] = pd.to_datetime(teaming_df['END_TIME'], format='%H:%M:%S') - pd.to_datetime(teaming_df['START_TIME'], format='%H:%M:%S')\n",
    "\n",
    "teaming_df\n"
   ]
  },
  {
   "cell_type": "code",
   "execution_count": 5,
   "id": "f3a14a3a",
   "metadata": {},
   "outputs": [
    {
     "data": {
      "text/plain": [
       "IFSP Teaming ID name\n",
       "Co-Visit       0 days 00:58:25.544409102\n",
       "IEP Meeting    0 days 00:50:52.750397456\n",
       "IFSP Meeting   0 days 00:54:33.176910299\n",
       "Name: TIME_DIFF, dtype: timedelta64[ns]"
      ]
     },
     "execution_count": 5,
     "metadata": {},
     "output_type": "execute_result"
    }
   ],
   "source": [
    "# getting avg meeting time per teaming ID\n",
    "average_time_difference = teaming_df.groupby('IFSP Teaming ID name')['TIME_DIFF'].mean()\n",
    "average_time_difference\n"
   ]
  },
  {
   "cell_type": "code",
   "execution_count": 6,
   "id": "f0d95027",
   "metadata": {},
   "outputs": [
    {
     "data": {
      "text/plain": [
       "IFSP Teaming ID name\n",
       "Co-Visit       0 days 01:00:00\n",
       "IEP Meeting    0 days 01:00:00\n",
       "IFSP Meeting   0 days 01:00:00\n",
       "Name: TIME_DIFF, dtype: timedelta64[ns]"
      ]
     },
     "execution_count": 6,
     "metadata": {},
     "output_type": "execute_result"
    }
   ],
   "source": [
    "# checking median time diff\n",
    "median_time_difference = teaming_df.groupby('IFSP Teaming ID name')['TIME_DIFF'].median()\n",
    "median_time_difference"
   ]
  },
  {
   "cell_type": "code",
   "execution_count": 7,
   "id": "efab4115",
   "metadata": {},
   "outputs": [
    {
     "data": {
      "text/plain": [
       "IFSP Teaming ID name\n",
       "Co-Visit       0 days 00:10:00\n",
       "IEP Meeting    0 days 00:15:00\n",
       "IFSP Meeting   0 days 00:10:00\n",
       "Name: TIME_DIFF, dtype: timedelta64[ns]"
      ]
     },
     "execution_count": 7,
     "metadata": {},
     "output_type": "execute_result"
    }
   ],
   "source": [
    "# checking min time diff\n",
    "min_time_difference = teaming_df.groupby('IFSP Teaming ID name')['TIME_DIFF'].min()\n",
    "min_time_difference"
   ]
  },
  {
   "cell_type": "code",
   "execution_count": 8,
   "id": "88bc6784",
   "metadata": {},
   "outputs": [
    {
     "data": {
      "text/plain": [
       "IFSP Teaming ID name\n",
       "Co-Visit       0 days 03:00:00\n",
       "IEP Meeting    0 days 01:00:00\n",
       "IFSP Meeting   0 days 03:00:00\n",
       "Name: TIME_DIFF, dtype: timedelta64[ns]"
      ]
     },
     "execution_count": 8,
     "metadata": {},
     "output_type": "execute_result"
    }
   ],
   "source": [
    "# checking max time diff\n",
    "max_time_difference = teaming_df.groupby('IFSP Teaming ID name')['TIME_DIFF'].max()\n",
    "max_time_difference"
   ]
  },
  {
   "cell_type": "markdown",
   "id": "8d307c12",
   "metadata": {},
   "source": [
    "# How many children are receiving co-visits? "
   ]
  },
  {
   "cell_type": "code",
   "execution_count": 9,
   "id": "30b2c3a8",
   "metadata": {},
   "outputs": [
    {
     "data": {
      "text/plain": [
       "Index(['CHILD_ID', 'SERVICE_DATE', 'START_TIME', 'END_TIME', 'SERVICE_SETTING',\n",
       "       'SERVICE DELIVERY', 'ADD_USER', 'ADD_DATE', 'IFSP Teaming ID name',\n",
       "       'Agency Name', 'Agency Type', 'Service Name', 'TIME_DIFF'],\n",
       "      dtype='object')"
      ]
     },
     "execution_count": 9,
     "metadata": {},
     "output_type": "execute_result"
    }
   ],
   "source": [
    "# inspecting columns in first data frame\n",
    "teaming_df.columns"
   ]
  },
  {
   "cell_type": "code",
   "execution_count": 10,
   "id": "84d57b9b",
   "metadata": {},
   "outputs": [
    {
     "data": {
      "text/plain": [
       "IFSP Teaming ID name\n",
       "Co-Visit        4087\n",
       "IEP Meeting      629\n",
       "IFSP Meeting    4816\n",
       "Name: IFSP Teaming ID name, dtype: int64"
      ]
     },
     "execution_count": 10,
     "metadata": {},
     "output_type": "execute_result"
    }
   ],
   "source": [
    "# filtering on services delivered then count of meetings per teaming ID\n",
    "sd_rows = teaming_df[teaming_df['SERVICE DELIVERY'] == 'Service Delivered']\n",
    "counts = sd_rows.groupby('IFSP Teaming ID name')['IFSP Teaming ID name'].count()\n",
    "counts\n"
   ]
  },
  {
   "cell_type": "markdown",
   "id": "a44b892b",
   "metadata": {},
   "source": [
    "What is the rate of co-visits? That is, out of children who have an IFSP, how many are receiving co-visits?"
   ]
  },
  {
   "cell_type": "code",
   "execution_count": 11,
   "id": "af457000",
   "metadata": {},
   "outputs": [
    {
     "data": {
      "text/plain": [
       "IFSP Teaming ID name\n",
       "Co-Visit        42.87\n",
       "IEP Meeting      6.62\n",
       "IFSP Meeting    50.51\n",
       "Name: IFSP Teaming ID name, dtype: float64"
      ]
     },
     "execution_count": 11,
     "metadata": {},
     "output_type": "execute_result"
    }
   ],
   "source": [
    "counts = teaming_df.groupby('IFSP Teaming ID name')['IFSP Teaming ID name'].count()\n",
    "total_count = counts.sum()\n",
    "percentages = (counts / total_count) * 100\n",
    "rounded_percentages = percentages.round(2)\n",
    "rounded_percentages\n"
   ]
  },
  {
   "cell_type": "markdown",
   "id": "6810491e",
   "metadata": {},
   "source": [
    "That is, out of children who have an IFSP, how many are receiving co-visits?"
   ]
  },
  {
   "cell_type": "code",
   "execution_count": 12,
   "id": "a39c508a",
   "metadata": {},
   "outputs": [
    {
     "name": "stdout",
     "output_type": "stream",
     "text": [
      "19623\n"
     ]
    }
   ],
   "source": [
    "child_ids = ifsps_df['Child ID'].unique().tolist()\n",
    "\n",
    "unique_count = len(child_ids)\n",
    "\n",
    "print(unique_count)\n"
   ]
  },
  {
   "cell_type": "code",
   "execution_count": 13,
   "id": "0f7f3157",
   "metadata": {},
   "outputs": [
    {
     "name": "stdout",
     "output_type": "stream",
     "text": [
      "1642\n"
     ]
    }
   ],
   "source": [
    "co_visit_rows = teaming_df[(teaming_df['CHILD_ID'].isin(child_ids)) & (teaming_df['IFSP Teaming ID name'] == 'Co-Visit') & (teaming_df['SERVICE DELIVERY'] == 'Service Delivered')]\n",
    "\n",
    "child_ids_with_co_visit = co_visit_rows['CHILD_ID'].unique().tolist()\n",
    "\n",
    "print(len(child_ids_with_co_visit))\n"
   ]
  },
  {
   "cell_type": "code",
   "execution_count": 38,
   "id": "7ba55f27",
   "metadata": {},
   "outputs": [
    {
     "name": "stdout",
     "output_type": "stream",
     "text": [
      "272\n"
     ]
    }
   ],
   "source": [
    "# second attempt to avoid double counting covisits\n",
    "co_visit_rows = teaming_df[(teaming_df['CHILD_ID'].isin(child_ids)) &\n",
    "                           (teaming_df['IFSP Teaming ID name'] == 'Co-Visit') &\n",
    "                           (teaming_df['SERVICE DELIVERY'] == 'Service Delivered')]\n",
    "\n",
    "unique_child_rows = co_visit_rows.drop_duplicates(subset='CHILD_ID')\n",
    "\n",
    "unique_date_rows = unique_child_rows.drop_duplicates(subset='SERVICE_DATE')\n",
    "\n",
    "child_ids_with_co_visit = unique_date_rows['CHILD_ID'].unique().tolist()\n",
    "\n",
    "print(len(child_ids_with_co_visit))\n"
   ]
  },
  {
   "cell_type": "code",
   "execution_count": 41,
   "id": "89acbc12",
   "metadata": {},
   "outputs": [
    {
     "data": {
      "text/html": [
       "<div>\n",
       "<style scoped>\n",
       "    .dataframe tbody tr th:only-of-type {\n",
       "        vertical-align: middle;\n",
       "    }\n",
       "\n",
       "    .dataframe tbody tr th {\n",
       "        vertical-align: top;\n",
       "    }\n",
       "\n",
       "    .dataframe thead th {\n",
       "        text-align: right;\n",
       "    }\n",
       "</style>\n",
       "<table border=\"1\" class=\"dataframe\">\n",
       "  <thead>\n",
       "    <tr style=\"text-align: right;\">\n",
       "      <th></th>\n",
       "      <th>CHILD_ID</th>\n",
       "      <th>co_visits_counts</th>\n",
       "    </tr>\n",
       "  </thead>\n",
       "  <tbody>\n",
       "    <tr>\n",
       "      <th>0</th>\n",
       "      <td>457136</td>\n",
       "      <td>1</td>\n",
       "    </tr>\n",
       "    <tr>\n",
       "      <th>1</th>\n",
       "      <td>458850</td>\n",
       "      <td>1</td>\n",
       "    </tr>\n",
       "    <tr>\n",
       "      <th>2</th>\n",
       "      <td>458851</td>\n",
       "      <td>1</td>\n",
       "    </tr>\n",
       "    <tr>\n",
       "      <th>3</th>\n",
       "      <td>459167</td>\n",
       "      <td>2</td>\n",
       "    </tr>\n",
       "    <tr>\n",
       "      <th>4</th>\n",
       "      <td>459566</td>\n",
       "      <td>1</td>\n",
       "    </tr>\n",
       "    <tr>\n",
       "      <th>...</th>\n",
       "      <td>...</td>\n",
       "      <td>...</td>\n",
       "    </tr>\n",
       "    <tr>\n",
       "      <th>1637</th>\n",
       "      <td>540954</td>\n",
       "      <td>1</td>\n",
       "    </tr>\n",
       "    <tr>\n",
       "      <th>1638</th>\n",
       "      <td>541337</td>\n",
       "      <td>1</td>\n",
       "    </tr>\n",
       "    <tr>\n",
       "      <th>1639</th>\n",
       "      <td>541511</td>\n",
       "      <td>1</td>\n",
       "    </tr>\n",
       "    <tr>\n",
       "      <th>1640</th>\n",
       "      <td>541890</td>\n",
       "      <td>1</td>\n",
       "    </tr>\n",
       "    <tr>\n",
       "      <th>1641</th>\n",
       "      <td>542122</td>\n",
       "      <td>1</td>\n",
       "    </tr>\n",
       "  </tbody>\n",
       "</table>\n",
       "<p>1642 rows × 2 columns</p>\n",
       "</div>"
      ],
      "text/plain": [
       "      CHILD_ID  co_visits_counts\n",
       "0       457136                 1\n",
       "1       458850                 1\n",
       "2       458851                 1\n",
       "3       459167                 2\n",
       "4       459566                 1\n",
       "...        ...               ...\n",
       "1637    540954                 1\n",
       "1638    541337                 1\n",
       "1639    541511                 1\n",
       "1640    541890                 1\n",
       "1641    542122                 1\n",
       "\n",
       "[1642 rows x 2 columns]"
      ]
     },
     "execution_count": 41,
     "metadata": {},
     "output_type": "execute_result"
    }
   ],
   "source": [
    "# third attempt to avoid double counting covisits\n",
    "co_visit_rows = teaming_df[(teaming_df['CHILD_ID'].isin(child_ids)) &\n",
    "                           (teaming_df['IFSP Teaming ID name'] == 'Co-Visit') &\n",
    "                           (teaming_df['SERVICE DELIVERY'] == 'Service Delivered')]\n",
    "\n",
    "new_count = co_visit_rows.groupby(\"CHILD_ID\")[\"SERVICE_DATE\"].nunique().reset_index(name=\"co_visits_counts\")\n",
    "new_count"
   ]
  },
  {
   "cell_type": "code",
   "execution_count": 48,
   "id": "6dd7f987",
   "metadata": {},
   "outputs": [
    {
     "data": {
      "text/plain": [
       "3552"
      ]
     },
     "execution_count": 48,
     "metadata": {},
     "output_type": "execute_result"
    }
   ],
   "source": [
    "sum = new_count['co_visits_counts'].sum()\n",
    "sum"
   ]
  },
  {
   "cell_type": "code",
   "execution_count": 30,
   "id": "19915c7d",
   "metadata": {},
   "outputs": [
    {
     "data": {
      "text/plain": [
       "0.008867145696376701"
      ]
     },
     "execution_count": 30,
     "metadata": {},
     "output_type": "execute_result"
    }
   ],
   "source": [
    "# kids with IFSPs that receive co-visits is 0.8867%\n",
    "covisit_perc = len(child_ids_with_co_visit) / unique_count\n",
    "covisit_perc"
   ]
  },
  {
   "cell_type": "markdown",
   "id": "e99f80d4",
   "metadata": {},
   "source": [
    "* What is the cadence of co-visits?"
   ]
  },
  {
   "cell_type": "code",
   "execution_count": 31,
   "id": "5ffb54ff",
   "metadata": {},
   "outputs": [
    {
     "data": {
      "text/html": [
       "<div>\n",
       "<style scoped>\n",
       "    .dataframe tbody tr th:only-of-type {\n",
       "        vertical-align: middle;\n",
       "    }\n",
       "\n",
       "    .dataframe tbody tr th {\n",
       "        vertical-align: top;\n",
       "    }\n",
       "\n",
       "    .dataframe thead th {\n",
       "        text-align: right;\n",
       "    }\n",
       "</style>\n",
       "<table border=\"1\" class=\"dataframe\">\n",
       "  <thead>\n",
       "    <tr style=\"text-align: right;\">\n",
       "      <th></th>\n",
       "      <th>CHILD_ID</th>\n",
       "      <th>SERVICE_DATE</th>\n",
       "      <th>START_TIME</th>\n",
       "      <th>END_TIME</th>\n",
       "      <th>SERVICE_SETTING</th>\n",
       "      <th>SERVICE DELIVERY</th>\n",
       "      <th>ADD_USER</th>\n",
       "      <th>ADD_DATE</th>\n",
       "      <th>IFSP Teaming ID name</th>\n",
       "      <th>Agency Name</th>\n",
       "      <th>Agency Type</th>\n",
       "      <th>Service Name</th>\n",
       "      <th>TIME_DIFF</th>\n",
       "      <th>VISIT_DIFF</th>\n",
       "    </tr>\n",
       "  </thead>\n",
       "  <tbody>\n",
       "    <tr>\n",
       "      <th>10</th>\n",
       "      <td>459167</td>\n",
       "      <td>2022-02-09</td>\n",
       "      <td>09:00:00</td>\n",
       "      <td>10:00:00</td>\n",
       "      <td>Telehealth</td>\n",
       "      <td>Service Delivered</td>\n",
       "      <td>GLASSKATHERINE</td>\n",
       "      <td>2022-02-09 11:40:03</td>\n",
       "      <td>Co-Visit</td>\n",
       "      <td>LeBonheur EI &amp; Dev (LEAD) (vendor)</td>\n",
       "      <td>Independent</td>\n",
       "      <td>Speech Therapy</td>\n",
       "      <td>0 days 01:00:00</td>\n",
       "      <td>14 days</td>\n",
       "    </tr>\n",
       "    <tr>\n",
       "      <th>24</th>\n",
       "      <td>460965</td>\n",
       "      <td>2022-02-10</td>\n",
       "      <td>09:00:00</td>\n",
       "      <td>10:00:00</td>\n",
       "      <td>Community-based</td>\n",
       "      <td>Service Delivered</td>\n",
       "      <td>PULLIAMAMY</td>\n",
       "      <td>2022-02-10 18:12:55</td>\n",
       "      <td>Co-Visit</td>\n",
       "      <td>LeBonheur EI &amp; Dev (LEAD) (vendor)</td>\n",
       "      <td>Independent</td>\n",
       "      <td>Dev. Therapy - BCBA</td>\n",
       "      <td>0 days 01:00:00</td>\n",
       "      <td>14 days</td>\n",
       "    </tr>\n",
       "    <tr>\n",
       "      <th>27</th>\n",
       "      <td>460965</td>\n",
       "      <td>2022-03-24</td>\n",
       "      <td>09:00:00</td>\n",
       "      <td>10:00:00</td>\n",
       "      <td>Telehealth</td>\n",
       "      <td>Service Delivered</td>\n",
       "      <td>PULLIAMAMY</td>\n",
       "      <td>2022-03-24 11:16:57</td>\n",
       "      <td>Co-Visit</td>\n",
       "      <td>LeBonheur EI &amp; Dev (LEAD) (vendor)</td>\n",
       "      <td>Independent</td>\n",
       "      <td>Dev. Therapy - BCBA</td>\n",
       "      <td>0 days 01:00:00</td>\n",
       "      <td>42 days</td>\n",
       "    </tr>\n",
       "    <tr>\n",
       "      <th>30</th>\n",
       "      <td>461124</td>\n",
       "      <td>2022-02-01</td>\n",
       "      <td>16:45:00</td>\n",
       "      <td>17:15:00</td>\n",
       "      <td>Telehealth</td>\n",
       "      <td>Service Delivered</td>\n",
       "      <td>ROGERSKALEY</td>\n",
       "      <td>2022-02-04 18:04:33</td>\n",
       "      <td>Co-Visit</td>\n",
       "      <td>Kid's Putnam, Inc.</td>\n",
       "      <td>EIRA</td>\n",
       "      <td>Dev. Therapy Prof - Home/Community</td>\n",
       "      <td>0 days 00:30:00</td>\n",
       "      <td>28 days</td>\n",
       "    </tr>\n",
       "    <tr>\n",
       "      <th>43</th>\n",
       "      <td>462936</td>\n",
       "      <td>2022-01-10</td>\n",
       "      <td>09:30:00</td>\n",
       "      <td>10:30:00</td>\n",
       "      <td>Other</td>\n",
       "      <td>Service Delivered</td>\n",
       "      <td>ROBINSONMEGHAN</td>\n",
       "      <td>2022-01-11 10:09:21</td>\n",
       "      <td>Co-Visit</td>\n",
       "      <td>Can Do Kids Pediatric Therapy Services, LLC</td>\n",
       "      <td>Independent</td>\n",
       "      <td>Occupational Therapy</td>\n",
       "      <td>0 days 01:00:00</td>\n",
       "      <td>5 days</td>\n",
       "    </tr>\n",
       "  </tbody>\n",
       "</table>\n",
       "</div>"
      ],
      "text/plain": [
       "    CHILD_ID SERVICE_DATE START_TIME  END_TIME  SERVICE_SETTING  \\\n",
       "10    459167   2022-02-09   09:00:00  10:00:00       Telehealth   \n",
       "24    460965   2022-02-10   09:00:00  10:00:00  Community-based   \n",
       "27    460965   2022-03-24   09:00:00  10:00:00       Telehealth   \n",
       "30    461124   2022-02-01   16:45:00  17:15:00       Telehealth   \n",
       "43    462936   2022-01-10   09:30:00  10:30:00            Other   \n",
       "\n",
       "     SERVICE DELIVERY        ADD_USER            ADD_DATE  \\\n",
       "10  Service Delivered  GLASSKATHERINE 2022-02-09 11:40:03   \n",
       "24  Service Delivered      PULLIAMAMY 2022-02-10 18:12:55   \n",
       "27  Service Delivered      PULLIAMAMY 2022-03-24 11:16:57   \n",
       "30  Service Delivered     ROGERSKALEY 2022-02-04 18:04:33   \n",
       "43  Service Delivered  ROBINSONMEGHAN 2022-01-11 10:09:21   \n",
       "\n",
       "   IFSP Teaming ID name                                  Agency Name  \\\n",
       "10             Co-Visit           LeBonheur EI & Dev (LEAD) (vendor)   \n",
       "24             Co-Visit           LeBonheur EI & Dev (LEAD) (vendor)   \n",
       "27             Co-Visit           LeBonheur EI & Dev (LEAD) (vendor)   \n",
       "30             Co-Visit                           Kid's Putnam, Inc.   \n",
       "43             Co-Visit  Can Do Kids Pediatric Therapy Services, LLC   \n",
       "\n",
       "    Agency Type                        Service Name       TIME_DIFF VISIT_DIFF  \n",
       "10  Independent                      Speech Therapy 0 days 01:00:00    14 days  \n",
       "24  Independent                 Dev. Therapy - BCBA 0 days 01:00:00    14 days  \n",
       "27  Independent                 Dev. Therapy - BCBA 0 days 01:00:00    42 days  \n",
       "30         EIRA  Dev. Therapy Prof - Home/Community 0 days 00:30:00    28 days  \n",
       "43  Independent                Occupational Therapy 0 days 01:00:00     5 days  "
      ]
     },
     "execution_count": 31,
     "metadata": {},
     "output_type": "execute_result"
    }
   ],
   "source": [
    "# Filtering the teaming_df for just co-visit rows\n",
    "co_visit_rows = teaming_df[(teaming_df['CHILD_ID'].isin(child_ids)) &\n",
    "                           (teaming_df['IFSP Teaming ID name'] == 'Co-Visit') &\n",
    "                           (teaming_df['SERVICE DELIVERY'] == 'Service Delivered')]\n",
    "\n",
    "# Sort the co-visit rows by CHILD_ID and SERVICE_DATE\n",
    "co_visit_rows = co_visit_rows.sort_values(['CHILD_ID', 'SERVICE_DATE'])\n",
    "\n",
    "# Calculate the time difference between consecutive co-visits for each child\n",
    "co_visit_rows['VISIT_DIFF'] = co_visit_rows.groupby('CHILD_ID')['SERVICE_DATE'].diff()\n",
    "\n",
    "# Remove the first co-visit for each child since it doesn't have a previous co-visit\n",
    "co_visit_rows = co_visit_rows.dropna(subset=['VISIT_DIFF'])\n",
    "\n",
    "co_visit_rows[['CHILD_ID', 'SERVICE_DATE', 'VISIT_DIFF']]\n",
    "morethan1 = co_visit_rows[co_visit_rows.VISIT_DIFF != '0 days']\n",
    "morethan1.head()"
   ]
  },
  {
   "cell_type": "code",
   "execution_count": 32,
   "id": "9cead2e0",
   "metadata": {},
   "outputs": [
    {
     "name": "stdout",
     "output_type": "stream",
     "text": [
      "Average time difference between co-visits: 41 days 17:10:37.068062827\n"
     ]
    }
   ],
   "source": [
    "# Calculating the average time difference\n",
    "avg_time_diff = morethan1['VISIT_DIFF'].mean()\n",
    "\n",
    "print(\"Average time difference between co-visits:\", avg_time_diff)"
   ]
  },
  {
   "cell_type": "code",
   "execution_count": 33,
   "id": "7daeaf91",
   "metadata": {},
   "outputs": [
    {
     "data": {
      "image/png": "[encoded data removed]",
      "text/plain": [
       "<Figure size 640x480 with 1 Axes>"
      ]
     },
     "metadata": {},
     "output_type": "display_data"
    }
   ],
   "source": [
    "plt.hist(morethan1['VISIT_DIFF'].dt.days, bins=60)  \n",
    "\n",
    "plt.xlabel('Time Interval (Days)')\n",
    "plt.ylabel('Frequency')\n",
    "plt.title('Cadence of Co-Visit In Days, Zoomed Out')\n",
    "\n",
    "plt.show()"
   ]
  },
  {
   "cell_type": "code",
   "execution_count": 34,
   "id": "1bd02aad",
   "metadata": {
    "scrolled": true
   },
   "outputs": [
    {
     "data": {
      "image/png": "[encoded data removed]",
      "text/plain": [
       "<Figure size 640x480 with 1 Axes>"
      ]
     },
     "metadata": {},
     "output_type": "display_data"
    }
   ],
   "source": [
    "# zoom in a bit\n",
    "plt.hist(morethan1['VISIT_DIFF'].dt.days, bins=60)  \n",
    "\n",
    "plt.xlabel('Time Interval (Days)')\n",
    "plt.ylabel('Frequency')\n",
    "plt.title('Cadence of Co-Visit In Days, Zoomed in')\n",
    "plt.xlim(0, 150)  \n",
    "\n",
    "plt.show()"
   ]
  },
  {
   "cell_type": "markdown",
   "id": "bbcf7e7b",
   "metadata": {},
   "source": [
    "* Children can have up to 6 co-visits per year. How many are recieving all 6 visits? Are there any who are exceeding 6 visits?"
   ]
  },
  {
   "cell_type": "code",
   "execution_count": 19,
   "id": "40575236",
   "metadata": {},
   "outputs": [
    {
     "name": "stdout",
     "output_type": "stream",
     "text": [
      "CHILD_ID\n",
      "494031    48\n",
      "480109    33\n",
      "494794    31\n",
      "481017    31\n",
      "511895    30\n",
      "          ..\n",
      "511428     6\n",
      "511790     6\n",
      "512805     6\n",
      "513218     6\n",
      "532432     6\n",
      "Length: 131, dtype: int64\n"
     ]
    }
   ],
   "source": [
    "co_visit_rows = teaming_df[teaming_df['IFSP Teaming ID name'] == 'Co-Visit']\n",
    "\n",
    "child_ids_with_co_visit = co_visit_rows.groupby('CHILD_ID').size()\n",
    "\n",
    "x = child_ids_with_co_visit[child_ids_with_co_visit >= 6]\n",
    "\n",
    "x = x.sort_values(ascending=False)\n",
    "\n",
    "print(x)\n"
   ]
  },
  {
   "cell_type": "markdown",
   "id": "6594200e",
   "metadata": {},
   "source": [
    "* Who is performing co-visits? Are they generally performed by the same provider or discipline or by multiple providers or disciplines? Is it more likely for a co-visit to occur if vendor services are within the same agency?"
   ]
  },
  {
   "cell_type": "code",
   "execution_count": 20,
   "id": "9368e1a9",
   "metadata": {},
   "outputs": [
    {
     "data": {
      "text/plain": [
       "ADD_USER           Agency Name                                    \n",
       "REDDMISSY          LeBonheur EI & Dev (LEAD) (vendor)                 198\n",
       "ROGERSKALEY        Kid's Putnam, Inc.                                 174\n",
       "PULLIAMAMY         LeBonheur EI & Dev (LEAD) (vendor)                 129\n",
       "OLIVERCIARA        LeBonheur EI & Dev (LEAD) (EIRA)                   123\n",
       "CALLICUTTJULIE     LeBonheur EI & Dev (LEAD) (vendor)                 107\n",
       "                                                                     ... \n",
       "LADERACARMEN       Susan Gray School - Vanderbilt Univ                  1\n",
       "LANKFORDAMBER1     LIFT Therapy dba Sports Plus Lexington               1\n",
       "LASTERDENISE       James Developmental Ctr - Small Steps Preschool      1\n",
       "LAURENCEELIZABETH  Rehab At Your Place (vendor)                         1\n",
       "WRIGHTJESSICA1     LIFT Therapy dba Sports Plus Dyersburg               1\n",
       "Length: 421, dtype: int64"
      ]
     },
     "execution_count": 20,
     "metadata": {},
     "output_type": "execute_result"
    }
   ],
   "source": [
    "co_visit_rows = teaming_df[(teaming_df['IFSP Teaming ID name'] == 'Co-Visit') & (teaming_df['SERVICE DELIVERY'] == 'Service Delivered')]\n",
    "\n",
    "# Group by 'ADD_USER' and 'Agency Name' and count the number of occurrences\n",
    "co_visit_counts = co_visit_rows.groupby(['ADD_USER', 'Agency Name']).size()\n",
    "\n",
    "# Sort the co-visit counts in descending order\n",
    "co_visit_counts = co_visit_counts.sort_values(ascending=False)\n",
    "\n",
    "# Print the resulting counts\n",
    "co_visit_counts\n"
   ]
  },
  {
   "cell_type": "code",
   "execution_count": 21,
   "id": "3cd8e10e",
   "metadata": {},
   "outputs": [
    {
     "data": {
      "text/plain": [
       "Agency Type  Service Name                                 \n",
       "EIRA         Dev. Therapy Prof - Home/Community               2396\n",
       "Independent  Occupational Therapy                              487\n",
       "             Speech Therapy                                    415\n",
       "             Physical Therapy                                  297\n",
       "             Dev. Therapy - BCBA                               127\n",
       "EIRA         Dev. Therapy Center-Based                         102\n",
       "             Vision Services                                    59\n",
       "             Eval/Assess - Developmental                        52\n",
       "Independent  Evaluation - Occupational Therapy                  26\n",
       "             Physical Therapy Assistant                         21\n",
       "             Evaluation - Physical Therapy                      15\n",
       "             Evaluation - Speech Therapy                        15\n",
       "EIRA         Occupational Therapy                               14\n",
       "             Physical Therapy Assistant                         11\n",
       "             Speech Therapy                                     10\n",
       "             Physical Therapy                                   10\n",
       "             Dev. Therapy – Registered Behavior Tech (RBT)       9\n",
       "             Dev. Therapy - BCBA                                 6\n",
       "             Dev. Therapy - Behavior                             4\n",
       "Independent  Evaluation - BCBA Developmental Therapy             3\n",
       "             Assistive Technology                                3\n",
       "             Dev. Therapy Prof - Home/Community                  1\n",
       "             Occupational Therapy Assistant                      1\n",
       "EIRA         Evaluation/Assessment - Vision                      1\n",
       "Independent  Speech Therapy-Group                                1\n",
       "             Vision Services                                     1\n",
       "dtype: int64"
      ]
     },
     "execution_count": 21,
     "metadata": {},
     "output_type": "execute_result"
    }
   ],
   "source": [
    "co_visit_rows = teaming_df[(teaming_df['IFSP Teaming ID name'] == 'Co-Visit') & (teaming_df['SERVICE DELIVERY'] == 'Service Delivered')]\n",
    "\n",
    "co_visit_counts = co_visit_rows.groupby(['Agency Type', 'Service Name']).size()\n",
    "\n",
    "co_visit_counts = co_visit_counts.sort_values(ascending=False)\n",
    "\n",
    "co_visit_counts\n"
   ]
  },
  {
   "cell_type": "code",
   "execution_count": 22,
   "id": "34ae1566",
   "metadata": {},
   "outputs": [
    {
     "name": "stdout",
     "output_type": "stream",
     "text": [
      "Home               1940\n",
      "Community-based     871\n",
      "Telehealth          775\n",
      "Other               501\n",
      "Name: SERVICE_SETTING, dtype: int64\n"
     ]
    }
   ],
   "source": [
    "co_visit_rows = teaming_df[(teaming_df['IFSP Teaming ID name'] == 'Co-Visit') & (teaming_df['SERVICE DELIVERY'] == 'Service Delivered')]\n",
    "\n",
    "# Count the values for each SERVICE_SETTING\n",
    "service_setting_counts = co_visit_rows['SERVICE_SETTING'].value_counts()\n",
    "\n",
    "# Print the resulting counts\n",
    "print(service_setting_counts)\n"
   ]
  },
  {
   "cell_type": "markdown",
   "id": "6c2a93a5",
   "metadata": {},
   "source": [
    "* Does participation vary by service type? by point of entry?"
   ]
  },
  {
   "cell_type": "code",
   "execution_count": 23,
   "id": "ea0870cd",
   "metadata": {},
   "outputs": [
    {
     "data": {
      "text/html": [
       "<div>\n",
       "<style scoped>\n",
       "    .dataframe tbody tr th:only-of-type {\n",
       "        vertical-align: middle;\n",
       "    }\n",
       "\n",
       "    .dataframe tbody tr th {\n",
       "        vertical-align: top;\n",
       "    }\n",
       "\n",
       "    .dataframe thead th {\n",
       "        text-align: right;\n",
       "    }\n",
       "</style>\n",
       "<table border=\"1\" class=\"dataframe\">\n",
       "  <thead>\n",
       "    <tr style=\"text-align: right;\">\n",
       "      <th></th>\n",
       "      <th>POE</th>\n",
       "      <th>Child ID</th>\n",
       "      <th>Referral Date</th>\n",
       "      <th>Exit Date</th>\n",
       "    </tr>\n",
       "  </thead>\n",
       "  <tbody>\n",
       "    <tr>\n",
       "      <th>0</th>\n",
       "      <td>ET</td>\n",
       "      <td>508615</td>\n",
       "      <td>2021-08-06</td>\n",
       "      <td>NaT</td>\n",
       "    </tr>\n",
       "    <tr>\n",
       "      <th>1</th>\n",
       "      <td>ET</td>\n",
       "      <td>488455</td>\n",
       "      <td>2021-11-02</td>\n",
       "      <td>NaT</td>\n",
       "    </tr>\n",
       "    <tr>\n",
       "      <th>2</th>\n",
       "      <td>ET</td>\n",
       "      <td>494500</td>\n",
       "      <td>2020-12-14</td>\n",
       "      <td>NaT</td>\n",
       "    </tr>\n",
       "    <tr>\n",
       "      <th>3</th>\n",
       "      <td>ET</td>\n",
       "      <td>515143</td>\n",
       "      <td>2021-11-22</td>\n",
       "      <td>NaT</td>\n",
       "    </tr>\n",
       "    <tr>\n",
       "      <th>4</th>\n",
       "      <td>ET</td>\n",
       "      <td>505490</td>\n",
       "      <td>2021-06-15</td>\n",
       "      <td>NaT</td>\n",
       "    </tr>\n",
       "  </tbody>\n",
       "</table>\n",
       "</div>"
      ],
      "text/plain": [
       "  POE  Child ID Referral Date Exit Date\n",
       "0  ET    508615    2021-08-06       NaT\n",
       "1  ET    488455    2021-11-02       NaT\n",
       "2  ET    494500    2020-12-14       NaT\n",
       "3  ET    515143    2021-11-22       NaT\n",
       "4  ET    505490    2021-06-15       NaT"
      ]
     },
     "execution_count": 23,
     "metadata": {},
     "output_type": "execute_result"
    }
   ],
   "source": [
    "# inspecting\n",
    "ifsps_df.head()"
   ]
  },
  {
   "cell_type": "code",
   "execution_count": 24,
   "id": "5126cc4e",
   "metadata": {},
   "outputs": [
    {
     "data": {
      "text/html": [
       "<div>\n",
       "<style scoped>\n",
       "    .dataframe tbody tr th:only-of-type {\n",
       "        vertical-align: middle;\n",
       "    }\n",
       "\n",
       "    .dataframe tbody tr th {\n",
       "        vertical-align: top;\n",
       "    }\n",
       "\n",
       "    .dataframe thead th {\n",
       "        text-align: right;\n",
       "    }\n",
       "</style>\n",
       "<table border=\"1\" class=\"dataframe\">\n",
       "  <thead>\n",
       "    <tr style=\"text-align: right;\">\n",
       "      <th></th>\n",
       "      <th>CHILD_ID</th>\n",
       "      <th>SERVICE_DATE</th>\n",
       "      <th>START_TIME</th>\n",
       "      <th>END_TIME</th>\n",
       "      <th>SERVICE_SETTING</th>\n",
       "      <th>SERVICE DELIVERY</th>\n",
       "      <th>ADD_USER</th>\n",
       "      <th>ADD_DATE</th>\n",
       "      <th>IFSP Teaming ID name</th>\n",
       "      <th>Agency Name</th>\n",
       "      <th>Agency Type</th>\n",
       "      <th>Service Name</th>\n",
       "      <th>TIME_DIFF</th>\n",
       "    </tr>\n",
       "  </thead>\n",
       "  <tbody>\n",
       "    <tr>\n",
       "      <th>0</th>\n",
       "      <td>457136</td>\n",
       "      <td>2022-01-21</td>\n",
       "      <td>09:30:00</td>\n",
       "      <td>10:30:00</td>\n",
       "      <td>Community-based</td>\n",
       "      <td>Service Delivered</td>\n",
       "      <td>LEECAROL1</td>\n",
       "      <td>2022-01-21 17:54:45</td>\n",
       "      <td>IEP Meeting</td>\n",
       "      <td>Siskin Children's Institute (EIRA)</td>\n",
       "      <td>EIRA</td>\n",
       "      <td>Dev. Therapy Prof - Home/Community</td>\n",
       "      <td>0 days 01:00:00</td>\n",
       "    </tr>\n",
       "    <tr>\n",
       "      <th>1</th>\n",
       "      <td>457136</td>\n",
       "      <td>2022-02-15</td>\n",
       "      <td>14:00:00</td>\n",
       "      <td>15:00:00</td>\n",
       "      <td>Community-based</td>\n",
       "      <td>Service Delivered</td>\n",
       "      <td>LEECAROL1</td>\n",
       "      <td>2022-02-16 05:29:12</td>\n",
       "      <td>Co-Visit</td>\n",
       "      <td>Siskin Children's Institute (EIRA)</td>\n",
       "      <td>EIRA</td>\n",
       "      <td>Dev. Therapy Prof - Home/Community</td>\n",
       "      <td>0 days 01:00:00</td>\n",
       "    </tr>\n",
       "    <tr>\n",
       "      <th>2</th>\n",
       "      <td>457585</td>\n",
       "      <td>2022-01-24</td>\n",
       "      <td>08:30:00</td>\n",
       "      <td>09:30:00</td>\n",
       "      <td>Telehealth</td>\n",
       "      <td>Service Delivered</td>\n",
       "      <td>MILLARDCATHERINE</td>\n",
       "      <td>2022-01-24 14:18:29</td>\n",
       "      <td>IEP Meeting</td>\n",
       "      <td>Siskin Children's Institute (EIRA)</td>\n",
       "      <td>EIRA</td>\n",
       "      <td>Dev. Therapy Prof - Home/Community</td>\n",
       "      <td>0 days 01:00:00</td>\n",
       "    </tr>\n",
       "  </tbody>\n",
       "</table>\n",
       "</div>"
      ],
      "text/plain": [
       "   CHILD_ID SERVICE_DATE START_TIME  END_TIME  SERVICE_SETTING  \\\n",
       "0    457136   2022-01-21   09:30:00  10:30:00  Community-based   \n",
       "1    457136   2022-02-15   14:00:00  15:00:00  Community-based   \n",
       "2    457585   2022-01-24   08:30:00  09:30:00       Telehealth   \n",
       "\n",
       "    SERVICE DELIVERY          ADD_USER            ADD_DATE  \\\n",
       "0  Service Delivered         LEECAROL1 2022-01-21 17:54:45   \n",
       "1  Service Delivered         LEECAROL1 2022-02-16 05:29:12   \n",
       "2  Service Delivered  MILLARDCATHERINE 2022-01-24 14:18:29   \n",
       "\n",
       "  IFSP Teaming ID name                         Agency Name Agency Type  \\\n",
       "0          IEP Meeting  Siskin Children's Institute (EIRA)        EIRA   \n",
       "1             Co-Visit  Siskin Children's Institute (EIRA)        EIRA   \n",
       "2          IEP Meeting  Siskin Children's Institute (EIRA)        EIRA   \n",
       "\n",
       "                         Service Name       TIME_DIFF  \n",
       "0  Dev. Therapy Prof - Home/Community 0 days 01:00:00  \n",
       "1  Dev. Therapy Prof - Home/Community 0 days 01:00:00  \n",
       "2  Dev. Therapy Prof - Home/Community 0 days 01:00:00  "
      ]
     },
     "execution_count": 24,
     "metadata": {},
     "output_type": "execute_result"
    }
   ],
   "source": [
    "# inspecting\n",
    "teaming_df.head(3)"
   ]
  },
  {
   "cell_type": "code",
   "execution_count": 25,
   "id": "4d564a98",
   "metadata": {},
   "outputs": [
    {
     "data": {
      "text/plain": [
       "ADD_USER\n",
       "REDDMISSY          52\n",
       "HARRISKATE         51\n",
       "WISHARTJENNIFER    43\n",
       "LONGJENNIFER2      42\n",
       "MCCOYANGIE         42\n",
       "                   ..\n",
       "CASHIONASHLEE       1\n",
       "REEDSONYA           1\n",
       "LANKFORDAMBER1      1\n",
       "ELLIOTTCHRISTIE     1\n",
       "ACRESDENA           1\n",
       "Name: CHILD_ID, Length: 529, dtype: int64"
      ]
     },
     "execution_count": 25,
     "metadata": {},
     "output_type": "execute_result"
    }
   ],
   "source": [
    "# Get individual add users' case load count\n",
    "count_per_user = teaming_df.groupby('ADD_USER')['CHILD_ID'].nunique()\n",
    "\n",
    "count_per_user_sorted = count_per_user.sort_values(ascending=False)\n",
    "\n",
    "count_per_user_sorted"
   ]
  },
  {
   "cell_type": "code",
   "execution_count": 26,
   "id": "3fc7759e",
   "metadata": {},
   "outputs": [
    {
     "name": "stdout",
     "output_type": "stream",
     "text": [
      "The average case load per manager is: 10.35\n"
     ]
    }
   ],
   "source": [
    "# Getting avg case load per case manager\n",
    "count_per_user = teaming_df.groupby('ADD_USER')['CHILD_ID'].nunique()\n",
    "\n",
    "count_per_user_avg =  count_per_user.mean()\n",
    "count_per_user_avg = count_per_user_avg.round(2)\n",
    "\n",
    "print(\"The average case load per manager is:\",count_per_user_avg)"
   ]
  },
  {
   "cell_type": "markdown",
   "id": "79bec368",
   "metadata": {},
   "source": [
    "# The average case load per manager is: 10.35"
   ]
  },
  {
   "cell_type": "code",
   "execution_count": 27,
   "id": "8b2e15de",
   "metadata": {},
   "outputs": [
    {
     "data": {
      "text/html": [
       "<div>\n",
       "<style scoped>\n",
       "    .dataframe tbody tr th:only-of-type {\n",
       "        vertical-align: middle;\n",
       "    }\n",
       "\n",
       "    .dataframe tbody tr th {\n",
       "        vertical-align: top;\n",
       "    }\n",
       "\n",
       "    .dataframe thead th {\n",
       "        text-align: right;\n",
       "    }\n",
       "</style>\n",
       "<table border=\"1\" class=\"dataframe\">\n",
       "  <thead>\n",
       "    <tr style=\"text-align: right;\">\n",
       "      <th></th>\n",
       "      <th>CHILD_ID</th>\n",
       "    </tr>\n",
       "    <tr>\n",
       "      <th>SERVICE_SETTING</th>\n",
       "      <th></th>\n",
       "    </tr>\n",
       "  </thead>\n",
       "  <tbody>\n",
       "    <tr>\n",
       "      <th>Telehealth</th>\n",
       "      <td>2563</td>\n",
       "    </tr>\n",
       "    <tr>\n",
       "      <th>Home</th>\n",
       "      <td>2271</td>\n",
       "    </tr>\n",
       "    <tr>\n",
       "      <th>Community-based</th>\n",
       "      <td>850</td>\n",
       "    </tr>\n",
       "    <tr>\n",
       "      <th>Other</th>\n",
       "      <td>332</td>\n",
       "    </tr>\n",
       "  </tbody>\n",
       "</table>\n",
       "</div>"
      ],
      "text/plain": [
       "                 CHILD_ID\n",
       "SERVICE_SETTING          \n",
       "Telehealth           2563\n",
       "Home                 2271\n",
       "Community-based       850\n",
       "Other                 332"
      ]
     },
     "execution_count": 27,
     "metadata": {},
     "output_type": "execute_result"
    }
   ],
   "source": [
    "# Count the unique CHILD_IDs per ADD_USER\n",
    "count_per_service_setting = teaming_df.groupby('SERVICE_SETTING')['CHILD_ID'].nunique()\n",
    "\n",
    "count_per_service_setting = count_per_service_setting.sort_values(ascending=False)\n",
    "\n",
    "\n",
    "count_per_service_setting = pd.DataFrame(count_per_service_setting)\n",
    "count_per_service_setting"
   ]
  },
  {
   "cell_type": "code",
   "execution_count": 28,
   "id": "9348e61f",
   "metadata": {},
   "outputs": [
    {
     "data": {
      "image/png": "[encoded data removed]",
      "text/plain": [
       "<Figure size 640x480 with 1 Axes>"
      ]
     },
     "metadata": {},
     "output_type": "display_data"
    }
   ],
   "source": [
    "# visualizing service setting breakdown\n",
    "plt.pie(count_per_service_setting['CHILD_ID'], labels=count_per_service_setting.index, autopct='%1.1f%%')\n",
    "\n",
    "plt.title('Child Count by Service Setting')\n",
    "\n",
    "plt.show()\n"
   ]
  },
  {
   "cell_type": "code",
   "execution_count": null,
   "id": "140513a6",
   "metadata": {},
   "outputs": [],
   "source": []
  }
 ],
 "metadata": {
  "kernelspec": {
   "display_name": "Python 3 (ipykernel)",
   "language": "python",
   "name": "python3"
  },
  "language_info": {
   "codemirror_mode": {
    "name": "ipython",
    "version": 3
   },
   "file_extension": ".py",
   "mimetype": "text/x-python",
   "name": "python",
   "nbconvert_exporter": "python",
   "pygments_lexer": "ipython3",
   "version": "3.10.9"
  }
 },
 "nbformat": 4,
 "nbformat_minor": 5
}
