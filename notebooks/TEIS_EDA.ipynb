{
 "cells": [
  {
   "cell_type": "code",
   "execution_count": 3,
   "metadata": {},
   "outputs": [],
   "source": [
    "import pandas as pd\n",
    "import matplotlib"
   ]
  },
  {
   "cell_type": "code",
   "execution_count": 4,
   "metadata": {},
   "outputs": [
    {
     "name": "stderr",
     "output_type": "stream",
     "text": [
      "c:\\Users\\melan\\anaconda3\\lib\\site-packages\\openpyxl\\worksheet\\_read_only.py:79: UserWarning: Unknown extension is not supported and will be removed\n",
      "  for idx, row in parser.parse():\n"
     ]
    }
   ],
   "source": [
    "xls = pd.ExcelFile(r\"C:\\Users\\melan\\Documents\\DA8\\Projects\\teis_da8_1-sockswithsandals\\TEIS_IFSP_Teaming_Jan_2022-_Jan_2023 (1).xlsx\")\n",
    "df1 = pd.read_excel(xls, 0)\n",
    "df2 = pd.read_excel(xls, 1)"
   ]
  },
  {
   "cell_type": "code",
   "execution_count": 5,
   "metadata": {},
   "outputs": [
    {
     "data": {
      "text/plain": [
       "<bound method NDFrame.head of       CHILD_ID SERVICE_DATE START_TIME  END_TIME  SERVICE_SETTING  \\\n",
       "0       457136   2022-01-21   09:30:00  10:30:00  Community-based   \n",
       "1       457136   2022-02-15   14:00:00  15:00:00  Community-based   \n",
       "2       457585   2022-01-24   08:30:00  09:30:00       Telehealth   \n",
       "3       457852   2022-01-12   14:00:00  15:00:00  Community-based   \n",
       "4       458051   2022-01-12   12:00:00  13:00:00       Telehealth   \n",
       "...        ...          ...        ...       ...              ...   \n",
       "9538    541337   2023-01-10   15:00:00  16:00:00             Home   \n",
       "9539    541511   2023-01-19   13:30:00  14:30:00             Home   \n",
       "9540    541890   2023-01-19   09:00:00  10:00:00             Home   \n",
       "9541    542077   2023-01-30   14:30:00  15:20:00       Telehealth   \n",
       "9542    542122   2023-01-30   13:00:00  14:00:00             Home   \n",
       "\n",
       "       SERVICE DELIVERY          ADD_USER            ADD_DATE  \\\n",
       "0     Service Delivered         LEECAROL1 2022-01-21 17:54:45   \n",
       "1     Service Delivered         LEECAROL1 2022-02-16 05:29:12   \n",
       "2     Service Delivered  MILLARDCATHERINE 2022-01-24 14:18:29   \n",
       "3     Service Delivered       HEMELKATIE1 2022-01-18 10:39:51   \n",
       "4     Service Delivered        JONESMEGAN 2022-01-12 13:46:48   \n",
       "...                 ...               ...                 ...   \n",
       "9538  Service Delivered           WESTAMY 2023-01-12 17:55:59   \n",
       "9539  Service Delivered           WESTAMY 2023-01-20 16:11:04   \n",
       "9540  Service Delivered           WESTAMY 2023-01-20 10:23:05   \n",
       "9541  Service Delivered   FANELLASAMANTHA 2023-01-30 15:21:59   \n",
       "9542  Service Delivered        QUINNEMILY 2023-02-02 21:54:53   \n",
       "\n",
       "     IFSP Teaming ID name                         Agency Name Agency Type  \\\n",
       "0             IEP Meeting  Siskin Children's Institute (EIRA)        EIRA   \n",
       "1                Co-Visit  Siskin Children's Institute (EIRA)        EIRA   \n",
       "2             IEP Meeting  Siskin Children's Institute (EIRA)        EIRA   \n",
       "3             IEP Meeting                               LTVEC        EIRA   \n",
       "4            IFSP Meeting             First Steps, Inc (EIRA)        EIRA   \n",
       "...                   ...                                 ...         ...   \n",
       "9538             Co-Visit                  Kid's Putnam, Inc.        EIRA   \n",
       "9539             Co-Visit                  Kid's Putnam, Inc.        EIRA   \n",
       "9540             Co-Visit                  Kid's Putnam, Inc.        EIRA   \n",
       "9541         IFSP Meeting           Pediatric Language Clinic        EIRA   \n",
       "9542             Co-Visit  Little Folks Arc of Washington Co.        EIRA   \n",
       "\n",
       "                            Service Name  \n",
       "0     Dev. Therapy Prof - Home/Community  \n",
       "1     Dev. Therapy Prof - Home/Community  \n",
       "2     Dev. Therapy Prof - Home/Community  \n",
       "3     Dev. Therapy Prof - Home/Community  \n",
       "4     Dev. Therapy Prof - Home/Community  \n",
       "...                                  ...  \n",
       "9538  Dev. Therapy Prof - Home/Community  \n",
       "9539  Dev. Therapy Prof - Home/Community  \n",
       "9540  Dev. Therapy Prof - Home/Community  \n",
       "9541  Dev. Therapy Prof - Home/Community  \n",
       "9542  Dev. Therapy Prof - Home/Community  \n",
       "\n",
       "[9543 rows x 12 columns]>"
      ]
     },
     "execution_count": 5,
     "metadata": {},
     "output_type": "execute_result"
    }
   ],
   "source": [
    "df1.head"
   ]
  },
  {
   "cell_type": "code",
   "execution_count": 6,
   "metadata": {},
   "outputs": [
    {
     "data": {
      "text/plain": [
       "<bound method NDFrame.tail of       CHILD_ID SERVICE_DATE START_TIME  END_TIME  SERVICE_SETTING  \\\n",
       "0       457136   2022-01-21   09:30:00  10:30:00  Community-based   \n",
       "1       457136   2022-02-15   14:00:00  15:00:00  Community-based   \n",
       "2       457585   2022-01-24   08:30:00  09:30:00       Telehealth   \n",
       "3       457852   2022-01-12   14:00:00  15:00:00  Community-based   \n",
       "4       458051   2022-01-12   12:00:00  13:00:00       Telehealth   \n",
       "...        ...          ...        ...       ...              ...   \n",
       "9538    541337   2023-01-10   15:00:00  16:00:00             Home   \n",
       "9539    541511   2023-01-19   13:30:00  14:30:00             Home   \n",
       "9540    541890   2023-01-19   09:00:00  10:00:00             Home   \n",
       "9541    542077   2023-01-30   14:30:00  15:20:00       Telehealth   \n",
       "9542    542122   2023-01-30   13:00:00  14:00:00             Home   \n",
       "\n",
       "       SERVICE DELIVERY          ADD_USER            ADD_DATE  \\\n",
       "0     Service Delivered         LEECAROL1 2022-01-21 17:54:45   \n",
       "1     Service Delivered         LEECAROL1 2022-02-16 05:29:12   \n",
       "2     Service Delivered  MILLARDCATHERINE 2022-01-24 14:18:29   \n",
       "3     Service Delivered       HEMELKATIE1 2022-01-18 10:39:51   \n",
       "4     Service Delivered        JONESMEGAN 2022-01-12 13:46:48   \n",
       "...                 ...               ...                 ...   \n",
       "9538  Service Delivered           WESTAMY 2023-01-12 17:55:59   \n",
       "9539  Service Delivered           WESTAMY 2023-01-20 16:11:04   \n",
       "9540  Service Delivered           WESTAMY 2023-01-20 10:23:05   \n",
       "9541  Service Delivered   FANELLASAMANTHA 2023-01-30 15:21:59   \n",
       "9542  Service Delivered        QUINNEMILY 2023-02-02 21:54:53   \n",
       "\n",
       "     IFSP Teaming ID name                         Agency Name Agency Type  \\\n",
       "0             IEP Meeting  Siskin Children's Institute (EIRA)        EIRA   \n",
       "1                Co-Visit  Siskin Children's Institute (EIRA)        EIRA   \n",
       "2             IEP Meeting  Siskin Children's Institute (EIRA)        EIRA   \n",
       "3             IEP Meeting                               LTVEC        EIRA   \n",
       "4            IFSP Meeting             First Steps, Inc (EIRA)        EIRA   \n",
       "...                   ...                                 ...         ...   \n",
       "9538             Co-Visit                  Kid's Putnam, Inc.        EIRA   \n",
       "9539             Co-Visit                  Kid's Putnam, Inc.        EIRA   \n",
       "9540             Co-Visit                  Kid's Putnam, Inc.        EIRA   \n",
       "9541         IFSP Meeting           Pediatric Language Clinic        EIRA   \n",
       "9542             Co-Visit  Little Folks Arc of Washington Co.        EIRA   \n",
       "\n",
       "                            Service Name  \n",
       "0     Dev. Therapy Prof - Home/Community  \n",
       "1     Dev. Therapy Prof - Home/Community  \n",
       "2     Dev. Therapy Prof - Home/Community  \n",
       "3     Dev. Therapy Prof - Home/Community  \n",
       "4     Dev. Therapy Prof - Home/Community  \n",
       "...                                  ...  \n",
       "9538  Dev. Therapy Prof - Home/Community  \n",
       "9539  Dev. Therapy Prof - Home/Community  \n",
       "9540  Dev. Therapy Prof - Home/Community  \n",
       "9541  Dev. Therapy Prof - Home/Community  \n",
       "9542  Dev. Therapy Prof - Home/Community  \n",
       "\n",
       "[9543 rows x 12 columns]>"
      ]
     },
     "execution_count": 6,
     "metadata": {},
     "output_type": "execute_result"
    }
   ],
   "source": [
    "df1.tail"
   ]
  },
  {
   "cell_type": "code",
   "execution_count": 7,
   "metadata": {},
   "outputs": [
    {
     "data": {
      "text/plain": [
       "(9543, 12)"
      ]
     },
     "execution_count": 7,
     "metadata": {},
     "output_type": "execute_result"
    }
   ],
   "source": [
    "df1.shape"
   ]
  },
  {
   "cell_type": "code",
   "execution_count": 8,
   "metadata": {},
   "outputs": [
    {
     "data": {
      "text/plain": [
       "<bound method NDFrame.head of        POE  Child ID Referral Date  Exit Date\n",
       "0       ET    508615    2021-08-06        NaT\n",
       "1       ET    488455    2021-11-02        NaT\n",
       "2       ET    494500    2020-12-14        NaT\n",
       "3       ET    515143    2021-11-22        NaT\n",
       "4       ET    505490    2021-06-15        NaT\n",
       "...     ..       ...           ...        ...\n",
       "138659  UC    539845    2022-11-03        NaT\n",
       "138660  UC    499575    2021-03-11        NaT\n",
       "138661  UC    540987    2022-11-16        NaT\n",
       "138662  UC    526430    2022-07-19 2023-02-13\n",
       "138663  UC    545101    2023-01-17        NaT\n",
       "\n",
       "[138664 rows x 4 columns]>"
      ]
     },
     "execution_count": 8,
     "metadata": {},
     "output_type": "execute_result"
    }
   ],
   "source": [
    "df2.head"
   ]
  },
  {
   "cell_type": "code",
   "execution_count": 9,
   "metadata": {},
   "outputs": [
    {
     "data": {
      "text/plain": [
       "<bound method NDFrame.tail of        POE  Child ID Referral Date  Exit Date\n",
       "0       ET    508615    2021-08-06        NaT\n",
       "1       ET    488455    2021-11-02        NaT\n",
       "2       ET    494500    2020-12-14        NaT\n",
       "3       ET    515143    2021-11-22        NaT\n",
       "4       ET    505490    2021-06-15        NaT\n",
       "...     ..       ...           ...        ...\n",
       "138659  UC    539845    2022-11-03        NaT\n",
       "138660  UC    499575    2021-03-11        NaT\n",
       "138661  UC    540987    2022-11-16        NaT\n",
       "138662  UC    526430    2022-07-19 2023-02-13\n",
       "138663  UC    545101    2023-01-17        NaT\n",
       "\n",
       "[138664 rows x 4 columns]>"
      ]
     },
     "execution_count": 9,
     "metadata": {},
     "output_type": "execute_result"
    }
   ],
   "source": [
    "df2.tail"
   ]
  },
  {
   "cell_type": "code",
   "execution_count": 10,
   "metadata": {},
   "outputs": [
    {
     "data": {
      "text/plain": [
       "(138664, 4)"
      ]
     },
     "execution_count": 10,
     "metadata": {},
     "output_type": "execute_result"
    }
   ],
   "source": [
    "df2.shape"
   ]
  },
  {
   "cell_type": "code",
   "execution_count": 11,
   "metadata": {},
   "outputs": [
    {
     "data": {
      "text/plain": [
       "pandas.core.frame.DataFrame"
      ]
     },
     "execution_count": 11,
     "metadata": {},
     "output_type": "execute_result"
    }
   ],
   "source": [
    "type(df1)"
   ]
  },
  {
   "cell_type": "code",
   "execution_count": 34,
   "metadata": {},
   "outputs": [],
   "source": [
    "df1 = df1.rename(columns = {'CHILD_ID' : 'child_id',\n",
    " 'SERVICE_DATE' : 'service_date',\n",
    " 'START_TIME' : 'start_time',\n",
    " 'END_TIME' : 'end_time',\n",
    " 'SERVICE_SETTING' : 'service_setting',\n",
    " 'SERVICE DELIVERY' : 'service_delivery',\n",
    " 'ADD_USER' : 'add_user',\n",
    " 'ADD_DATE' : 'add_date',\n",
    " 'IFSP Teaming ID name' : 'ifsp_teaming_id_name',\n",
    " 'Agency Name' : 'agency_name',\n",
    " 'Agency Type' : 'agency_type',\n",
    " 'Service Name' : 'service_name'})"
   ]
  },
  {
   "cell_type": "code",
   "execution_count": 35,
   "metadata": {},
   "outputs": [],
   "source": [
    "df2 = df2.rename(columns = {'POE' : 'poe', 'Child ID' : 'child_id', 'Referral Date' : 'referral_date', 'Exit Date' : 'exit_date'})"
   ]
  },
  {
   "cell_type": "code",
   "execution_count": 36,
   "metadata": {},
   "outputs": [
    {
     "data": {
      "text/plain": [
       "child_id                4789\n",
       "service_date             291\n",
       "start_time               223\n",
       "end_time                 291\n",
       "service_setting            4\n",
       "service_delivery           4\n",
       "add_user                 529\n",
       "add_date                9541\n",
       "ifsp_teaming_id_name       3\n",
       "agency_name               85\n",
       "agency_type                3\n",
       "service_name              23\n",
       "dtype: int64"
      ]
     },
     "execution_count": 36,
     "metadata": {},
     "output_type": "execute_result"
    }
   ],
   "source": [
    "df1.nunique()"
   ]
  },
  {
   "cell_type": "code",
   "execution_count": 37,
   "metadata": {},
   "outputs": [
    {
     "data": {
      "text/plain": [
       "poe                  9\n",
       "child_id         19623\n",
       "referral_date      993\n",
       "exit_date          423\n",
       "dtype: int64"
      ]
     },
     "execution_count": 37,
     "metadata": {},
     "output_type": "execute_result"
    }
   ],
   "source": [
    "df2.nunique()"
   ]
  },
  {
   "cell_type": "code",
   "execution_count": null,
   "metadata": {},
   "outputs": [],
   "source": []
  }
 ],
 "metadata": {
  "kernelspec": {
   "display_name": "base",
   "language": "python",
   "name": "python3"
  },
  "language_info": {
   "codemirror_mode": {
    "name": "ipython",
    "version": 3
   },
   "file_extension": ".py",
   "mimetype": "text/x-python",
   "name": "python",
   "nbconvert_exporter": "python",
   "pygments_lexer": "ipython3",
   "version": "3.10.9"
  },
  "orig_nbformat": 4
 },
 "nbformat": 4,
 "nbformat_minor": 2
}
