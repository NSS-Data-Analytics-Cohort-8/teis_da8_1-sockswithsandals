{
 "cells": [
  {
   "cell_type": "markdown",
   "id": "82572430",
   "metadata": {},
   "source": [
    "##READ ME\n",
    "##TEIS IFSP Teaming Data Question\n",
    "\n",
    "[The Tennessee Early Intervention System (TEIS)](https://www.tn.gov/didd/for-consumers/tennessee-early-intervention-system-teis.html) is a program that provides services to children ages birth up to age three who have disabilities or other developmental delays. In this project, you'll be looking into how teams that support children work together. \n",
    "\n",
    "You've been provided a spreadsheet containing data on children who received IFSP Teaming services. This spreadsheet is divided into two tabs.\n",
    "* Tab 1 contains log details of all children receiving IFSP Teaming services between January 1, 2022 and January 31, 2023. See the data dictionary for a description of each column.\n",
    "* Tab 2 contains a list of all children with IFSPs during the same timeframe. This includes a point of entry office, a referral date and an exit date.\n",
    "\n",
    "Analysis Questions:\n",
    "* How many children are receiving co-visits? What is the rate of co-visits? That is, out of children how have an IFSP, how many are receiving co-visits?\n",
    "* Children can have up to 6 co-visits per year. How many are recieving all 6 visits? Are there any who are exceeding 6 visits?\n",
    "* What is the cadence of co-visits?\n",
    "* In what setting do co-visits typically occur?\n",
    "* Who is performing co-visits? Are they generally performed by the same provider or discipline or by multiple providers or disciplines? Is it more likely for a co-visit to occur if vendor services are within th esame agency? \n",
    "* Does participation vary by service type? by point of entry?"
   ]
  },
  {
   "cell_type": "code",
   "execution_count": 1,
   "id": "407a388e",
   "metadata": {},
   "outputs": [],
   "source": [
    "import pandas as pd\n",
    "import numpy as np\n",
    "import matplotlib.pyplot as plt\n",
    "import seaborn as sns"
   ]
  },
  {
   "cell_type": "code",
   "execution_count": 2,
   "id": "cf7f7563",
   "metadata": {},
   "outputs": [],
   "source": [
    "##EDA....part 1 import sreadsheet\n",
    "##https://stackoverflow.com/questions/26521266/using-pandas-to-pd-read-excel-for-multiple-worksheets-of-the-same-workbook\n",
    "## xls = pd.ExcelFile('path_to_file.xls')\n",
    "## df1 = pd.read_excel(xls, 'Sheet1')\n",
    "## df2 = pd.read_excel(xls, 'Sheet2')\n",
    "\n",
    "xlsx_teis = pd.ExcelFile('../data/TEIS_IFSP_Teaming_Jan_2022-_Jan_2023.xlsx')\n",
    "compiled_df1 = pd.read_excel(xlsx_teis, 'Compiled_IFSP Teaming')\n",
    "children_df2 = pd.read_excel(xlsx_teis, 'All Children with IFSPs')\n"
   ]
  },
  {
   "cell_type": "code",
   "execution_count": 3,
   "id": "965bc2be",
   "metadata": {},
   "outputs": [
    {
     "data": {
      "text/html": [
       "<div>\n",
       "<style scoped>\n",
       "    .dataframe tbody tr th:only-of-type {\n",
       "        vertical-align: middle;\n",
       "    }\n",
       "\n",
       "    .dataframe tbody tr th {\n",
       "        vertical-align: top;\n",
       "    }\n",
       "\n",
       "    .dataframe thead th {\n",
       "        text-align: right;\n",
       "    }\n",
       "</style>\n",
       "<table border=\"1\" class=\"dataframe\">\n",
       "  <thead>\n",
       "    <tr style=\"text-align: right;\">\n",
       "      <th></th>\n",
       "      <th>CHILD_ID</th>\n",
       "      <th>SERVICE_DATE</th>\n",
       "      <th>START_TIME</th>\n",
       "      <th>END_TIME</th>\n",
       "      <th>SERVICE_SETTING</th>\n",
       "      <th>SERVICE DELIVERY</th>\n",
       "      <th>ADD_USER</th>\n",
       "      <th>ADD_DATE</th>\n",
       "      <th>IFSP Teaming ID name</th>\n",
       "      <th>Agency Name</th>\n",
       "      <th>Agency Type</th>\n",
       "      <th>Service Name</th>\n",
       "    </tr>\n",
       "  </thead>\n",
       "  <tbody>\n",
       "    <tr>\n",
       "      <th>0</th>\n",
       "      <td>457136</td>\n",
       "      <td>2022-01-21</td>\n",
       "      <td>09:30:00</td>\n",
       "      <td>10:30:00</td>\n",
       "      <td>Community-based</td>\n",
       "      <td>Service Delivered</td>\n",
       "      <td>LEECAROL1</td>\n",
       "      <td>2022-01-21 17:54:45</td>\n",
       "      <td>IEP Meeting</td>\n",
       "      <td>Siskin Children's Institute (EIRA)</td>\n",
       "      <td>EIRA</td>\n",
       "      <td>Dev. Therapy Prof - Home/Community</td>\n",
       "    </tr>\n",
       "    <tr>\n",
       "      <th>1</th>\n",
       "      <td>457136</td>\n",
       "      <td>2022-02-15</td>\n",
       "      <td>14:00:00</td>\n",
       "      <td>15:00:00</td>\n",
       "      <td>Community-based</td>\n",
       "      <td>Service Delivered</td>\n",
       "      <td>LEECAROL1</td>\n",
       "      <td>2022-02-16 05:29:12</td>\n",
       "      <td>Co-Visit</td>\n",
       "      <td>Siskin Children's Institute (EIRA)</td>\n",
       "      <td>EIRA</td>\n",
       "      <td>Dev. Therapy Prof - Home/Community</td>\n",
       "    </tr>\n",
       "    <tr>\n",
       "      <th>2</th>\n",
       "      <td>457585</td>\n",
       "      <td>2022-01-24</td>\n",
       "      <td>08:30:00</td>\n",
       "      <td>09:30:00</td>\n",
       "      <td>Telehealth</td>\n",
       "      <td>Service Delivered</td>\n",
       "      <td>MILLARDCATHERINE</td>\n",
       "      <td>2022-01-24 14:18:29</td>\n",
       "      <td>IEP Meeting</td>\n",
       "      <td>Siskin Children's Institute (EIRA)</td>\n",
       "      <td>EIRA</td>\n",
       "      <td>Dev. Therapy Prof - Home/Community</td>\n",
       "    </tr>\n",
       "    <tr>\n",
       "      <th>3</th>\n",
       "      <td>457852</td>\n",
       "      <td>2022-01-12</td>\n",
       "      <td>14:00:00</td>\n",
       "      <td>15:00:00</td>\n",
       "      <td>Community-based</td>\n",
       "      <td>Service Delivered</td>\n",
       "      <td>HEMELKATIE1</td>\n",
       "      <td>2022-01-18 10:39:51</td>\n",
       "      <td>IEP Meeting</td>\n",
       "      <td>LTVEC</td>\n",
       "      <td>EIRA</td>\n",
       "      <td>Dev. Therapy Prof - Home/Community</td>\n",
       "    </tr>\n",
       "    <tr>\n",
       "      <th>4</th>\n",
       "      <td>458051</td>\n",
       "      <td>2022-01-12</td>\n",
       "      <td>12:00:00</td>\n",
       "      <td>13:00:00</td>\n",
       "      <td>Telehealth</td>\n",
       "      <td>Service Delivered</td>\n",
       "      <td>JONESMEGAN</td>\n",
       "      <td>2022-01-12 13:46:48</td>\n",
       "      <td>IFSP Meeting</td>\n",
       "      <td>First Steps, Inc (EIRA)</td>\n",
       "      <td>EIRA</td>\n",
       "      <td>Dev. Therapy Prof - Home/Community</td>\n",
       "    </tr>\n",
       "  </tbody>\n",
       "</table>\n",
       "</div>"
      ],
      "text/plain": [
       "   CHILD_ID SERVICE_DATE START_TIME  END_TIME  SERVICE_SETTING  \\\n",
       "0    457136   2022-01-21   09:30:00  10:30:00  Community-based   \n",
       "1    457136   2022-02-15   14:00:00  15:00:00  Community-based   \n",
       "2    457585   2022-01-24   08:30:00  09:30:00       Telehealth   \n",
       "3    457852   2022-01-12   14:00:00  15:00:00  Community-based   \n",
       "4    458051   2022-01-12   12:00:00  13:00:00       Telehealth   \n",
       "\n",
       "    SERVICE DELIVERY          ADD_USER            ADD_DATE  \\\n",
       "0  Service Delivered         LEECAROL1 2022-01-21 17:54:45   \n",
       "1  Service Delivered         LEECAROL1 2022-02-16 05:29:12   \n",
       "2  Service Delivered  MILLARDCATHERINE 2022-01-24 14:18:29   \n",
       "3  Service Delivered       HEMELKATIE1 2022-01-18 10:39:51   \n",
       "4  Service Delivered        JONESMEGAN 2022-01-12 13:46:48   \n",
       "\n",
       "  IFSP Teaming ID name                         Agency Name Agency Type  \\\n",
       "0          IEP Meeting  Siskin Children's Institute (EIRA)        EIRA   \n",
       "1             Co-Visit  Siskin Children's Institute (EIRA)        EIRA   \n",
       "2          IEP Meeting  Siskin Children's Institute (EIRA)        EIRA   \n",
       "3          IEP Meeting                               LTVEC        EIRA   \n",
       "4         IFSP Meeting             First Steps, Inc (EIRA)        EIRA   \n",
       "\n",
       "                         Service Name  \n",
       "0  Dev. Therapy Prof - Home/Community  \n",
       "1  Dev. Therapy Prof - Home/Community  \n",
       "2  Dev. Therapy Prof - Home/Community  \n",
       "3  Dev. Therapy Prof - Home/Community  \n",
       "4  Dev. Therapy Prof - Home/Community  "
      ]
     },
     "execution_count": 3,
     "metadata": {},
     "output_type": "execute_result"
    }
   ],
   "source": [
    "compiled_df1.head() "
   ]
  },
  {
   "cell_type": "code",
   "execution_count": 4,
   "id": "8c6ef761",
   "metadata": {},
   "outputs": [
    {
     "data": {
      "text/html": [
       "<div>\n",
       "<style scoped>\n",
       "    .dataframe tbody tr th:only-of-type {\n",
       "        vertical-align: middle;\n",
       "    }\n",
       "\n",
       "    .dataframe tbody tr th {\n",
       "        vertical-align: top;\n",
       "    }\n",
       "\n",
       "    .dataframe thead th {\n",
       "        text-align: right;\n",
       "    }\n",
       "</style>\n",
       "<table border=\"1\" class=\"dataframe\">\n",
       "  <thead>\n",
       "    <tr style=\"text-align: right;\">\n",
       "      <th></th>\n",
       "      <th>POE</th>\n",
       "      <th>Child ID</th>\n",
       "      <th>Referral Date</th>\n",
       "      <th>Exit Date</th>\n",
       "    </tr>\n",
       "  </thead>\n",
       "  <tbody>\n",
       "    <tr>\n",
       "      <th>0</th>\n",
       "      <td>ET</td>\n",
       "      <td>508615</td>\n",
       "      <td>2021-08-06</td>\n",
       "      <td>NaT</td>\n",
       "    </tr>\n",
       "    <tr>\n",
       "      <th>1</th>\n",
       "      <td>ET</td>\n",
       "      <td>488455</td>\n",
       "      <td>2021-11-02</td>\n",
       "      <td>NaT</td>\n",
       "    </tr>\n",
       "    <tr>\n",
       "      <th>2</th>\n",
       "      <td>ET</td>\n",
       "      <td>494500</td>\n",
       "      <td>2020-12-14</td>\n",
       "      <td>NaT</td>\n",
       "    </tr>\n",
       "    <tr>\n",
       "      <th>3</th>\n",
       "      <td>ET</td>\n",
       "      <td>515143</td>\n",
       "      <td>2021-11-22</td>\n",
       "      <td>NaT</td>\n",
       "    </tr>\n",
       "    <tr>\n",
       "      <th>4</th>\n",
       "      <td>ET</td>\n",
       "      <td>505490</td>\n",
       "      <td>2021-06-15</td>\n",
       "      <td>NaT</td>\n",
       "    </tr>\n",
       "  </tbody>\n",
       "</table>\n",
       "</div>"
      ],
      "text/plain": [
       "  POE  Child ID Referral Date Exit Date\n",
       "0  ET    508615    2021-08-06       NaT\n",
       "1  ET    488455    2021-11-02       NaT\n",
       "2  ET    494500    2020-12-14       NaT\n",
       "3  ET    515143    2021-11-22       NaT\n",
       "4  ET    505490    2021-06-15       NaT"
      ]
     },
     "execution_count": 4,
     "metadata": {},
     "output_type": "execute_result"
    }
   ],
   "source": [
    "children_df2.head()"
   ]
  },
  {
   "cell_type": "code",
   "execution_count": 5,
   "id": "6d9e05da",
   "metadata": {},
   "outputs": [
    {
     "name": "stdout",
     "output_type": "stream",
     "text": [
      "<class 'pandas.core.frame.DataFrame'>\n",
      "RangeIndex: 9543 entries, 0 to 9542\n",
      "Data columns (total 12 columns):\n",
      " #   Column                Non-Null Count  Dtype         \n",
      "---  ------                --------------  -----         \n",
      " 0   CHILD_ID              9543 non-null   int64         \n",
      " 1   SERVICE_DATE          9543 non-null   datetime64[ns]\n",
      " 2   START_TIME            9532 non-null   object        \n",
      " 3   END_TIME              9532 non-null   object        \n",
      " 4   SERVICE_SETTING       9533 non-null   object        \n",
      " 5   SERVICE DELIVERY      9543 non-null   object        \n",
      " 6   ADD_USER              9543 non-null   object        \n",
      " 7   ADD_DATE              9543 non-null   datetime64[ns]\n",
      " 8   IFSP Teaming ID name  9543 non-null   object        \n",
      " 9   Agency Name           9543 non-null   object        \n",
      " 10  Agency Type           9543 non-null   object        \n",
      " 11  Service Name          9543 non-null   object        \n",
      "dtypes: datetime64[ns](2), int64(1), object(9)\n",
      "memory usage: 894.8+ KB\n",
      "None\n",
      "<class 'pandas.core.frame.DataFrame'>\n",
      "RangeIndex: 138664 entries, 0 to 138663\n",
      "Data columns (total 4 columns):\n",
      " #   Column         Non-Null Count   Dtype         \n",
      "---  ------         --------------   -----         \n",
      " 0   POE            138664 non-null  object        \n",
      " 1   Child ID       138664 non-null  int64         \n",
      " 2   Referral Date  138664 non-null  datetime64[ns]\n",
      " 3   Exit Date      15607 non-null   datetime64[ns]\n",
      "dtypes: datetime64[ns](2), int64(1), object(1)\n",
      "memory usage: 4.2+ MB\n",
      "None\n"
     ]
    }
   ],
   "source": [
    "print(compiled_df1.info(verbose=True))\n",
    "print(children_df2.info(verbose=True))"
   ]
  },
  {
   "cell_type": "code",
   "execution_count": 6,
   "id": "4004c950",
   "metadata": {},
   "outputs": [
    {
     "name": "stdout",
     "output_type": "stream",
     "text": [
      "            CHILD_ID\n",
      "count    9543.000000\n",
      "mean   503923.012051\n",
      "std     17148.944343\n",
      "min    457136.000000\n",
      "25%    492312.500000\n",
      "50%    505531.000000\n",
      "75%    515686.000000\n",
      "max    542122.000000\n",
      "<class 'pandas.core.frame.DataFrame'>\n",
      "RangeIndex: 138664 entries, 0 to 138663\n",
      "Data columns (total 4 columns):\n",
      " #   Column         Non-Null Count   Dtype         \n",
      "---  ------         --------------   -----         \n",
      " 0   POE            138664 non-null  object        \n",
      " 1   Child ID       138664 non-null  int64         \n",
      " 2   Referral Date  138664 non-null  datetime64[ns]\n",
      " 3   Exit Date      15607 non-null   datetime64[ns]\n",
      "dtypes: datetime64[ns](2), int64(1), object(1)\n",
      "memory usage: 4.2+ MB\n",
      "None\n"
     ]
    }
   ],
   "source": [
    "print(compiled_df1.describe())\n",
    "print(children_df2.info())"
   ]
  },
  {
   "cell_type": "code",
   "execution_count": 7,
   "id": "dc653aa6",
   "metadata": {},
   "outputs": [
    {
     "name": "stdout",
     "output_type": "stream",
     "text": [
      "2022-01-03 00:00:00\n",
      "2023-01-31 00:00:00\n",
      "2019-01-11 00:00:00\n",
      "2023-01-31 00:00:00\n",
      "NaT\n",
      "NaT\n"
     ]
    }
   ],
   "source": [
    "## min / max dates in compiled_df1 / children_df2\n",
    "##https://stackoverflow.com/questions/23178129/getting-min-and-max-dates-from-a-pandas-dataframe\n",
    "##min(df['some_property']) / max(df['some_property'])\n",
    "\n",
    "print(min(compiled_df1['SERVICE_DATE']))\n",
    "print(max(compiled_df1['SERVICE_DATE']))\n",
    "print(min(children_df2['Referral Date']))\n",
    "print(max(children_df2['Referral Date']))\n",
    "print(min(children_df2['Exit Date']))\n",
    "print(max(children_df2['Exit Date']))"
   ]
  },
  {
   "cell_type": "code",
   "execution_count": 8,
   "id": "e18a5e4a",
   "metadata": {},
   "outputs": [
    {
     "data": {
      "text/plain": [
       "CHILD_ID                4789\n",
       "SERVICE_SETTING            4\n",
       "SERVICE DELIVERY           4\n",
       "IFSP Teaming ID name       3\n",
       "Agency Name               85\n",
       "Agency Type                3\n",
       "Service Name              23\n",
       "dtype: int64"
      ]
     },
     "execution_count": 8,
     "metadata": {},
     "output_type": "execute_result"
    }
   ],
   "source": [
    "##check unique count compiled_df1\n",
    "#https://sparkbyexamples.com/pandas/pandas-count-unique-values-in-column/\n",
    "#Count unique on multiple columns\n",
    "#count = df[['Courses','Fee']].nunique()\n",
    "\n",
    "count_df1 = compiled_df1[['CHILD_ID','SERVICE_SETTING','SERVICE DELIVERY','IFSP Teaming ID name','Agency Name','Agency Type','Service Name']].nunique() \n",
    "count_df1"
   ]
  },
  {
   "cell_type": "code",
   "execution_count": 9,
   "id": "20213876",
   "metadata": {},
   "outputs": [
    {
     "data": {
      "text/plain": [
       "POE             9\n",
       "Child ID    19623\n",
       "dtype: int64"
      ]
     },
     "execution_count": 9,
     "metadata": {},
     "output_type": "execute_result"
    }
   ],
   "source": [
    "##check unique count children_df2\n",
    "count_df2 = children_df2[['POE','Child ID']].nunique() \n",
    "count_df2"
   ]
  },
  {
   "cell_type": "code",
   "execution_count": 10,
   "id": "d9045b7f",
   "metadata": {},
   "outputs": [
    {
     "name": "stdout",
     "output_type": "stream",
     "text": [
      "['Community-based' 'Telehealth' 'Home' 'Other' nan]\n",
      "['Service Delivered' 'Absence Due to Family' 'Family No Show'\n",
      " 'Absence Due to Provider']\n",
      "['IEP Meeting' 'Co-Visit' 'IFSP Meeting']\n",
      "[\"Siskin Children's Institute (EIRA)\" 'LTVEC' 'First Steps, Inc (EIRA)'\n",
      " 'Sunshine Early Intervention - Knox Cty ARC'\n",
      " 'Physical Therapy Services, PA (EIRA)' 'LeBonheur EI & Dev (LEAD) (EIRA)'\n",
      " 'LeBonheur EI & Dev (LEAD) (vendor)'\n",
      " 'Shelby Residential & Voc Svcs(SRVS) (EIRA)' 'Signal Centers, Inc.'\n",
      " 'Therapy & Learning Center, Inc. (EIRA)'\n",
      " 'Susan Gray School - Vanderbilt Univ'\n",
      " 'Support Solutions of the Mid-South (CS Patterson)' \"Kid's Putnam, Inc.\"\n",
      " 'Little Folks Arc of Washington Co.'\n",
      " 'Michael Dunn Center/ The Henry Center' 'Pediatric Language Clinic'\n",
      " 'BRIDGES - Tennessee Tech University' 'Vanderbilt Bill Wilkerson Center'\n",
      " 'BEST (Blind-Visually Impaired Early Svcs Tn)'\n",
      " 'Can Do Kids Pediatric Therapy Services, LLC'\n",
      " 'Morristown Hamblen Child Care Center' 'Emory Valley Center'\n",
      " 'Progressive Directions Inc.'\n",
      " 'James Developmental Ctr - Small Steps Preschool'\n",
      " 'Middle Tennessee State University' 'Expanding Horizons - ETSU'\n",
      " 'Infant Stimulation Program - UT Martin' 'WAVES, Inc.'\n",
      " 'Developmental Svcs  of Dickson Cty - Foundations'\n",
      " 'Rainbow Early Intervention (HATS)' 'Easter Seals Tennessee Inc'\n",
      " 'Community Development Center'\n",
      " 'Therapy & Learning Center Inc (vendor WTCCD)'\n",
      " \"Erlanger Health Care System/TC Thompson's Children\"\n",
      " 'KF Pediatric Therapy' 'Heightened Potential Co'\n",
      " 'Holly Hanna dba Pediatric Physical Therapy'\n",
      " 'Pediatric Physical Therapy (Nancy Cogburn)'\n",
      " 'Mini Miracles Pediatric Therapy, PLLC' 'Rehab At Your Place (EIRA)'\n",
      " 'Therapeutic Rehab Services - Cathy Otis'\n",
      " \"Siskin Children's Institute (vendor svcs)\"\n",
      " 'Project Memphis-University of Memphis (EIRA)'\n",
      " 'Fentress County School System'\n",
      " 'Chattanooga-United Seating & MobilityLLC/Numotion' 'TheraKids, Inc.'\n",
      " 'Cleveland TN Hosp dba Tennova Healthcare-Cleveland'\n",
      " 'Blount Memorial Hospital' 'LeBonheur East Outpatient Rehab'\n",
      " 'Mountain States Hlth Alli dba Indian Path Comm Hos'\n",
      " 'Feltz Therapy Services, LLC' 'Play Ball Childrens Therapy, LLC'\n",
      " 'Choice Medical Inc / Choice Orthotics Prosthetics' 'Twana Mullins'\n",
      " 'Courageous Kids, LLC' 'Beth A. Ballinger'\n",
      " 'Jeannine Couvertiere, SLP Services'\n",
      " 'Words for Life Speech & Language Center, LLC'\n",
      " 'Rehab At Your Place (vendor)' 'Deborah Curlee Communication Consultants'\n",
      " 'Sarah Elizabeth Henry' 'Prospect, Inc.'\n",
      " 'Health Sphere Wellness Center, LLC.' 'Jon Allen, OTR/L'\n",
      " 'STAR Center, Inc.' 'Project Play Therapy dba Franklin Speech &Learning'\n",
      " 'Maury Regional Hospital dba Maury Regional Med Ctr'\n",
      " 'Vanderbilt Pediatric Rehabilitation' 'CTS, LLC (Tyrice Cartwright)'\n",
      " 'Vanderbilt-TRIAD' 'Siskin EIBS' 'Stellar Therapy Services'\n",
      " 'N. Scott Keaton, PT dba Little Heroes'\n",
      " 'LIFT Therapy dba Sports Plus Dyersburg'\n",
      " 'Innovative Therapy Solutions, PLLC' 'Methodist Medical Center'\n",
      " 'LeBonheur Downtown Outpatient Rehab'\n",
      " 'LIFT Therapy dba Sports Plus Lexington' 'TalkBack'\n",
      " \"East Tennessee Children's Hospital Rehab Center\"\n",
      " 'UT Hearing & Speech Center' 'WeeCommunicate, LLC'\n",
      " 'Results AST JV / Results Physiotherapy'\n",
      " 'Trillium Speech, Language and Voice Svcs, LLC' 'Therapy.Works LLC']\n",
      "['EIRA' 'Independent' 'Other']\n",
      "['Dev. Therapy Prof - Home/Community' 'Physical Therapy Assistant'\n",
      " 'Speech Therapy' 'Occupational Therapy' 'Dev. Therapy - BCBA'\n",
      " 'Speech Therapy-Group' 'Dev. Therapy Center-Based' 'Physical Therapy'\n",
      " 'Evaluation - Occupational Therapy'\n",
      " 'IFSP Team Member Participation (Face-To-Face)' 'Vision Services'\n",
      " 'Evaluation - Speech Therapy' 'Eval/Assess - Developmental'\n",
      " 'Dev. Therapy ParaProf - Home/Community'\n",
      " 'IFSP Team Member Participation (Virtual)' 'Assistive Technology'\n",
      " 'Evaluation - BCBA Developmental Therapy'\n",
      " 'Dev. Therapy – Registered Behavior Tech (RBT)'\n",
      " 'Evaluation - Physical Therapy' 'Evaluation/Assessment - Vision'\n",
      " 'Consultation – Developmental Therapy' 'Dev. Therapy - Behavior'\n",
      " 'Occupational Therapy Assistant']\n"
     ]
    }
   ],
   "source": [
    "##check unique values compiled_df1\n",
    "##https://www.geeksforgeeks.org/get-unique-values-from-a-column-in-pandas-dataframe/\n",
    "print(compiled_df1['SERVICE_SETTING'].unique())\n",
    "print(compiled_df1['SERVICE DELIVERY'].unique())\n",
    "print(compiled_df1['IFSP Teaming ID name'].unique())\n",
    "print(compiled_df1['Agency Name'].unique())\n",
    "print(compiled_df1['Agency Type'].unique())\n",
    "print(compiled_df1['Service Name'].unique())"
   ]
  },
  {
   "cell_type": "code",
   "execution_count": 11,
   "id": "078cc19f",
   "metadata": {},
   "outputs": [
    {
     "name": "stdout",
     "output_type": "stream",
     "text": [
      "['ET' 'FT' 'GN' 'MD' 'NW' 'SC' 'SE' 'SW' 'UC']\n"
     ]
    }
   ],
   "source": [
    "##check unique values children_df2\n",
    "print(children_df2['POE'].unique())"
   ]
  },
  {
   "cell_type": "code",
   "execution_count": 12,
   "id": "45e08df7",
   "metadata": {},
   "outputs": [
    {
     "name": "stdout",
     "output_type": "stream",
     "text": [
      "LeBonheur EI & Dev (LEAD) (vendor)            924\n",
      "Emory Valley Center                           730\n",
      "Siskin Children's Institute (EIRA)            685\n",
      "Physical Therapy Services, PA (EIRA)          589\n",
      "LeBonheur EI & Dev (LEAD) (EIRA)              505\n",
      "Therapy & Learning Center, Inc. (EIRA)        479\n",
      "Kid's Putnam, Inc.                            445\n",
      "WAVES, Inc.                                   429\n",
      "Shelby Residential & Voc Svcs(SRVS) (EIRA)    323\n",
      "Community Development Center                  304\n",
      "Name: Agency Name, dtype: int64\n"
     ]
    }
   ],
   "source": [
    "##Top 10 Agency Name compiled_df1\n",
    "##https://stackoverflow.com/questions/48590268/pandas-get-the-most-frequent-values-of-a-column\n",
    "##df['name'].value_counts().nlargest(5)\n",
    "\n",
    "print(compiled_df1['Agency Name'].value_counts().nlargest(10))"
   ]
  },
  {
   "cell_type": "code",
   "execution_count": 13,
   "id": "7c0d7602",
   "metadata": {},
   "outputs": [
    {
     "name": "stdout",
     "output_type": "stream",
     "text": [
      "632\n",
      "4091\n",
      "4820\n"
     ]
    }
   ],
   "source": [
    "##count IFSP Teaming ID\n",
    "##https://www.geeksforgeeks.org/how-to-count-occurrences-of-specific-value-in-pandas-column/\n",
    "##data['column_name'].value_counts()[value]\n",
    "##['IEP Meeting' 'Co-Visit' 'IFSP Meeting']\n",
    "\n",
    "print(compiled_df1['IFSP Teaming ID name'].value_counts()['IEP Meeting'])\n",
    "print(compiled_df1['IFSP Teaming ID name'].value_counts()['Co-Visit'])\n",
    "print(compiled_df1['IFSP Teaming ID name'].value_counts()['IFSP Meeting'])"
   ]
  },
  {
   "cell_type": "code",
   "execution_count": 14,
   "id": "0c611174",
   "metadata": {},
   "outputs": [
    {
     "data": {
      "text/plain": [
       "<Axes: >"
      ]
     },
     "execution_count": 14,
     "metadata": {},
     "output_type": "execute_result"
    },
    {
     "data": {
      "image/png": "[encoded data removed]",
      "text/plain": [
       "<Figure size 640x480 with 1 Axes>"
      ]
     },
     "metadata": {},
     "output_type": "display_data"
    }
   ],
   "source": [
    "##view IFSP Teaming ID in chart\n",
    "##used notes/example from socrata ap project\n",
    "##convert to numeris required / example: map_res_df['query_count'] = pd.to_numeric(map_res_df['query_count'])\n",
    "ifsp_plot = compiled_df1['IFSP Teaming ID name'].value_counts()\n",
    "ifsp_plot.plot(kind='bar')"
   ]
  },
  {
   "cell_type": "code",
   "execution_count": 15,
   "id": "34598248",
   "metadata": {},
   "outputs": [
    {
     "data": {
      "text/plain": [
       "<Axes: >"
      ]
     },
     "execution_count": 15,
     "metadata": {},
     "output_type": "execute_result"
    },
    {
     "data": {
      "image/png": "[encoded data removed]",
      "text/plain": [
       "<Figure size 640x480 with 1 Axes>"
      ]
     },
     "metadata": {},
     "output_type": "display_data"
    }
   ],
   "source": [
    "##horizontal bar chart\n",
    "##https://datatofish.com/horizontal-bar-chart-matplotlib/\n",
    "ifsp_plot.plot.barh()"
   ]
  },
  {
   "cell_type": "code",
   "execution_count": 16,
   "id": "d41956c9",
   "metadata": {},
   "outputs": [
    {
     "data": {
      "text/plain": [
       "<Axes: >"
      ]
     },
     "execution_count": 16,
     "metadata": {},
     "output_type": "execute_result"
    },
    {
     "data": {
      "image/png": "[encoded data removed]",
      "text/plain": [
       "<Figure size 640x480 with 1 Axes>"
      ]
     },
     "metadata": {},
     "output_type": "display_data"
    }
   ],
   "source": [
    "##view IFSP Teaming ID in chart\n",
    "##used notes/example from socrata ap project\n",
    "agency_top10_plot = compiled_df1['Agency Name'].value_counts().nlargest(10)\n",
    "agency_top10_plot.plot(kind='bar')\n"
   ]
  },
  {
   "cell_type": "markdown",
   "id": "c06d478d",
   "metadata": {},
   "source": [
    "plt.rcParams['figure.figsize'] = [10, 4]\n",
    "map_res_df.plot.line(x='month_name', y='query_count')\n",
    "plt.title('Map Queries Total Per Month Review 2014-2021')\n",
    "plt.xlabel('Month')\n",
    "plt.ylabel('Query Count')"
   ]
  },
  {
   "cell_type": "code",
   "execution_count": 17,
   "id": "bd9b0c04",
   "metadata": {},
   "outputs": [
    {
     "data": {
      "text/plain": [
       "<Axes: >"
      ]
     },
     "execution_count": 17,
     "metadata": {},
     "output_type": "execute_result"
    },
    {
     "data": {
      "image/png": "[encoded data removed]",
      "text/plain": [
       "<Figure size 640x480 with 1 Axes>"
      ]
     },
     "metadata": {},
     "output_type": "display_data"
    }
   ],
   "source": [
    "##horizontal bar chart\n",
    "##https://datatofish.com/horizontal-bar-chart-matplotlib/\n",
    "agency_top10_plot.plot.barh()"
   ]
  },
  {
   "cell_type": "code",
   "execution_count": 18,
   "id": "c120aec3",
   "metadata": {},
   "outputs": [
    {
     "data": {
      "text/html": [
       "<div>\n",
       "<style scoped>\n",
       "    .dataframe tbody tr th:only-of-type {\n",
       "        vertical-align: middle;\n",
       "    }\n",
       "\n",
       "    .dataframe tbody tr th {\n",
       "        vertical-align: top;\n",
       "    }\n",
       "\n",
       "    .dataframe thead th {\n",
       "        text-align: right;\n",
       "    }\n",
       "</style>\n",
       "<table border=\"1\" class=\"dataframe\">\n",
       "  <thead>\n",
       "    <tr style=\"text-align: right;\">\n",
       "      <th></th>\n",
       "      <th>CHILD_ID</th>\n",
       "      <th>SERVICE_DATE</th>\n",
       "      <th>START_TIME</th>\n",
       "      <th>END_TIME</th>\n",
       "      <th>SERVICE_SETTING</th>\n",
       "      <th>SERVICE DELIVERY</th>\n",
       "      <th>ADD_USER</th>\n",
       "      <th>ADD_DATE</th>\n",
       "      <th>IFSP Teaming ID name</th>\n",
       "      <th>Agency Name</th>\n",
       "      <th>Agency Type</th>\n",
       "      <th>Service Name</th>\n",
       "    </tr>\n",
       "  </thead>\n",
       "  <tbody>\n",
       "    <tr>\n",
       "      <th>0</th>\n",
       "      <td>457136</td>\n",
       "      <td>2022-01-21</td>\n",
       "      <td>09:30:00</td>\n",
       "      <td>10:30:00</td>\n",
       "      <td>Community-based</td>\n",
       "      <td>Service Delivered</td>\n",
       "      <td>LEECAROL1</td>\n",
       "      <td>2022-01-21 17:54:45</td>\n",
       "      <td>IEP Meeting</td>\n",
       "      <td>Siskin Children's Institute (EIRA)</td>\n",
       "      <td>EIRA</td>\n",
       "      <td>Dev. Therapy Prof - Home/Community</td>\n",
       "    </tr>\n",
       "  </tbody>\n",
       "</table>\n",
       "</div>"
      ],
      "text/plain": [
       "   CHILD_ID SERVICE_DATE START_TIME  END_TIME  SERVICE_SETTING  \\\n",
       "0    457136   2022-01-21   09:30:00  10:30:00  Community-based   \n",
       "\n",
       "    SERVICE DELIVERY   ADD_USER            ADD_DATE IFSP Teaming ID name  \\\n",
       "0  Service Delivered  LEECAROL1 2022-01-21 17:54:45          IEP Meeting   \n",
       "\n",
       "                          Agency Name Agency Type  \\\n",
       "0  Siskin Children's Institute (EIRA)        EIRA   \n",
       "\n",
       "                         Service Name  \n",
       "0  Dev. Therapy Prof - Home/Community  "
      ]
     },
     "execution_count": 18,
     "metadata": {},
     "output_type": "execute_result"
    }
   ],
   "source": [
    "compiled_df1.head(1)"
   ]
  },
  {
   "cell_type": "code",
   "execution_count": 19,
   "id": "68115010",
   "metadata": {},
   "outputs": [],
   "source": [
    "##rename column names\n",
    "##https://stackoverflow.com/questions/11346283/renaming-column-names-in-pandas\n",
    "##df = df.rename(columns={'oldName1': 'newName1', 'oldName2': 'newName2'})\n",
    "compiled_df1 = compiled_df1.rename(columns={'SERVICE DELIVERY':'SERVICE_DELIVERY','IFSP Teaming ID name':'IFSP_TEAMING_ID_NAME','Agency Name':'AGENCY_NAME','Agency Type':'AGENCY_TYPE','Service Name':'SERVICE_NAME'})\n",
    "children_df2 = children_df2.rename(columns={'Child ID': 'CHILD_ID', 'Referral Date':'REFERRAL_DATE', 'Exit Date':'EXIT_DATE'})"
   ]
  },
  {
   "cell_type": "code",
   "execution_count": 20,
   "id": "25605335",
   "metadata": {},
   "outputs": [
    {
     "name": "stdout",
     "output_type": "stream",
     "text": [
      "4091\n"
     ]
    },
    {
     "data": {
      "text/html": [
       "<div>\n",
       "<style scoped>\n",
       "    .dataframe tbody tr th:only-of-type {\n",
       "        vertical-align: middle;\n",
       "    }\n",
       "\n",
       "    .dataframe tbody tr th {\n",
       "        vertical-align: top;\n",
       "    }\n",
       "\n",
       "    .dataframe thead th {\n",
       "        text-align: right;\n",
       "    }\n",
       "</style>\n",
       "<table border=\"1\" class=\"dataframe\">\n",
       "  <thead>\n",
       "    <tr style=\"text-align: right;\">\n",
       "      <th></th>\n",
       "      <th>CHILD_ID</th>\n",
       "      <th>SERVICE_DATE</th>\n",
       "      <th>START_TIME</th>\n",
       "      <th>END_TIME</th>\n",
       "      <th>SERVICE_SETTING</th>\n",
       "      <th>SERVICE_DELIVERY</th>\n",
       "      <th>ADD_USER</th>\n",
       "      <th>ADD_DATE</th>\n",
       "      <th>IFSP_TEAMING_ID_NAME</th>\n",
       "      <th>AGENCY_NAME</th>\n",
       "      <th>AGENCY_TYPE</th>\n",
       "      <th>SERVICE_NAME</th>\n",
       "    </tr>\n",
       "  </thead>\n",
       "  <tbody>\n",
       "    <tr>\n",
       "      <th>1</th>\n",
       "      <td>457136</td>\n",
       "      <td>2022-02-15</td>\n",
       "      <td>14:00:00</td>\n",
       "      <td>15:00:00</td>\n",
       "      <td>Community-based</td>\n",
       "      <td>Service Delivered</td>\n",
       "      <td>LEECAROL1</td>\n",
       "      <td>2022-02-16 05:29:12</td>\n",
       "      <td>Co-Visit</td>\n",
       "      <td>Siskin Children's Institute (EIRA)</td>\n",
       "      <td>EIRA</td>\n",
       "      <td>Dev. Therapy Prof - Home/Community</td>\n",
       "    </tr>\n",
       "    <tr>\n",
       "      <th>6</th>\n",
       "      <td>458850</td>\n",
       "      <td>2022-02-15</td>\n",
       "      <td>14:00:00</td>\n",
       "      <td>14:30:00</td>\n",
       "      <td>Telehealth</td>\n",
       "      <td>Service Delivered</td>\n",
       "      <td>BUCKCYNTHIA</td>\n",
       "      <td>2022-02-15 18:07:38</td>\n",
       "      <td>Co-Visit</td>\n",
       "      <td>Physical Therapy Services, PA (EIRA)</td>\n",
       "      <td>EIRA</td>\n",
       "      <td>Dev. Therapy Prof - Home/Community</td>\n",
       "    </tr>\n",
       "    <tr>\n",
       "      <th>7</th>\n",
       "      <td>458851</td>\n",
       "      <td>2022-02-15</td>\n",
       "      <td>14:15:00</td>\n",
       "      <td>14:45:00</td>\n",
       "      <td>Telehealth</td>\n",
       "      <td>Service Delivered</td>\n",
       "      <td>BUCKCYNTHIA</td>\n",
       "      <td>2022-02-15 18:08:54</td>\n",
       "      <td>Co-Visit</td>\n",
       "      <td>Physical Therapy Services, PA (EIRA)</td>\n",
       "      <td>EIRA</td>\n",
       "      <td>Dev. Therapy Prof - Home/Community</td>\n",
       "    </tr>\n",
       "    <tr>\n",
       "      <th>8</th>\n",
       "      <td>459167</td>\n",
       "      <td>2022-01-26</td>\n",
       "      <td>09:30:00</td>\n",
       "      <td>10:00:00</td>\n",
       "      <td>Telehealth</td>\n",
       "      <td>Service Delivered</td>\n",
       "      <td>HINESKONSTANCE</td>\n",
       "      <td>2022-01-26 11:08:06</td>\n",
       "      <td>Co-Visit</td>\n",
       "      <td>LeBonheur EI &amp; Dev (LEAD) (EIRA)</td>\n",
       "      <td>EIRA</td>\n",
       "      <td>Physical Therapy Assistant</td>\n",
       "    </tr>\n",
       "    <tr>\n",
       "      <th>9</th>\n",
       "      <td>459167</td>\n",
       "      <td>2022-01-26</td>\n",
       "      <td>09:00:00</td>\n",
       "      <td>10:00:00</td>\n",
       "      <td>Telehealth</td>\n",
       "      <td>Service Delivered</td>\n",
       "      <td>GLASSKATHERINE</td>\n",
       "      <td>2022-02-02 11:57:55</td>\n",
       "      <td>Co-Visit</td>\n",
       "      <td>LeBonheur EI &amp; Dev (LEAD) (vendor)</td>\n",
       "      <td>Independent</td>\n",
       "      <td>Speech Therapy</td>\n",
       "    </tr>\n",
       "  </tbody>\n",
       "</table>\n",
       "</div>"
      ],
      "text/plain": [
       "   CHILD_ID SERVICE_DATE START_TIME  END_TIME  SERVICE_SETTING  \\\n",
       "1    457136   2022-02-15   14:00:00  15:00:00  Community-based   \n",
       "6    458850   2022-02-15   14:00:00  14:30:00       Telehealth   \n",
       "7    458851   2022-02-15   14:15:00  14:45:00       Telehealth   \n",
       "8    459167   2022-01-26   09:30:00  10:00:00       Telehealth   \n",
       "9    459167   2022-01-26   09:00:00  10:00:00       Telehealth   \n",
       "\n",
       "    SERVICE_DELIVERY        ADD_USER            ADD_DATE IFSP_TEAMING_ID_NAME  \\\n",
       "1  Service Delivered       LEECAROL1 2022-02-16 05:29:12             Co-Visit   \n",
       "6  Service Delivered     BUCKCYNTHIA 2022-02-15 18:07:38             Co-Visit   \n",
       "7  Service Delivered     BUCKCYNTHIA 2022-02-15 18:08:54             Co-Visit   \n",
       "8  Service Delivered  HINESKONSTANCE 2022-01-26 11:08:06             Co-Visit   \n",
       "9  Service Delivered  GLASSKATHERINE 2022-02-02 11:57:55             Co-Visit   \n",
       "\n",
       "                            AGENCY_NAME  AGENCY_TYPE  \\\n",
       "1    Siskin Children's Institute (EIRA)         EIRA   \n",
       "6  Physical Therapy Services, PA (EIRA)         EIRA   \n",
       "7  Physical Therapy Services, PA (EIRA)         EIRA   \n",
       "8      LeBonheur EI & Dev (LEAD) (EIRA)         EIRA   \n",
       "9    LeBonheur EI & Dev (LEAD) (vendor)  Independent   \n",
       "\n",
       "                         SERVICE_NAME  \n",
       "1  Dev. Therapy Prof - Home/Community  \n",
       "6  Dev. Therapy Prof - Home/Community  \n",
       "7  Dev. Therapy Prof - Home/Community  \n",
       "8          Physical Therapy Assistant  \n",
       "9                      Speech Therapy  "
      ]
     },
     "execution_count": 20,
     "metadata": {},
     "output_type": "execute_result"
    }
   ],
   "source": [
    "##Question 1. * How many children are receiving co-visits?   \n",
    "##What is the rate of co-visits?That is, out of children how have an IFSP, how many are receiving co-visits?\n",
    "##https://www.statology.org/pandas-select-rows-based-on-column-values/ | df.loc[df['points'] == 7]\n",
    "#https://sparkbyexamples.com/python/pandas-get-number-of-rows-examples/#:~:text=Get%20Number%20of%20Rows%20in,()%20to%20get%20the%20count.\n",
    "##len(df.index)\n",
    "\n",
    "covisit_check = compiled_df1.loc[compiled_df1['IFSP_TEAMING_ID_NAME'] == 'Co-Visit']\n",
    "covisit_check_df = pd.DataFrame(covisit_check)\n",
    "print(len(covisit_check_df.index))\n",
    "covisit_check_df.head()"
   ]
  },
  {
   "cell_type": "code",
   "execution_count": 44,
   "id": "14d800da",
   "metadata": {},
   "outputs": [
    {
     "name": "stdout",
     "output_type": "stream",
     "text": [
      "count unique children receiving co-visits: 1645\n",
      "percentage of children with ifsp receiving co-visits: CHILD_ID    8.38302\n",
      "dtype: float64\n",
      "sum of co-visits: 4091\n",
      "top 10 count of co-visit by child_id:\n",
      "494031    48\n",
      "480109    33\n",
      "481017    31\n",
      "494794    31\n",
      "513816    30\n",
      "511895    30\n",
      "501065    30\n",
      "498898    28\n",
      "487087    26\n",
      "472293    23\n",
      "Name: CHILD_ID, dtype: int64\n",
      "bottom 10 count of co-visit by child_id:\n",
      "539016    1\n",
      "519822    1\n",
      "532565    1\n",
      "517664    1\n",
      "533744    1\n",
      "520257    1\n",
      "533759    1\n",
      "532561    1\n",
      "520346    1\n",
      "517700    1\n",
      "Name: CHILD_ID, dtype: int64\n",
      "mean of co-visist: 2.4869300911854104\n"
     ]
    }
   ],
   "source": [
    "##checking counts per child, percent children receiving co-visits, unique value count, and average co-visits\n",
    "\n",
    "##print(covisit_check_df['CHILD_ID'].value_counts())\n",
    "##print(covisit_check_df['CHILD_ID'].unique())\n",
    "##verifyunique_count\n",
    "##https://sparkbyexamples.com/pandas/pandas-count-unique-values-in-column/#:~:text=To%20count%20unique%20values%20in%20the%20pandas%20dataframe%20column%20use,size%20to%20get%20the%20count.\n",
    "print('count unique children receiving co-visits: '+str(covisit_check_df.CHILD_ID.unique().size))\n",
    "print('percentage of children with ifsp receiving co-visits: ' + str((covisit_check_df.CHILD_ID.unique().size / children_df2[['CHILD_ID']].nunique()) * 100))\n",
    "print('sum of co-visits: '+str(covisit_check_df['CHILD_ID'].value_counts().sum()))\n",
    "print('top 10 count of co-visit by child_id:')\n",
    "print(covisit_check_df['CHILD_ID'].value_counts().nlargest(10))\n",
    "print('bottom 10 count of co-visit by child_id:')\n",
    "print(covisit_check_df['CHILD_ID'].value_counts().nsmallest(10))\n",
    "print('mean of co-visist: '+ str(covisit_check_df['CHILD_ID'].value_counts().mean()))\n"
   ]
  },
  {
   "cell_type": "markdown",
   "id": "6757d127",
   "metadata": {},
   "source": [
    "##ANSWER: 1645 children are receiving co-visits. The average amount of co-visits is 2.49. The largest number of co-visits for a single child_id was 48, the lowest number of co-visits was 1. "
   ]
  },
  {
   "cell_type": "code",
   "execution_count": 38,
   "id": "620ff7eb",
   "metadata": {},
   "outputs": [
    {
     "name": "stdout",
     "output_type": "stream",
     "text": [
      "count of co-visits >= 6: 1435\n",
      "count co-visits < 6: 2656\n",
      "total co-visits: 4091\n",
      "percentage of co-visits >= 6: 35.076998288926916\n",
      "percentage of co-visits < 6: 64.9230017110731\n",
      "child_id with > 6 co-visits:\n",
      "494031    48\n",
      "480109    33\n",
      "481017    31\n",
      "494794    31\n",
      "513816    30\n",
      "          ..\n",
      "508542     6\n",
      "459167     6\n",
      "523227     6\n",
      "476875     6\n",
      "518156     6\n",
      "Name: CHILD_ID, Length: 131, dtype: int64\n"
     ]
    }
   ],
   "source": [
    "##Question 2. * Children can have up to 6 co-visits per year. How many are recieving all 6 visits? \n",
    "##Are there any who are exceeding 6 visits?\n",
    "##df.loc[df['points'] == 7\n",
    "##https://stackoverflow.com/questions/38345213/using-value-counts-in-pandas-with-conditions\n",
    "##my_value_count.loc[my_value_count.index < 0.4]\n",
    "covisit_child_valuecount = covisit_check_df['CHILD_ID'].value_counts()\n",
    "print('count of co-visits >= 6: ' + str(covisit_child_valuecount.loc[covisit_child_valuecount >= 6].sum()))\n",
    "print('count co-visits < 6: ' + str(covisit_child_valuecount.loc[covisit_child_valuecount < 6].sum()))\n",
    "print('total co-visits: ' + str(covisit_child_valuecount.loc[covisit_child_valuecount > 0].sum()))\n",
    "print('percentage of co-visits >= 6: ' + str(((covisit_child_valuecount.loc[covisit_child_valuecount >= 6].sum()) / (covisit_child_valuecount.loc[covisit_child_valuecount > 0].sum()))*100))\n",
    "print('percentage of co-visits < 6: ' + str(((covisit_child_valuecount.loc[covisit_child_valuecount < 6].sum()) / (covisit_child_valuecount.loc[covisit_child_valuecount > 0].sum()))*100))\n",
    "print('child_id with > 6 co-visits:')\n",
    "print(covisit_child_valuecount.loc[covisit_child_valuecount >= 6])"
   ]
  },
  {
   "cell_type": "markdown",
   "id": "848ea6fc",
   "metadata": {},
   "source": [
    "##ANSWER:\n",
    "##35.08% or 1435 of 4091 children listed for co-visits received 6 or more visits.\n",
    "##64.92% or 2656 children listed for covisits received fewer than 6 visits."
   ]
  },
  {
   "cell_type": "code",
   "execution_count": 37,
   "id": "bb4c6b9e",
   "metadata": {
    "scrolled": true
   },
   "outputs": [
    {
     "name": "stdout",
     "output_type": "stream",
     "text": [
      "co-visits > 1: 3200\n",
      "percentage of children > 1 co-visits: 78.22048398924468\n",
      "494031    48\n",
      "480109    33\n",
      "481017    31\n",
      "494794    31\n",
      "513816    30\n",
      "          ..\n",
      "536174     2\n",
      "528506     2\n",
      "497839     2\n",
      "497865     2\n",
      "472608     2\n",
      "Name: CHILD_ID, Length: 754, dtype: int64\n"
     ]
    }
   ],
   "source": [
    "##Question 3. What is the cadence of co-visits?\n",
    "##df.loc[df['points'] == 7\n",
    "print('count of co-visits > 1: ' + str(covisit_child_valuecount.loc[covisit_child_valuecount > 1].sum()))\n",
    "print('percentage of covisits > 1: ' + str(((covisit_child_valuecount.loc[covisit_child_valuecount > 1].sum()) / (covisit_child_valuecount.loc[covisit_child_valuecount > 0].sum()))*100))\n",
    "print(covisit_child_valuecount.loc[covisit_child_valuecount > 1])"
   ]
  },
  {
   "cell_type": "code",
   "execution_count": 47,
   "id": "8782b728",
   "metadata": {},
   "outputs": [
    {
     "name": "stdout",
     "output_type": "stream",
     "text": [
      "      CHILD_ID SERVICE_DATE VISIT_DIFF\n",
      "9       459167   2022-01-26     0 days\n",
      "12      459167   2022-01-26     0 days\n",
      "10      459167   2022-02-09    14 days\n",
      "11      459167   2022-02-09     0 days\n",
      "13      459167   2022-02-09     0 days\n",
      "...        ...          ...        ...\n",
      "9526    539735   2023-01-31     0 days\n",
      "9528    539820   2022-12-19     7 days\n",
      "9529    539820   2023-01-23    35 days\n",
      "9530    539820   2023-01-30     7 days\n",
      "9533    539948   2023-01-31     0 days\n",
      "\n",
      "[2446 rows x 3 columns]\n",
      "Average time difference between co-visits: 32 days 13:47:08.781684382\n"
     ]
    }
   ],
   "source": [
    "# Sort the co-visit rows by CHILD_ID and SERVICE_DATE\n",
    "co_visit_rows = covisit_check_df.sort_values(['CHILD_ID', 'SERVICE_DATE'])\n",
    "\n",
    "# Calculate the time difference between consecutive co-visits for each child\n",
    "co_visit_rows['VISIT_DIFF'] = co_visit_rows.groupby('CHILD_ID')['SERVICE_DATE'].diff()\n",
    "\n",
    "# Remove the first co-visit for each child since it doesn't have a previous co-visit\n",
    "co_visit_rows = co_visit_rows.dropna(subset=['VISIT_DIFF'])\n",
    "\n",
    "# Print the resulting dataframe\n",
    "print(co_visit_rows[['CHILD_ID', 'SERVICE_DATE', 'VISIT_DIFF']])\n",
    "\n",
    "##avg_time_diff = co_visit_rows['VISIT_DIFF'].mean()\n",
    "\n",
    "##print(\"Average time difference between co-visits:\", avg_time_diff)"
   ]
  },
  {
   "cell_type": "code",
   "execution_count": 51,
   "id": "45b535bf",
   "metadata": {},
   "outputs": [
    {
     "data": {
      "text/html": [
       "<div>\n",
       "<style scoped>\n",
       "    .dataframe tbody tr th:only-of-type {\n",
       "        vertical-align: middle;\n",
       "    }\n",
       "\n",
       "    .dataframe tbody tr th {\n",
       "        vertical-align: top;\n",
       "    }\n",
       "\n",
       "    .dataframe thead th {\n",
       "        text-align: right;\n",
       "    }\n",
       "</style>\n",
       "<table border=\"1\" class=\"dataframe\">\n",
       "  <thead>\n",
       "    <tr style=\"text-align: right;\">\n",
       "      <th></th>\n",
       "      <th>CHILD_ID</th>\n",
       "      <th>SERVICE_DATE</th>\n",
       "      <th>START_TIME</th>\n",
       "      <th>END_TIME</th>\n",
       "      <th>SERVICE_SETTING</th>\n",
       "      <th>SERVICE_DELIVERY</th>\n",
       "      <th>ADD_USER</th>\n",
       "      <th>ADD_DATE</th>\n",
       "      <th>IFSP_TEAMING_ID_NAME</th>\n",
       "      <th>AGENCY_NAME</th>\n",
       "      <th>AGENCY_TYPE</th>\n",
       "      <th>SERVICE_NAME</th>\n",
       "      <th>VISIT_DIFF</th>\n",
       "    </tr>\n",
       "  </thead>\n",
       "  <tbody>\n",
       "    <tr>\n",
       "      <th>10</th>\n",
       "      <td>459167</td>\n",
       "      <td>2022-02-09</td>\n",
       "      <td>09:00:00</td>\n",
       "      <td>10:00:00</td>\n",
       "      <td>Telehealth</td>\n",
       "      <td>Service Delivered</td>\n",
       "      <td>GLASSKATHERINE</td>\n",
       "      <td>2022-02-09 11:40:03</td>\n",
       "      <td>Co-Visit</td>\n",
       "      <td>LeBonheur EI &amp; Dev (LEAD) (vendor)</td>\n",
       "      <td>Independent</td>\n",
       "      <td>Speech Therapy</td>\n",
       "      <td>14 days</td>\n",
       "    </tr>\n",
       "    <tr>\n",
       "      <th>24</th>\n",
       "      <td>460965</td>\n",
       "      <td>2022-02-10</td>\n",
       "      <td>09:00:00</td>\n",
       "      <td>10:00:00</td>\n",
       "      <td>Community-based</td>\n",
       "      <td>Service Delivered</td>\n",
       "      <td>PULLIAMAMY</td>\n",
       "      <td>2022-02-10 18:12:55</td>\n",
       "      <td>Co-Visit</td>\n",
       "      <td>LeBonheur EI &amp; Dev (LEAD) (vendor)</td>\n",
       "      <td>Independent</td>\n",
       "      <td>Dev. Therapy - BCBA</td>\n",
       "      <td>14 days</td>\n",
       "    </tr>\n",
       "    <tr>\n",
       "      <th>27</th>\n",
       "      <td>460965</td>\n",
       "      <td>2022-03-24</td>\n",
       "      <td>09:00:00</td>\n",
       "      <td>10:00:00</td>\n",
       "      <td>Telehealth</td>\n",
       "      <td>Service Delivered</td>\n",
       "      <td>PULLIAMAMY</td>\n",
       "      <td>2022-03-24 11:16:57</td>\n",
       "      <td>Co-Visit</td>\n",
       "      <td>LeBonheur EI &amp; Dev (LEAD) (vendor)</td>\n",
       "      <td>Independent</td>\n",
       "      <td>Dev. Therapy - BCBA</td>\n",
       "      <td>42 days</td>\n",
       "    </tr>\n",
       "    <tr>\n",
       "      <th>30</th>\n",
       "      <td>461124</td>\n",
       "      <td>2022-02-01</td>\n",
       "      <td>16:45:00</td>\n",
       "      <td>17:15:00</td>\n",
       "      <td>Telehealth</td>\n",
       "      <td>Service Delivered</td>\n",
       "      <td>ROGERSKALEY</td>\n",
       "      <td>2022-02-04 18:04:33</td>\n",
       "      <td>Co-Visit</td>\n",
       "      <td>Kid's Putnam, Inc.</td>\n",
       "      <td>EIRA</td>\n",
       "      <td>Dev. Therapy Prof - Home/Community</td>\n",
       "      <td>28 days</td>\n",
       "    </tr>\n",
       "    <tr>\n",
       "      <th>43</th>\n",
       "      <td>462936</td>\n",
       "      <td>2022-01-10</td>\n",
       "      <td>09:30:00</td>\n",
       "      <td>10:30:00</td>\n",
       "      <td>Other</td>\n",
       "      <td>Service Delivered</td>\n",
       "      <td>ROBINSONMEGHAN</td>\n",
       "      <td>2022-01-11 10:09:21</td>\n",
       "      <td>Co-Visit</td>\n",
       "      <td>Can Do Kids Pediatric Therapy Services, LLC</td>\n",
       "      <td>Independent</td>\n",
       "      <td>Occupational Therapy</td>\n",
       "      <td>5 days</td>\n",
       "    </tr>\n",
       "  </tbody>\n",
       "</table>\n",
       "</div>"
      ],
      "text/plain": [
       "    CHILD_ID SERVICE_DATE START_TIME  END_TIME  SERVICE_SETTING  \\\n",
       "10    459167   2022-02-09   09:00:00  10:00:00       Telehealth   \n",
       "24    460965   2022-02-10   09:00:00  10:00:00  Community-based   \n",
       "27    460965   2022-03-24   09:00:00  10:00:00       Telehealth   \n",
       "30    461124   2022-02-01   16:45:00  17:15:00       Telehealth   \n",
       "43    462936   2022-01-10   09:30:00  10:30:00            Other   \n",
       "\n",
       "     SERVICE_DELIVERY        ADD_USER            ADD_DATE  \\\n",
       "10  Service Delivered  GLASSKATHERINE 2022-02-09 11:40:03   \n",
       "24  Service Delivered      PULLIAMAMY 2022-02-10 18:12:55   \n",
       "27  Service Delivered      PULLIAMAMY 2022-03-24 11:16:57   \n",
       "30  Service Delivered     ROGERSKALEY 2022-02-04 18:04:33   \n",
       "43  Service Delivered  ROBINSONMEGHAN 2022-01-11 10:09:21   \n",
       "\n",
       "   IFSP_TEAMING_ID_NAME                                  AGENCY_NAME  \\\n",
       "10             Co-Visit           LeBonheur EI & Dev (LEAD) (vendor)   \n",
       "24             Co-Visit           LeBonheur EI & Dev (LEAD) (vendor)   \n",
       "27             Co-Visit           LeBonheur EI & Dev (LEAD) (vendor)   \n",
       "30             Co-Visit                           Kid's Putnam, Inc.   \n",
       "43             Co-Visit  Can Do Kids Pediatric Therapy Services, LLC   \n",
       "\n",
       "    AGENCY_TYPE                        SERVICE_NAME VISIT_DIFF  \n",
       "10  Independent                      Speech Therapy    14 days  \n",
       "24  Independent                 Dev. Therapy - BCBA    14 days  \n",
       "27  Independent                 Dev. Therapy - BCBA    42 days  \n",
       "30         EIRA  Dev. Therapy Prof - Home/Community    28 days  \n",
       "43  Independent                Occupational Therapy     5 days  "
      ]
     },
     "execution_count": 51,
     "metadata": {},
     "output_type": "execute_result"
    }
   ],
   "source": [
    "morethan1 = co_visit_rows[co_visit_rows.VISIT_DIFF != '0 days']\n",
    "morethan1.head()"
   ]
  },
  {
   "cell_type": "code",
   "execution_count": 52,
   "id": "15aab217",
   "metadata": {},
   "outputs": [
    {
     "name": "stdout",
     "output_type": "stream",
     "text": [
      "Average time difference between co-visits: 41 days 16:39:11.020408163\n",
      "Median time difference between co-visits: 28 days 00:00:00\n",
      "Mode difference between cov-visits: 0   14 days\n",
      "Name: VISIT_DIFF, dtype: timedelta64[ns]\n"
     ]
    }
   ],
   "source": [
    "# Calculate the average time difference\n",
    "avg_time_diff = morethan1['VISIT_DIFF'].mean()\n",
    "med_time_diff = morethan1['VISIT_DIFF'].median()\n",
    "mode_time_diff = morethan1['VISIT_DIFF'].mode()\n",
    "\n",
    "print(\"Average time difference between co-visits:\", avg_time_diff)\n",
    "print(\"Median time difference between co-visits:\", med_time_diff)\n",
    "print(\"Mode difference between cov-visits:\", mode_time_diff)"
   ]
  },
  {
   "cell_type": "code",
   "execution_count": 24,
   "id": "337968a5",
   "metadata": {},
   "outputs": [
    {
     "name": "stdout",
     "output_type": "stream",
     "text": [
      "Home               1941\n",
      "Community-based     871\n",
      "Telehealth          775\n",
      "Other               501\n",
      "Name: SERVICE_SETTING, dtype: int64\n",
      "percent of home co-visit: 47.42116841847959\n"
     ]
    }
   ],
   "source": [
    "##Question 4. In what setting do co-visits typically occur?\n",
    "print(covisit_check_df['SERVICE_SETTING'].value_counts())\n",
    "print('percent of home co-visit: ' + str(covisit_check_df.loc[covisit_check_df['SERVICE_SETTING'] == 'Home'].value_counts().sum() / len(covisit_check_df.index)*100))\n"
   ]
  },
  {
   "cell_type": "code",
   "execution_count": null,
   "id": "094a51da",
   "metadata": {},
   "outputs": [],
   "source": []
  },
  {
   "cell_type": "markdown",
   "id": "5b7e22b9",
   "metadata": {},
   "source": [
    "##ANSWER: 47.42% or 1941 of 4091 co-vists occurred in the 'Home' on most occasions. "
   ]
  },
  {
   "cell_type": "markdown",
   "id": "423576b1",
   "metadata": {},
   "source": [
    "print(len(covisit_check_df.index))\n",
    "print(covisit_check_df.loc[covisit_check_df['SERVICE_SETTING'] == 'Home'].value_counts().sum())\n",
    "print(covisit_check_df.loc[covisit_check_df['SERVICE_SETTING'] == 'Community-based'].value_counts().sum())\n",
    "print(covisit_check_df.loc[covisit_check_df['SERVICE_SETTING'] == 'Telehealth'].value_counts().sum())\n",
    "print(covisit_check_df.loc[covisit_check_df['SERVICE_SETTING'] == 'Other'].value_counts().sum())"
   ]
  },
  {
   "cell_type": "markdown",
   "id": "7a0f1e01",
   "metadata": {},
   "source": [
    "https://stackoverflow.com/questions/51325601/how-to-stop-my-pandas-data-table-from-being-truncated-when-printed\n",
    "example: \n",
    "pd.set_option('display.max_rows', 500)\n",
    "pd.set_option('display.max_columns', 500)\n",
    "pd.set_option('display.width', 150)\n",
    "\n",
    "And, if you want to set the options onlytemporarily, you can change it back to the default afterwards with pd.reset_option('display.max_rows|display.max_columns|display.width')"
   ]
  },
  {
   "cell_type": "code",
   "execution_count": 28,
   "id": "b6f252e0",
   "metadata": {},
   "outputs": [
    {
     "name": "stdout",
     "output_type": "stream",
     "text": [
      "agencies performing co-visits: 76\n",
      "sum of co-visits by agencies: 4091\n",
      "covisits by agency:\n",
      "LeBonheur EI & Dev (LEAD) (vendor)                    902\n",
      "LeBonheur EI & Dev (LEAD) (EIRA)                      340\n",
      "Shelby Residential & Voc Svcs(SRVS) (EIRA)            232\n",
      "Therapy & Learning Center, Inc. (EIRA)                216\n",
      "Kid's Putnam, Inc.                                    212\n",
      "Physical Therapy Services, PA (EIRA)                  181\n",
      "WAVES, Inc.                                           169\n",
      "Siskin Children's Institute (EIRA)                    149\n",
      "Emory Valley Center                                   138\n",
      "Expanding Horizons - ETSU                             130\n",
      "Erlanger Health Care System/TC Thompson's Children    127\n",
      "Michael Dunn Center/ The Henry Center                 112\n",
      "Cleveland TN Hosp dba Tennova Healthcare-Cleveland    111\n",
      "Signal Centers, Inc.                                   88\n",
      "Rainbow Early Intervention (HATS)                      81\n",
      "Middle Tennessee State University                      76\n",
      "Sunshine Early Intervention - Knox Cty ARC             66\n",
      "Therapeutic Rehab Services - Cathy Otis                57\n",
      "LTVEC                                                  56\n",
      "BEST (Blind-Visually Impaired Early Svcs Tn)           44\n",
      "Progressive Directions Inc.                            42\n",
      "Therapy & Learning Center Inc (vendor WTCCD)           41\n",
      "Morristown Hamblen Child Care Center                   39\n",
      "Community Development Center                           38\n",
      "Rehab At Your Place (EIRA)                             37\n",
      "Support Solutions of the Mid-South (CS Patterson)      30\n",
      "Infant Stimulation Program - UT Martin                 29\n",
      "Pediatric Language Clinic                              28\n",
      "Heightened Potential Co                                28\n",
      "KF Pediatric Therapy                                   27\n",
      "First Steps, Inc (EIRA)                                27\n",
      "Little Folks Arc of Washington Co.                     23\n",
      "Developmental Svcs  of Dickson Cty - Foundations       20\n",
      "Project Memphis-University of Memphis (EIRA)           20\n",
      "Feltz Therapy Services, LLC                            17\n",
      "Easter Seals Tennessee Inc                             14\n",
      "Courageous Kids, LLC                                   13\n",
      "BRIDGES - Tennessee Tech University                    12\n",
      "Fentress County School System                          12\n",
      "Holly Hanna dba Pediatric Physical Therapy             11\n",
      "Mountain States Hlth Alli dba Indian Path Comm Hos      9\n",
      "Susan Gray School - Vanderbilt Univ                     8\n",
      "James Developmental Ctr - Small Steps Preschool         8\n",
      "Play Ball Childrens Therapy, LLC                        6\n",
      "LeBonheur East Outpatient Rehab                         5\n",
      "Rehab At Your Place (vendor)                            5\n",
      "Innovative Therapy Solutions, PLLC                      5\n",
      "Results AST JV / Results Physiotherapy                  4\n",
      "TheraKids, Inc.                                         4\n",
      "Can Do Kids Pediatric Therapy Services, LLC             3\n",
      "Beth A. Ballinger                                       3\n",
      "Siskin Children's Institute (vendor svcs)               3\n",
      "Chattanooga-United Seating & MobilityLLC/Numotion       3\n",
      "Vanderbilt Pediatric Rehabilitation                     3\n",
      "Mini Miracles Pediatric Therapy, PLLC                   2\n",
      "Maury Regional Hospital dba Maury Regional Med Ctr      2\n",
      "Health Sphere Wellness Center, LLC.                     2\n",
      "LeBonheur Downtown Outpatient Rehab                     2\n",
      "Vanderbilt Bill Wilkerson Center                        2\n",
      "UT Hearing & Speech Center                              1\n",
      "LIFT Therapy dba Sports Plus Lexington                  1\n",
      "East Tennessee Children's Hospital Rehab Center         1\n",
      "WeeCommunicate, LLC                                     1\n",
      "Trillium Speech, Language and Voice Svcs, LLC           1\n",
      "Methodist Medical Center                                1\n",
      "Jon Allen, OTR/L                                        1\n",
      "LIFT Therapy dba Sports Plus Dyersburg                  1\n",
      "N. Scott Keaton, PT dba Little Heroes                   1\n",
      "Stellar Therapy Services                                1\n",
      "STAR Center, Inc.                                       1\n",
      "Deborah Curlee Communication Consultants                1\n",
      "Words for Life Speech & Language Center, LLC            1\n",
      "Jeannine Couvertiere, SLP Services                      1\n",
      "Choice Medical Inc / Choice Orthotics Prosthetics       1\n",
      "Blount Memorial Hospital                                1\n",
      "Therapy.Works LLC                                       1\n",
      "Name: AGENCY_NAME, dtype: int64\n",
      "covisits by service name:\n",
      "Dev. Therapy Prof - Home/Community               2400\n",
      "Occupational Therapy                              502\n",
      "Speech Therapy                                    425\n",
      "Physical Therapy                                  307\n",
      "Dev. Therapy - BCBA                               133\n",
      "Dev. Therapy Center-Based                         102\n",
      "Vision Services                                    60\n",
      "Eval/Assess - Developmental                        52\n",
      "Physical Therapy Assistant                         32\n",
      "Evaluation - Occupational Therapy                  26\n",
      "Evaluation - Speech Therapy                        15\n",
      "Evaluation - Physical Therapy                      15\n",
      "Dev. Therapy – Registered Behavior Tech (RBT)       9\n",
      "Dev. Therapy - Behavior                             4\n",
      "Assistive Technology                                3\n",
      "Evaluation - BCBA Developmental Therapy             3\n",
      "Speech Therapy-Group                                1\n",
      "Evaluation/Assessment - Vision                      1\n",
      "Occupational Therapy Assistant                      1\n",
      "Name: SERVICE_NAME, dtype: int64\n",
      "sum of co-visits by service: 4091\n"
     ]
    }
   ],
   "source": [
    "##Question 5. Who is performing co-visits? \n",
    "##Are they generally performed by the same provider or discipline or by multiple providers or disciplines? \n",
    "##Is it more likely for a co-visit to occur if vendor services are within the same agency? \n",
    " \n",
    "print('agencies performing co-visits: '+ str(len(covisit_check_df['AGENCY_NAME'].unique())))\n",
    "print('sum of co-visits by agencies: '+str(covisit_check_df['AGENCY_NAME'].value_counts().sum()))\n",
    "pd.set_option('display.max_rows', 100)\n",
    "print('covisits by agency:')\n",
    "print(covisit_check_df['AGENCY_NAME'].value_counts())\n",
    "print('covisits by service name:')\n",
    "print(covisit_check_df['SERVICE_NAME'].value_counts())\n",
    "print('sum of co-visits by service: '+str(covisit_check_df['SERVICE_NAME'].value_counts().sum()))\n",
    "pd.reset_option('display.max_rows')\n",
    "#print(covisit_check_df['AGENCY_NAME'].unique())"
   ]
  },
  {
   "cell_type": "code",
   "execution_count": 26,
   "id": "d85a1f4f",
   "metadata": {},
   "outputs": [
    {
     "name": "stdout",
     "output_type": "stream",
     "text": [
      "   CHILD_ID SERVICE_DATE START_TIME  END_TIME  SERVICE_SETTING  \\\n",
      "1    457136   2022-02-15   14:00:00  15:00:00  Community-based   \n",
      "\n",
      "    SERVICE_DELIVERY   ADD_USER            ADD_DATE IFSP_TEAMING_ID_NAME  \\\n",
      "1  Service Delivered  LEECAROL1 2022-02-16 05:29:12             Co-Visit   \n",
      "\n",
      "                          AGENCY_NAME AGENCY_TYPE  \\\n",
      "1  Siskin Children's Institute (EIRA)        EIRA   \n",
      "\n",
      "                         SERVICE_NAME  \n",
      "1  Dev. Therapy Prof - Home/Community  \n",
      "['Dev. Therapy Prof - Home/Community' 'Physical Therapy Assistant'\n",
      " 'Speech Therapy' 'Occupational Therapy' 'Dev. Therapy - BCBA'\n",
      " 'Speech Therapy-Group' 'Dev. Therapy Center-Based' 'Physical Therapy'\n",
      " 'Evaluation - Occupational Therapy' 'Vision Services'\n",
      " 'Evaluation - Speech Therapy' 'Eval/Assess - Developmental'\n",
      " 'Assistive Technology' 'Evaluation - BCBA Developmental Therapy'\n",
      " 'Dev. Therapy – Registered Behavior Tech (RBT)'\n",
      " 'Evaluation - Physical Therapy' 'Evaluation/Assessment - Vision'\n",
      " 'Dev. Therapy - Behavior' 'Occupational Therapy Assistant']\n"
     ]
    }
   ],
   "source": [
    "##review column headers / review unique service name\n",
    "print(covisit_check_df.head(1))\n",
    "print(covisit_check_df['SERVICE_NAME'].unique())"
   ]
  },
  {
   "cell_type": "markdown",
   "id": "687e6a62",
   "metadata": {},
   "source": [
    "##gkk = df.groupby(['Team', 'Position'])\n",
    "##df.sort_values(by=['Column_name'], ascending=True)\n",
    "##https://stackoverflow.com/questions/37787698/how-to-sort-pandas-dataframe-from-one-column\n",
    "##test = covisit_check_df.groupby(['CHILD_ID'])\n",
    "covisit_check_df.sort_values(by=['CHILD_ID'], ascending=True)"
   ]
  },
  {
   "cell_type": "code",
   "execution_count": 27,
   "id": "17a84379",
   "metadata": {},
   "outputs": [],
   "source": [
    "##df.loc[df['points'] == 7\n"
   ]
  },
  {
   "cell_type": "markdown",
   "id": "ed42fc20",
   "metadata": {},
   "source": [
    "##class questions for teis presentation:\n",
    "1. How many children are receiving co-visits? What is the rate of co-visits? That is, out of children how have an IFSP, how many are receiving co-visits? What is the cadence of co-visits?\n",
    "2. Children can have up to 6 co-visits per year. How many are recieving all 6 visits? Are there any who are exceeding 6 visits? In what setting do co-visits typically occur?\n",
    "3. Who is performing co-visits? Are they generally performed by the same provider or discipline or by multiple providers or disciplines? Is it more likely for a co-visit to occur if vendor services are within the same agency?\n",
    "4. Does participation vary by service type? by service setting? by point of entry?\n",
    "5. Free for all.\n",
    "\n",
    "##sockswithsandals question for teis presenta:\n",
    "##1. How many children are receiving co-visits? What is the rate of co-visits? \n",
    "##That is, out of children how have an IFSP, how many are receiving co-visits? \n",
    "##What is the cadence of co-visits?\n",
    "\n",
    "##melanie ref for export sns plots: https://seaborn.pydata.org/tutorial/aesthetics.html\n",
    "##melanie / erica assist with code for cadence"
   ]
  },
  {
   "cell_type": "code",
   "execution_count": 69,
   "id": "9e5e2ae3",
   "metadata": {},
   "outputs": [
    {
     "name": "stdout",
     "output_type": "stream",
     "text": [
      "4087\n"
     ]
    },
    {
     "data": {
      "text/html": [
       "<div>\n",
       "<style scoped>\n",
       "    .dataframe tbody tr th:only-of-type {\n",
       "        vertical-align: middle;\n",
       "    }\n",
       "\n",
       "    .dataframe tbody tr th {\n",
       "        vertical-align: top;\n",
       "    }\n",
       "\n",
       "    .dataframe thead th {\n",
       "        text-align: right;\n",
       "    }\n",
       "</style>\n",
       "<table border=\"1\" class=\"dataframe\">\n",
       "  <thead>\n",
       "    <tr style=\"text-align: right;\">\n",
       "      <th></th>\n",
       "      <th>CHILD_ID</th>\n",
       "      <th>SERVICE_DATE</th>\n",
       "      <th>START_TIME</th>\n",
       "      <th>END_TIME</th>\n",
       "      <th>SERVICE_SETTING</th>\n",
       "      <th>SERVICE_DELIVERY</th>\n",
       "      <th>ADD_USER</th>\n",
       "      <th>ADD_DATE</th>\n",
       "      <th>IFSP_TEAMING_ID_NAME</th>\n",
       "      <th>AGENCY_NAME</th>\n",
       "      <th>AGENCY_TYPE</th>\n",
       "      <th>SERVICE_NAME</th>\n",
       "    </tr>\n",
       "  </thead>\n",
       "  <tbody>\n",
       "    <tr>\n",
       "      <th>1</th>\n",
       "      <td>457136</td>\n",
       "      <td>2022-02-15</td>\n",
       "      <td>14:00:00</td>\n",
       "      <td>15:00:00</td>\n",
       "      <td>Community-based</td>\n",
       "      <td>Service Delivered</td>\n",
       "      <td>LEECAROL1</td>\n",
       "      <td>2022-02-16 05:29:12</td>\n",
       "      <td>Co-Visit</td>\n",
       "      <td>Siskin Children's Institute (EIRA)</td>\n",
       "      <td>EIRA</td>\n",
       "      <td>Dev. Therapy Prof - Home/Community</td>\n",
       "    </tr>\n",
       "    <tr>\n",
       "      <th>6</th>\n",
       "      <td>458850</td>\n",
       "      <td>2022-02-15</td>\n",
       "      <td>14:00:00</td>\n",
       "      <td>14:30:00</td>\n",
       "      <td>Telehealth</td>\n",
       "      <td>Service Delivered</td>\n",
       "      <td>BUCKCYNTHIA</td>\n",
       "      <td>2022-02-15 18:07:38</td>\n",
       "      <td>Co-Visit</td>\n",
       "      <td>Physical Therapy Services, PA (EIRA)</td>\n",
       "      <td>EIRA</td>\n",
       "      <td>Dev. Therapy Prof - Home/Community</td>\n",
       "    </tr>\n",
       "    <tr>\n",
       "      <th>7</th>\n",
       "      <td>458851</td>\n",
       "      <td>2022-02-15</td>\n",
       "      <td>14:15:00</td>\n",
       "      <td>14:45:00</td>\n",
       "      <td>Telehealth</td>\n",
       "      <td>Service Delivered</td>\n",
       "      <td>BUCKCYNTHIA</td>\n",
       "      <td>2022-02-15 18:08:54</td>\n",
       "      <td>Co-Visit</td>\n",
       "      <td>Physical Therapy Services, PA (EIRA)</td>\n",
       "      <td>EIRA</td>\n",
       "      <td>Dev. Therapy Prof - Home/Community</td>\n",
       "    </tr>\n",
       "  </tbody>\n",
       "</table>\n",
       "</div>"
      ],
      "text/plain": [
       "   CHILD_ID SERVICE_DATE START_TIME  END_TIME  SERVICE_SETTING  \\\n",
       "1    457136   2022-02-15   14:00:00  15:00:00  Community-based   \n",
       "6    458850   2022-02-15   14:00:00  14:30:00       Telehealth   \n",
       "7    458851   2022-02-15   14:15:00  14:45:00       Telehealth   \n",
       "\n",
       "    SERVICE_DELIVERY     ADD_USER            ADD_DATE IFSP_TEAMING_ID_NAME  \\\n",
       "1  Service Delivered    LEECAROL1 2022-02-16 05:29:12             Co-Visit   \n",
       "6  Service Delivered  BUCKCYNTHIA 2022-02-15 18:07:38             Co-Visit   \n",
       "7  Service Delivered  BUCKCYNTHIA 2022-02-15 18:08:54             Co-Visit   \n",
       "\n",
       "                            AGENCY_NAME AGENCY_TYPE  \\\n",
       "1    Siskin Children's Institute (EIRA)        EIRA   \n",
       "6  Physical Therapy Services, PA (EIRA)        EIRA   \n",
       "7  Physical Therapy Services, PA (EIRA)        EIRA   \n",
       "\n",
       "                         SERVICE_NAME  \n",
       "1  Dev. Therapy Prof - Home/Community  \n",
       "6  Dev. Therapy Prof - Home/Community  \n",
       "7  Dev. Therapy Prof - Home/Community  "
      ]
     },
     "execution_count": 69,
     "metadata": {},
     "output_type": "execute_result"
    }
   ],
   "source": [
    "# Filter the rows where 'IFSP Teaming ID name' is 'Co-Visit'/ create new df / check len\n",
    "covisit_check = compiled_df1.loc[compiled_df1['IFSP_TEAMING_ID_NAME'] == 'Co-Visit']\n",
    "covisit_check_df = pd.DataFrame(covisit_check)\n",
    "#Filter for SERVICE_DELIVERY = Service Delivered\n",
    "covisit_check = covisit_check.loc[covisit_check['SERVICE_DELIVERY'] == 'Service Delivered']\n",
    "covisit_check_df = pd.DataFrame(covisit_check)\n",
    "print(len(covisit_check_df.index))\n",
    "covisit_check_df.head(3)"
   ]
  },
  {
   "cell_type": "markdown",
   "id": "767d8189",
   "metadata": {},
   "source": [
    "##1. How many children are receiving co-visits? What is the rate of co-visits? \n",
    "##That is, out of children how have an IFSP, how many are receiving co-visits? "
   ]
  },
  {
   "cell_type": "code",
   "execution_count": 70,
   "id": "9973766d",
   "metadata": {},
   "outputs": [
    {
     "name": "stdout",
     "output_type": "stream",
     "text": [
      "count unique children receiving co-visits: 1642\n",
      "percentage of children with ifsp receiving co-visits: CHILD_ID    8.367732\n",
      "dtype: float64\n",
      "sum of co-visits: 4087\n",
      "mean of co-visist: 2.4890377588306944\n",
      "top 5 count of co-visit by child_id:\n",
      "494031    48\n",
      "480109    33\n",
      "494794    31\n",
      "481017    31\n",
      "511895    30\n",
      "Name: CHILD_ID, dtype: int64\n",
      "bottom 5 count of co-visit by child_id:\n",
      "529111    1\n",
      "534648    1\n",
      "529063    1\n",
      "520346    1\n",
      "534840    1\n",
      "Name: CHILD_ID, dtype: int64\n"
     ]
    }
   ],
   "source": [
    "#count unique children co-visits\n",
    "unique_child_rcv_covisit = covisit_check_df.CHILD_ID.unique().size\n",
    "print('count unique children receiving co-visits: '+str(unique_child_rcv_covisit))\n",
    "\n",
    "#calc percentage of children w/ ifsp receiving covisit\n",
    "perct_child_ifsp_rcv_covisit = (covisit_check_df.CHILD_ID.unique().size / children_df2[['CHILD_ID']].nunique()) * 100\n",
    "print('percentage of children with ifsp receiving co-visits: ' + str(perct_child_ifsp_rcv_covisit))\n",
    "\n",
    "#sum co-visits\n",
    "sum_covisits = covisit_check_df['CHILD_ID'].value_counts().sum()\n",
    "print('sum of co-visits: '+str(sum_covisits))\n",
    "\n",
    "#mean co-visits\n",
    "mean_covisits = covisit_check_df['CHILD_ID'].value_counts().mean()\n",
    "print('mean of co-visist: '+ str(mean_covisits))\n",
    "\n",
    "#view nlargest / nsmallest\n",
    "print('top 5 count of co-visit by child_id:')\n",
    "print(covisit_check_df['CHILD_ID'].value_counts().nlargest(5))\n",
    "print('bottom 5 count of co-visit by child_id:')\n",
    "print(covisit_check_df['CHILD_ID'].value_counts().nsmallest(5))"
   ]
  },
  {
   "cell_type": "markdown",
   "id": "fab2a8b6",
   "metadata": {},
   "source": [
    "##What is the cadence of co-visits?"
   ]
  },
  {
   "cell_type": "code",
   "execution_count": 55,
   "id": "c9d81366",
   "metadata": {},
   "outputs": [
    {
     "name": "stdout",
     "output_type": "stream",
     "text": [
      "      CHILD_ID SERVICE_DATE VISIT_DIFF\n",
      "9       459167   2022-01-26     0 days\n",
      "12      459167   2022-01-26     0 days\n",
      "10      459167   2022-02-09    14 days\n",
      "11      459167   2022-02-09     0 days\n",
      "13      459167   2022-02-09     0 days\n",
      "...        ...          ...        ...\n",
      "9526    539735   2023-01-31     0 days\n",
      "9528    539820   2022-12-19     7 days\n",
      "9529    539820   2023-01-23    35 days\n",
      "9530    539820   2023-01-30     7 days\n",
      "9533    539948   2023-01-31     0 days\n",
      "\n",
      "[2446 rows x 3 columns]\n",
      "Average time difference between co-visits: 41 days 16:39:11.020408163\n",
      "Median time difference between co-visits: 28 days 00:00:00\n",
      "Mode difference between cov-visits: 0   14 days\n",
      "Name: VISIT_DIFF, dtype: timedelta64[ns]\n"
     ]
    }
   ],
   "source": [
    "# Sort the co-visit rows by CHILD_ID and SERVICE_DATE\n",
    "co_visit_rows = covisit_check_df.sort_values(['CHILD_ID', 'SERVICE_DATE'])\n",
    "\n",
    "# Calculate the time difference between consecutive co-visits for each child\n",
    "co_visit_rows['VISIT_DIFF'] = co_visit_rows.groupby('CHILD_ID')['SERVICE_DATE'].diff()\n",
    "\n",
    "# Remove the first co-visit for each child since it doesn't have a previous co-visit\n",
    "co_visit_rows = co_visit_rows.dropna(subset=['VISIT_DIFF'])\n",
    "\n",
    "# Print the resulting dataframe\n",
    "print(co_visit_rows[['CHILD_ID', 'SERVICE_DATE', 'VISIT_DIFF']])\n",
    "\n",
    "morethan1 = co_visit_rows[co_visit_rows.VISIT_DIFF != '0 days']\n",
    "\n",
    "# Calculate the average time difference\n",
    "avg_time_diff = morethan1['VISIT_DIFF'].mean()\n",
    "med_time_diff = morethan1['VISIT_DIFF'].median()\n",
    "mode_time_diff = morethan1['VISIT_DIFF'].mode()\n",
    "\n",
    "print(\"Average time difference between co-visits:\", avg_time_diff)\n",
    "print(\"Median time difference between co-visits:\", med_time_diff)\n",
    "print(\"Mode difference between cov-visits:\", mode_time_diff)"
   ]
  },
  {
   "cell_type": "code",
   "execution_count": null,
   "id": "c5456c5d",
   "metadata": {},
   "outputs": [],
   "source": []
  }
 ],
 "metadata": {
  "kernelspec": {
   "display_name": "Python 3 (ipykernel)",
   "language": "python",
   "name": "python3"
  },
  "language_info": {
   "codemirror_mode": {
    "name": "ipython",
    "version": 3
   },
   "file_extension": ".py",
   "mimetype": "text/x-python",
   "name": "python",
   "nbconvert_exporter": "python",
   "pygments_lexer": "ipython3",
   "version": "3.10.9"
  }
 },
 "nbformat": 4,
 "nbformat_minor": 5
}
