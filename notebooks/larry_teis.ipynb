{
 "cells": [
  {
   "cell_type": "markdown",
   "id": "82572430",
   "metadata": {},
   "source": [
    "##READ ME\n",
    "##TEIS IFSP Teaming Data Question\n",
    "\n",
    "[The Tennessee Early Intervention System (TEIS)](https://www.tn.gov/didd/for-consumers/tennessee-early-intervention-system-teis.html) is a program that provides services to children ages birth up to age three who have disabilities or other developmental delays. In this project, you'll be looking into how teams that support children work together. \n",
    "\n",
    "You've been provided a spreadsheet containing data on children who received IFSP Teaming services. This spreadsheet is divided into two tabs.\n",
    "* Tab 1 contains log details of all children receiving IFSP Teaming services between January 1, 2022 and January 31, 2023. See the data dictionary for a description of each column.\n",
    "* Tab 2 contains a list of all children with IFSPs during the same timeframe. This includes a point of entry office, a referral date and an exit date.\n",
    "\n",
    "Analysis Questions:\n",
    "* How many children are receiving co-visits? What is the rate of co-visits? That is, out of children how have an IFSP, how many are receiving co-visits?\n",
    "* Children can have up to 6 co-visits per year. How many are recieving all 6 visits? Are there any who are exceeding 6 visits?\n",
    "* What is the cadence of co-visits?\n",
    "* In what setting do co-visits typically occur?\n",
    "* Who is performing co-visits? Are they generally performed by the same provider or discipline or by multiple providers or disciplines? Is it more likely for a co-visit to occur if vendor services are within th esame agency? \n",
    "* Does participation vary by service type? by point of entry?"
   ]
  },
  {
   "cell_type": "code",
   "execution_count": 1,
   "id": "407a388e",
   "metadata": {},
   "outputs": [],
   "source": [
    "import pandas as pd\n",
    "import numpy as np\n",
    "import matplotlib.pyplot as plt\n",
    "import seaborn as sns\n",
    "import datetime as dt"
   ]
  },
  {
   "cell_type": "code",
   "execution_count": 2,
   "id": "cf7f7563",
   "metadata": {},
   "outputs": [],
   "source": [
    "##EDA....part 1 import sreadsheet\n",
    "##https://stackoverflow.com/questions/26521266/using-pandas-to-pd-read-excel-for-multiple-worksheets-of-the-same-workbook\n",
    "## xls = pd.ExcelFile('path_to_file.xls')\n",
    "## df1 = pd.read_excel(xls, 'Sheet1')\n",
    "## df2 = pd.read_excel(xls, 'Sheet2')\n",
    "\n",
    "xlsx_teis = pd.ExcelFile('../data/TEIS_IFSP_Teaming_Jan_2022-_Jan_2023.xlsx')\n",
    "compiled_df1 = pd.read_excel(xlsx_teis, 'Compiled_IFSP Teaming')\n",
    "children_df2 = pd.read_excel(xlsx_teis, 'All Children with IFSPs')\n"
   ]
  },
  {
   "cell_type": "code",
   "execution_count": 3,
   "id": "965bc2be",
   "metadata": {},
   "outputs": [
    {
     "data": {
      "text/html": [
       "<div>\n",
       "<style scoped>\n",
       "    .dataframe tbody tr th:only-of-type {\n",
       "        vertical-align: middle;\n",
       "    }\n",
       "\n",
       "    .dataframe tbody tr th {\n",
       "        vertical-align: top;\n",
       "    }\n",
       "\n",
       "    .dataframe thead th {\n",
       "        text-align: right;\n",
       "    }\n",
       "</style>\n",
       "<table border=\"1\" class=\"dataframe\">\n",
       "  <thead>\n",
       "    <tr style=\"text-align: right;\">\n",
       "      <th></th>\n",
       "      <th>CHILD_ID</th>\n",
       "      <th>SERVICE_DATE</th>\n",
       "      <th>START_TIME</th>\n",
       "      <th>END_TIME</th>\n",
       "      <th>SERVICE_SETTING</th>\n",
       "      <th>SERVICE DELIVERY</th>\n",
       "      <th>ADD_USER</th>\n",
       "      <th>ADD_DATE</th>\n",
       "      <th>IFSP Teaming ID name</th>\n",
       "      <th>Agency Name</th>\n",
       "      <th>Agency Type</th>\n",
       "      <th>Service Name</th>\n",
       "    </tr>\n",
       "  </thead>\n",
       "  <tbody>\n",
       "    <tr>\n",
       "      <th>0</th>\n",
       "      <td>457136</td>\n",
       "      <td>2022-01-21</td>\n",
       "      <td>09:30:00</td>\n",
       "      <td>10:30:00</td>\n",
       "      <td>Community-based</td>\n",
       "      <td>Service Delivered</td>\n",
       "      <td>LEECAROL1</td>\n",
       "      <td>2022-01-21 17:54:45</td>\n",
       "      <td>IEP Meeting</td>\n",
       "      <td>Siskin Children's Institute (EIRA)</td>\n",
       "      <td>EIRA</td>\n",
       "      <td>Dev. Therapy Prof - Home/Community</td>\n",
       "    </tr>\n",
       "    <tr>\n",
       "      <th>1</th>\n",
       "      <td>457136</td>\n",
       "      <td>2022-02-15</td>\n",
       "      <td>14:00:00</td>\n",
       "      <td>15:00:00</td>\n",
       "      <td>Community-based</td>\n",
       "      <td>Service Delivered</td>\n",
       "      <td>LEECAROL1</td>\n",
       "      <td>2022-02-16 05:29:12</td>\n",
       "      <td>Co-Visit</td>\n",
       "      <td>Siskin Children's Institute (EIRA)</td>\n",
       "      <td>EIRA</td>\n",
       "      <td>Dev. Therapy Prof - Home/Community</td>\n",
       "    </tr>\n",
       "    <tr>\n",
       "      <th>2</th>\n",
       "      <td>457585</td>\n",
       "      <td>2022-01-24</td>\n",
       "      <td>08:30:00</td>\n",
       "      <td>09:30:00</td>\n",
       "      <td>Telehealth</td>\n",
       "      <td>Service Delivered</td>\n",
       "      <td>MILLARDCATHERINE</td>\n",
       "      <td>2022-01-24 14:18:29</td>\n",
       "      <td>IEP Meeting</td>\n",
       "      <td>Siskin Children's Institute (EIRA)</td>\n",
       "      <td>EIRA</td>\n",
       "      <td>Dev. Therapy Prof - Home/Community</td>\n",
       "    </tr>\n",
       "    <tr>\n",
       "      <th>3</th>\n",
       "      <td>457852</td>\n",
       "      <td>2022-01-12</td>\n",
       "      <td>14:00:00</td>\n",
       "      <td>15:00:00</td>\n",
       "      <td>Community-based</td>\n",
       "      <td>Service Delivered</td>\n",
       "      <td>HEMELKATIE1</td>\n",
       "      <td>2022-01-18 10:39:51</td>\n",
       "      <td>IEP Meeting</td>\n",
       "      <td>LTVEC</td>\n",
       "      <td>EIRA</td>\n",
       "      <td>Dev. Therapy Prof - Home/Community</td>\n",
       "    </tr>\n",
       "    <tr>\n",
       "      <th>4</th>\n",
       "      <td>458051</td>\n",
       "      <td>2022-01-12</td>\n",
       "      <td>12:00:00</td>\n",
       "      <td>13:00:00</td>\n",
       "      <td>Telehealth</td>\n",
       "      <td>Service Delivered</td>\n",
       "      <td>JONESMEGAN</td>\n",
       "      <td>2022-01-12 13:46:48</td>\n",
       "      <td>IFSP Meeting</td>\n",
       "      <td>First Steps, Inc (EIRA)</td>\n",
       "      <td>EIRA</td>\n",
       "      <td>Dev. Therapy Prof - Home/Community</td>\n",
       "    </tr>\n",
       "  </tbody>\n",
       "</table>\n",
       "</div>"
      ],
      "text/plain": [
       "   CHILD_ID SERVICE_DATE START_TIME  END_TIME  SERVICE_SETTING  \\\n",
       "0    457136   2022-01-21   09:30:00  10:30:00  Community-based   \n",
       "1    457136   2022-02-15   14:00:00  15:00:00  Community-based   \n",
       "2    457585   2022-01-24   08:30:00  09:30:00       Telehealth   \n",
       "3    457852   2022-01-12   14:00:00  15:00:00  Community-based   \n",
       "4    458051   2022-01-12   12:00:00  13:00:00       Telehealth   \n",
       "\n",
       "    SERVICE DELIVERY          ADD_USER            ADD_DATE  \\\n",
       "0  Service Delivered         LEECAROL1 2022-01-21 17:54:45   \n",
       "1  Service Delivered         LEECAROL1 2022-02-16 05:29:12   \n",
       "2  Service Delivered  MILLARDCATHERINE 2022-01-24 14:18:29   \n",
       "3  Service Delivered       HEMELKATIE1 2022-01-18 10:39:51   \n",
       "4  Service Delivered        JONESMEGAN 2022-01-12 13:46:48   \n",
       "\n",
       "  IFSP Teaming ID name                         Agency Name Agency Type  \\\n",
       "0          IEP Meeting  Siskin Children's Institute (EIRA)        EIRA   \n",
       "1             Co-Visit  Siskin Children's Institute (EIRA)        EIRA   \n",
       "2          IEP Meeting  Siskin Children's Institute (EIRA)        EIRA   \n",
       "3          IEP Meeting                               LTVEC        EIRA   \n",
       "4         IFSP Meeting             First Steps, Inc (EIRA)        EIRA   \n",
       "\n",
       "                         Service Name  \n",
       "0  Dev. Therapy Prof - Home/Community  \n",
       "1  Dev. Therapy Prof - Home/Community  \n",
       "2  Dev. Therapy Prof - Home/Community  \n",
       "3  Dev. Therapy Prof - Home/Community  \n",
       "4  Dev. Therapy Prof - Home/Community  "
      ]
     },
     "execution_count": 3,
     "metadata": {},
     "output_type": "execute_result"
    }
   ],
   "source": [
    "compiled_df1.head() "
   ]
  },
  {
   "cell_type": "code",
   "execution_count": 4,
   "id": "8c6ef761",
   "metadata": {},
   "outputs": [
    {
     "data": {
      "text/html": [
       "<div>\n",
       "<style scoped>\n",
       "    .dataframe tbody tr th:only-of-type {\n",
       "        vertical-align: middle;\n",
       "    }\n",
       "\n",
       "    .dataframe tbody tr th {\n",
       "        vertical-align: top;\n",
       "    }\n",
       "\n",
       "    .dataframe thead th {\n",
       "        text-align: right;\n",
       "    }\n",
       "</style>\n",
       "<table border=\"1\" class=\"dataframe\">\n",
       "  <thead>\n",
       "    <tr style=\"text-align: right;\">\n",
       "      <th></th>\n",
       "      <th>POE</th>\n",
       "      <th>Child ID</th>\n",
       "      <th>Referral Date</th>\n",
       "      <th>Exit Date</th>\n",
       "    </tr>\n",
       "  </thead>\n",
       "  <tbody>\n",
       "    <tr>\n",
       "      <th>0</th>\n",
       "      <td>ET</td>\n",
       "      <td>508615</td>\n",
       "      <td>2021-08-06</td>\n",
       "      <td>NaT</td>\n",
       "    </tr>\n",
       "    <tr>\n",
       "      <th>1</th>\n",
       "      <td>ET</td>\n",
       "      <td>488455</td>\n",
       "      <td>2021-11-02</td>\n",
       "      <td>NaT</td>\n",
       "    </tr>\n",
       "    <tr>\n",
       "      <th>2</th>\n",
       "      <td>ET</td>\n",
       "      <td>494500</td>\n",
       "      <td>2020-12-14</td>\n",
       "      <td>NaT</td>\n",
       "    </tr>\n",
       "    <tr>\n",
       "      <th>3</th>\n",
       "      <td>ET</td>\n",
       "      <td>515143</td>\n",
       "      <td>2021-11-22</td>\n",
       "      <td>NaT</td>\n",
       "    </tr>\n",
       "    <tr>\n",
       "      <th>4</th>\n",
       "      <td>ET</td>\n",
       "      <td>505490</td>\n",
       "      <td>2021-06-15</td>\n",
       "      <td>NaT</td>\n",
       "    </tr>\n",
       "  </tbody>\n",
       "</table>\n",
       "</div>"
      ],
      "text/plain": [
       "  POE  Child ID Referral Date Exit Date\n",
       "0  ET    508615    2021-08-06       NaT\n",
       "1  ET    488455    2021-11-02       NaT\n",
       "2  ET    494500    2020-12-14       NaT\n",
       "3  ET    515143    2021-11-22       NaT\n",
       "4  ET    505490    2021-06-15       NaT"
      ]
     },
     "execution_count": 4,
     "metadata": {},
     "output_type": "execute_result"
    }
   ],
   "source": [
    "children_df2.head()"
   ]
  },
  {
   "cell_type": "code",
   "execution_count": 5,
   "id": "6d9e05da",
   "metadata": {},
   "outputs": [
    {
     "name": "stdout",
     "output_type": "stream",
     "text": [
      "<class 'pandas.core.frame.DataFrame'>\n",
      "RangeIndex: 9543 entries, 0 to 9542\n",
      "Data columns (total 12 columns):\n",
      " #   Column                Non-Null Count  Dtype         \n",
      "---  ------                --------------  -----         \n",
      " 0   CHILD_ID              9543 non-null   int64         \n",
      " 1   SERVICE_DATE          9543 non-null   datetime64[ns]\n",
      " 2   START_TIME            9532 non-null   object        \n",
      " 3   END_TIME              9532 non-null   object        \n",
      " 4   SERVICE_SETTING       9533 non-null   object        \n",
      " 5   SERVICE DELIVERY      9543 non-null   object        \n",
      " 6   ADD_USER              9543 non-null   object        \n",
      " 7   ADD_DATE              9543 non-null   datetime64[ns]\n",
      " 8   IFSP Teaming ID name  9543 non-null   object        \n",
      " 9   Agency Name           9543 non-null   object        \n",
      " 10  Agency Type           9543 non-null   object        \n",
      " 11  Service Name          9543 non-null   object        \n",
      "dtypes: datetime64[ns](2), int64(1), object(9)\n",
      "memory usage: 894.8+ KB\n",
      "None\n",
      "<class 'pandas.core.frame.DataFrame'>\n",
      "RangeIndex: 138664 entries, 0 to 138663\n",
      "Data columns (total 4 columns):\n",
      " #   Column         Non-Null Count   Dtype         \n",
      "---  ------         --------------   -----         \n",
      " 0   POE            138664 non-null  object        \n",
      " 1   Child ID       138664 non-null  int64         \n",
      " 2   Referral Date  138664 non-null  datetime64[ns]\n",
      " 3   Exit Date      15607 non-null   datetime64[ns]\n",
      "dtypes: datetime64[ns](2), int64(1), object(1)\n",
      "memory usage: 4.2+ MB\n",
      "None\n"
     ]
    }
   ],
   "source": [
    "print(compiled_df1.info(verbose=True))\n",
    "print(children_df2.info(verbose=True))"
   ]
  },
  {
   "cell_type": "code",
   "execution_count": 6,
   "id": "4004c950",
   "metadata": {},
   "outputs": [
    {
     "name": "stdout",
     "output_type": "stream",
     "text": [
      "            CHILD_ID\n",
      "count    9543.000000\n",
      "mean   503923.012051\n",
      "std     17148.944343\n",
      "min    457136.000000\n",
      "25%    492312.500000\n",
      "50%    505531.000000\n",
      "75%    515686.000000\n",
      "max    542122.000000\n",
      "<class 'pandas.core.frame.DataFrame'>\n",
      "RangeIndex: 138664 entries, 0 to 138663\n",
      "Data columns (total 4 columns):\n",
      " #   Column         Non-Null Count   Dtype         \n",
      "---  ------         --------------   -----         \n",
      " 0   POE            138664 non-null  object        \n",
      " 1   Child ID       138664 non-null  int64         \n",
      " 2   Referral Date  138664 non-null  datetime64[ns]\n",
      " 3   Exit Date      15607 non-null   datetime64[ns]\n",
      "dtypes: datetime64[ns](2), int64(1), object(1)\n",
      "memory usage: 4.2+ MB\n",
      "None\n"
     ]
    }
   ],
   "source": [
    "print(compiled_df1.describe())\n",
    "print(children_df2.info())"
   ]
  },
  {
   "cell_type": "code",
   "execution_count": 7,
   "id": "dc653aa6",
   "metadata": {},
   "outputs": [
    {
     "name": "stdout",
     "output_type": "stream",
     "text": [
      "2022-01-03 00:00:00\n",
      "2023-01-31 00:00:00\n",
      "2019-01-11 00:00:00\n",
      "2023-01-31 00:00:00\n",
      "NaT\n",
      "NaT\n"
     ]
    }
   ],
   "source": [
    "## min / max dates in compiled_df1 / children_df2\n",
    "##https://stackoverflow.com/questions/23178129/getting-min-and-max-dates-from-a-pandas-dataframe\n",
    "##min(df['some_property']) / max(df['some_property'])\n",
    "\n",
    "print(min(compiled_df1['SERVICE_DATE']))\n",
    "print(max(compiled_df1['SERVICE_DATE']))\n",
    "print(min(children_df2['Referral Date']))\n",
    "print(max(children_df2['Referral Date']))\n",
    "print(min(children_df2['Exit Date']))\n",
    "print(max(children_df2['Exit Date']))"
   ]
  },
  {
   "cell_type": "code",
   "execution_count": 8,
   "id": "e18a5e4a",
   "metadata": {},
   "outputs": [
    {
     "data": {
      "text/plain": [
       "CHILD_ID                4789\n",
       "SERVICE_SETTING            4\n",
       "SERVICE DELIVERY           4\n",
       "IFSP Teaming ID name       3\n",
       "Agency Name               85\n",
       "Agency Type                3\n",
       "Service Name              23\n",
       "dtype: int64"
      ]
     },
     "execution_count": 8,
     "metadata": {},
     "output_type": "execute_result"
    }
   ],
   "source": [
    "##check unique count compiled_df1\n",
    "#https://sparkbyexamples.com/pandas/pandas-count-unique-values-in-column/\n",
    "#Count unique on multiple columns\n",
    "#count = df[['Courses','Fee']].nunique()\n",
    "\n",
    "count_df1 = compiled_df1[['CHILD_ID','SERVICE_SETTING','SERVICE DELIVERY','IFSP Teaming ID name','Agency Name','Agency Type','Service Name']].nunique() \n",
    "count_df1"
   ]
  },
  {
   "cell_type": "code",
   "execution_count": 9,
   "id": "20213876",
   "metadata": {},
   "outputs": [
    {
     "data": {
      "text/plain": [
       "POE             9\n",
       "Child ID    19623\n",
       "dtype: int64"
      ]
     },
     "execution_count": 9,
     "metadata": {},
     "output_type": "execute_result"
    }
   ],
   "source": [
    "##check unique count children_df2\n",
    "count_df2 = children_df2[['POE','Child ID']].nunique() \n",
    "count_df2"
   ]
  },
  {
   "cell_type": "code",
   "execution_count": 10,
   "id": "d9045b7f",
   "metadata": {},
   "outputs": [
    {
     "name": "stdout",
     "output_type": "stream",
     "text": [
      "['Community-based' 'Telehealth' 'Home' 'Other' nan]\n",
      "['Service Delivered' 'Absence Due to Family' 'Family No Show'\n",
      " 'Absence Due to Provider']\n",
      "['IEP Meeting' 'Co-Visit' 'IFSP Meeting']\n",
      "[\"Siskin Children's Institute (EIRA)\" 'LTVEC' 'First Steps, Inc (EIRA)'\n",
      " 'Sunshine Early Intervention - Knox Cty ARC'\n",
      " 'Physical Therapy Services, PA (EIRA)' 'LeBonheur EI & Dev (LEAD) (EIRA)'\n",
      " 'LeBonheur EI & Dev (LEAD) (vendor)'\n",
      " 'Shelby Residential & Voc Svcs(SRVS) (EIRA)' 'Signal Centers, Inc.'\n",
      " 'Therapy & Learning Center, Inc. (EIRA)'\n",
      " 'Susan Gray School - Vanderbilt Univ'\n",
      " 'Support Solutions of the Mid-South (CS Patterson)' \"Kid's Putnam, Inc.\"\n",
      " 'Little Folks Arc of Washington Co.'\n",
      " 'Michael Dunn Center/ The Henry Center' 'Pediatric Language Clinic'\n",
      " 'BRIDGES - Tennessee Tech University' 'Vanderbilt Bill Wilkerson Center'\n",
      " 'BEST (Blind-Visually Impaired Early Svcs Tn)'\n",
      " 'Can Do Kids Pediatric Therapy Services, LLC'\n",
      " 'Morristown Hamblen Child Care Center' 'Emory Valley Center'\n",
      " 'Progressive Directions Inc.'\n",
      " 'James Developmental Ctr - Small Steps Preschool'\n",
      " 'Middle Tennessee State University' 'Expanding Horizons - ETSU'\n",
      " 'Infant Stimulation Program - UT Martin' 'WAVES, Inc.'\n",
      " 'Developmental Svcs  of Dickson Cty - Foundations'\n",
      " 'Rainbow Early Intervention (HATS)' 'Easter Seals Tennessee Inc'\n",
      " 'Community Development Center'\n",
      " 'Therapy & Learning Center Inc (vendor WTCCD)'\n",
      " \"Erlanger Health Care System/TC Thompson's Children\"\n",
      " 'KF Pediatric Therapy' 'Heightened Potential Co'\n",
      " 'Holly Hanna dba Pediatric Physical Therapy'\n",
      " 'Pediatric Physical Therapy (Nancy Cogburn)'\n",
      " 'Mini Miracles Pediatric Therapy, PLLC' 'Rehab At Your Place (EIRA)'\n",
      " 'Therapeutic Rehab Services - Cathy Otis'\n",
      " \"Siskin Children's Institute (vendor svcs)\"\n",
      " 'Project Memphis-University of Memphis (EIRA)'\n",
      " 'Fentress County School System'\n",
      " 'Chattanooga-United Seating & MobilityLLC/Numotion' 'TheraKids, Inc.'\n",
      " 'Cleveland TN Hosp dba Tennova Healthcare-Cleveland'\n",
      " 'Blount Memorial Hospital' 'LeBonheur East Outpatient Rehab'\n",
      " 'Mountain States Hlth Alli dba Indian Path Comm Hos'\n",
      " 'Feltz Therapy Services, LLC' 'Play Ball Childrens Therapy, LLC'\n",
      " 'Choice Medical Inc / Choice Orthotics Prosthetics' 'Twana Mullins'\n",
      " 'Courageous Kids, LLC' 'Beth A. Ballinger'\n",
      " 'Jeannine Couvertiere, SLP Services'\n",
      " 'Words for Life Speech & Language Center, LLC'\n",
      " 'Rehab At Your Place (vendor)' 'Deborah Curlee Communication Consultants'\n",
      " 'Sarah Elizabeth Henry' 'Prospect, Inc.'\n",
      " 'Health Sphere Wellness Center, LLC.' 'Jon Allen, OTR/L'\n",
      " 'STAR Center, Inc.' 'Project Play Therapy dba Franklin Speech &Learning'\n",
      " 'Maury Regional Hospital dba Maury Regional Med Ctr'\n",
      " 'Vanderbilt Pediatric Rehabilitation' 'CTS, LLC (Tyrice Cartwright)'\n",
      " 'Vanderbilt-TRIAD' 'Siskin EIBS' 'Stellar Therapy Services'\n",
      " 'N. Scott Keaton, PT dba Little Heroes'\n",
      " 'LIFT Therapy dba Sports Plus Dyersburg'\n",
      " 'Innovative Therapy Solutions, PLLC' 'Methodist Medical Center'\n",
      " 'LeBonheur Downtown Outpatient Rehab'\n",
      " 'LIFT Therapy dba Sports Plus Lexington' 'TalkBack'\n",
      " \"East Tennessee Children's Hospital Rehab Center\"\n",
      " 'UT Hearing & Speech Center' 'WeeCommunicate, LLC'\n",
      " 'Results AST JV / Results Physiotherapy'\n",
      " 'Trillium Speech, Language and Voice Svcs, LLC' 'Therapy.Works LLC']\n",
      "['EIRA' 'Independent' 'Other']\n",
      "['Dev. Therapy Prof - Home/Community' 'Physical Therapy Assistant'\n",
      " 'Speech Therapy' 'Occupational Therapy' 'Dev. Therapy - BCBA'\n",
      " 'Speech Therapy-Group' 'Dev. Therapy Center-Based' 'Physical Therapy'\n",
      " 'Evaluation - Occupational Therapy'\n",
      " 'IFSP Team Member Participation (Face-To-Face)' 'Vision Services'\n",
      " 'Evaluation - Speech Therapy' 'Eval/Assess - Developmental'\n",
      " 'Dev. Therapy ParaProf - Home/Community'\n",
      " 'IFSP Team Member Participation (Virtual)' 'Assistive Technology'\n",
      " 'Evaluation - BCBA Developmental Therapy'\n",
      " 'Dev. Therapy – Registered Behavior Tech (RBT)'\n",
      " 'Evaluation - Physical Therapy' 'Evaluation/Assessment - Vision'\n",
      " 'Consultation – Developmental Therapy' 'Dev. Therapy - Behavior'\n",
      " 'Occupational Therapy Assistant']\n"
     ]
    }
   ],
   "source": [
    "##check unique values compiled_df1\n",
    "##https://www.geeksforgeeks.org/get-unique-values-from-a-column-in-pandas-dataframe/\n",
    "print(compiled_df1['SERVICE_SETTING'].unique())\n",
    "print(compiled_df1['SERVICE DELIVERY'].unique())\n",
    "print(compiled_df1['IFSP Teaming ID name'].unique())\n",
    "print(compiled_df1['Agency Name'].unique())\n",
    "print(compiled_df1['Agency Type'].unique())\n",
    "print(compiled_df1['Service Name'].unique())"
   ]
  },
  {
   "cell_type": "code",
   "execution_count": 11,
   "id": "078cc19f",
   "metadata": {},
   "outputs": [
    {
     "name": "stdout",
     "output_type": "stream",
     "text": [
      "['ET' 'FT' 'GN' 'MD' 'NW' 'SC' 'SE' 'SW' 'UC']\n"
     ]
    }
   ],
   "source": [
    "##check unique values children_df2\n",
    "print(children_df2['POE'].unique())"
   ]
  },
  {
   "cell_type": "code",
   "execution_count": 12,
   "id": "45e08df7",
   "metadata": {},
   "outputs": [
    {
     "name": "stdout",
     "output_type": "stream",
     "text": [
      "LeBonheur EI & Dev (LEAD) (vendor)            924\n",
      "Emory Valley Center                           730\n",
      "Siskin Children's Institute (EIRA)            685\n",
      "Physical Therapy Services, PA (EIRA)          589\n",
      "LeBonheur EI & Dev (LEAD) (EIRA)              505\n",
      "Therapy & Learning Center, Inc. (EIRA)        479\n",
      "Kid's Putnam, Inc.                            445\n",
      "WAVES, Inc.                                   429\n",
      "Shelby Residential & Voc Svcs(SRVS) (EIRA)    323\n",
      "Community Development Center                  304\n",
      "Name: Agency Name, dtype: int64\n"
     ]
    }
   ],
   "source": [
    "##Top 10 Agency Name compiled_df1\n",
    "##https://stackoverflow.com/questions/48590268/pandas-get-the-most-frequent-values-of-a-column\n",
    "##df['name'].value_counts().nlargest(5)\n",
    "\n",
    "print(compiled_df1['Agency Name'].value_counts().nlargest(10))"
   ]
  },
  {
   "cell_type": "code",
   "execution_count": 13,
   "id": "7c0d7602",
   "metadata": {},
   "outputs": [
    {
     "name": "stdout",
     "output_type": "stream",
     "text": [
      "632\n",
      "4091\n",
      "4820\n"
     ]
    }
   ],
   "source": [
    "##count IFSP Teaming ID\n",
    "##https://www.geeksforgeeks.org/how-to-count-occurrences-of-specific-value-in-pandas-column/\n",
    "##data['column_name'].value_counts()[value]\n",
    "##['IEP Meeting' 'Co-Visit' 'IFSP Meeting']\n",
    "\n",
    "print(compiled_df1['IFSP Teaming ID name'].value_counts()['IEP Meeting'])\n",
    "print(compiled_df1['IFSP Teaming ID name'].value_counts()['Co-Visit'])\n",
    "print(compiled_df1['IFSP Teaming ID name'].value_counts()['IFSP Meeting'])"
   ]
  },
  {
   "cell_type": "code",
   "execution_count": 14,
   "id": "0c611174",
   "metadata": {},
   "outputs": [
    {
     "data": {
      "text/plain": [
       "<Axes: >"
      ]
     },
     "execution_count": 14,
     "metadata": {},
     "output_type": "execute_result"
    },
    {
     "data": {
      "image/png": "[encoded data removed]",
      "text/plain": [
       "<Figure size 640x480 with 1 Axes>"
      ]
     },
     "metadata": {},
     "output_type": "display_data"
    }
   ],
   "source": [
    "##view IFSP Teaming ID in chart\n",
    "##used notes/example from socrata ap project\n",
    "##convert to numeris required / example: map_res_df['query_count'] = pd.to_numeric(map_res_df['query_count'])\n",
    "ifsp_plot = compiled_df1['IFSP Teaming ID name'].value_counts()\n",
    "ifsp_plot.plot(kind='bar')"
   ]
  },
  {
   "cell_type": "code",
   "execution_count": 15,
   "id": "34598248",
   "metadata": {},
   "outputs": [
    {
     "data": {
      "text/plain": [
       "<Axes: >"
      ]
     },
     "execution_count": 15,
     "metadata": {},
     "output_type": "execute_result"
    },
    {
     "data": {
      "image/png": "[encoded data removed]",
      "text/plain": [
       "<Figure size 640x480 with 1 Axes>"
      ]
     },
     "metadata": {},
     "output_type": "display_data"
    }
   ],
   "source": [
    "##horizontal bar chart\n",
    "##https://datatofish.com/horizontal-bar-chart-matplotlib/\n",
    "ifsp_plot.plot.barh()"
   ]
  },
  {
   "cell_type": "code",
   "execution_count": 16,
   "id": "d41956c9",
   "metadata": {},
   "outputs": [
    {
     "data": {
      "text/plain": [
       "<Axes: >"
      ]
     },
     "execution_count": 16,
     "metadata": {},
     "output_type": "execute_result"
    },
    {
     "data": {
      "image/png": "[encoded data removed]",
      "text/plain": [
       "<Figure size 640x480 with 1 Axes>"
      ]
     },
     "metadata": {},
     "output_type": "display_data"
    }
   ],
   "source": [
    "##view IFSP Teaming ID in chart\n",
    "##used notes/example from socrata ap project\n",
    "agency_top10_plot = compiled_df1['Agency Name'].value_counts().nlargest(10)\n",
    "agency_top10_plot.plot(kind='bar')\n"
   ]
  },
  {
   "cell_type": "markdown",
   "id": "c06d478d",
   "metadata": {},
   "source": [
    "plt.rcParams['figure.figsize'] = [10, 4]\n",
    "map_res_df.plot.line(x='month_name', y='query_count')\n",
    "plt.title('Map Queries Total Per Month Review 2014-2021')\n",
    "plt.xlabel('Month')\n",
    "plt.ylabel('Query Count')"
   ]
  },
  {
   "cell_type": "code",
   "execution_count": 17,
   "id": "bd9b0c04",
   "metadata": {},
   "outputs": [
    {
     "data": {
      "text/plain": [
       "<Axes: >"
      ]
     },
     "execution_count": 17,
     "metadata": {},
     "output_type": "execute_result"
    },
    {
     "data": {
      "image/png": "[encoded data removed]",
      "text/plain": [
       "<Figure size 640x480 with 1 Axes>"
      ]
     },
     "metadata": {},
     "output_type": "display_data"
    }
   ],
   "source": [
    "##horizontal bar chart\n",
    "##https://datatofish.com/horizontal-bar-chart-matplotlib/\n",
    "agency_top10_plot.plot.barh()"
   ]
  },
  {
   "cell_type": "code",
   "execution_count": 18,
   "id": "c120aec3",
   "metadata": {},
   "outputs": [
    {
     "data": {
      "text/html": [
       "<div>\n",
       "<style scoped>\n",
       "    .dataframe tbody tr th:only-of-type {\n",
       "        vertical-align: middle;\n",
       "    }\n",
       "\n",
       "    .dataframe tbody tr th {\n",
       "        vertical-align: top;\n",
       "    }\n",
       "\n",
       "    .dataframe thead th {\n",
       "        text-align: right;\n",
       "    }\n",
       "</style>\n",
       "<table border=\"1\" class=\"dataframe\">\n",
       "  <thead>\n",
       "    <tr style=\"text-align: right;\">\n",
       "      <th></th>\n",
       "      <th>CHILD_ID</th>\n",
       "      <th>SERVICE_DATE</th>\n",
       "      <th>START_TIME</th>\n",
       "      <th>END_TIME</th>\n",
       "      <th>SERVICE_SETTING</th>\n",
       "      <th>SERVICE DELIVERY</th>\n",
       "      <th>ADD_USER</th>\n",
       "      <th>ADD_DATE</th>\n",
       "      <th>IFSP Teaming ID name</th>\n",
       "      <th>Agency Name</th>\n",
       "      <th>Agency Type</th>\n",
       "      <th>Service Name</th>\n",
       "    </tr>\n",
       "  </thead>\n",
       "  <tbody>\n",
       "    <tr>\n",
       "      <th>0</th>\n",
       "      <td>457136</td>\n",
       "      <td>2022-01-21</td>\n",
       "      <td>09:30:00</td>\n",
       "      <td>10:30:00</td>\n",
       "      <td>Community-based</td>\n",
       "      <td>Service Delivered</td>\n",
       "      <td>LEECAROL1</td>\n",
       "      <td>2022-01-21 17:54:45</td>\n",
       "      <td>IEP Meeting</td>\n",
       "      <td>Siskin Children's Institute (EIRA)</td>\n",
       "      <td>EIRA</td>\n",
       "      <td>Dev. Therapy Prof - Home/Community</td>\n",
       "    </tr>\n",
       "  </tbody>\n",
       "</table>\n",
       "</div>"
      ],
      "text/plain": [
       "   CHILD_ID SERVICE_DATE START_TIME  END_TIME  SERVICE_SETTING  \\\n",
       "0    457136   2022-01-21   09:30:00  10:30:00  Community-based   \n",
       "\n",
       "    SERVICE DELIVERY   ADD_USER            ADD_DATE IFSP Teaming ID name  \\\n",
       "0  Service Delivered  LEECAROL1 2022-01-21 17:54:45          IEP Meeting   \n",
       "\n",
       "                          Agency Name Agency Type  \\\n",
       "0  Siskin Children's Institute (EIRA)        EIRA   \n",
       "\n",
       "                         Service Name  \n",
       "0  Dev. Therapy Prof - Home/Community  "
      ]
     },
     "execution_count": 18,
     "metadata": {},
     "output_type": "execute_result"
    }
   ],
   "source": [
    "compiled_df1.head(1)"
   ]
  },
  {
   "cell_type": "code",
   "execution_count": 19,
   "id": "68115010",
   "metadata": {},
   "outputs": [],
   "source": [
    "##rename column names\n",
    "##https://stackoverflow.com/questions/11346283/renaming-column-names-in-pandas\n",
    "##df = df.rename(columns={'oldName1': 'newName1', 'oldName2': 'newName2'})\n",
    "compiled_df1 = compiled_df1.rename(columns={'SERVICE DELIVERY':'SERVICE_DELIVERY','IFSP Teaming ID name':'IFSP_TEAMING_ID_NAME','Agency Name':'AGENCY_NAME','Agency Type':'AGENCY_TYPE','Service Name':'SERVICE_NAME'})\n",
    "children_df2 = children_df2.rename(columns={'Child ID': 'CHILD_ID', 'Referral Date':'REFERRAL_DATE', 'Exit Date':'EXIT_DATE'})"
   ]
  },
  {
   "cell_type": "code",
   "execution_count": 20,
   "id": "25605335",
   "metadata": {},
   "outputs": [
    {
     "name": "stdout",
     "output_type": "stream",
     "text": [
      "4087\n"
     ]
    },
    {
     "data": {
      "text/html": [
       "<div>\n",
       "<style scoped>\n",
       "    .dataframe tbody tr th:only-of-type {\n",
       "        vertical-align: middle;\n",
       "    }\n",
       "\n",
       "    .dataframe tbody tr th {\n",
       "        vertical-align: top;\n",
       "    }\n",
       "\n",
       "    .dataframe thead th {\n",
       "        text-align: right;\n",
       "    }\n",
       "</style>\n",
       "<table border=\"1\" class=\"dataframe\">\n",
       "  <thead>\n",
       "    <tr style=\"text-align: right;\">\n",
       "      <th></th>\n",
       "      <th>CHILD_ID</th>\n",
       "      <th>SERVICE_DATE</th>\n",
       "      <th>START_TIME</th>\n",
       "      <th>END_TIME</th>\n",
       "      <th>SERVICE_SETTING</th>\n",
       "      <th>SERVICE_DELIVERY</th>\n",
       "      <th>ADD_USER</th>\n",
       "      <th>ADD_DATE</th>\n",
       "      <th>IFSP_TEAMING_ID_NAME</th>\n",
       "      <th>AGENCY_NAME</th>\n",
       "      <th>AGENCY_TYPE</th>\n",
       "      <th>SERVICE_NAME</th>\n",
       "    </tr>\n",
       "  </thead>\n",
       "  <tbody>\n",
       "    <tr>\n",
       "      <th>1</th>\n",
       "      <td>457136</td>\n",
       "      <td>2022-02-15</td>\n",
       "      <td>14:00:00</td>\n",
       "      <td>15:00:00</td>\n",
       "      <td>Community-based</td>\n",
       "      <td>Service Delivered</td>\n",
       "      <td>LEECAROL1</td>\n",
       "      <td>2022-02-16 05:29:12</td>\n",
       "      <td>Co-Visit</td>\n",
       "      <td>Siskin Children's Institute (EIRA)</td>\n",
       "      <td>EIRA</td>\n",
       "      <td>Dev. Therapy Prof - Home/Community</td>\n",
       "    </tr>\n",
       "    <tr>\n",
       "      <th>6</th>\n",
       "      <td>458850</td>\n",
       "      <td>2022-02-15</td>\n",
       "      <td>14:00:00</td>\n",
       "      <td>14:30:00</td>\n",
       "      <td>Telehealth</td>\n",
       "      <td>Service Delivered</td>\n",
       "      <td>BUCKCYNTHIA</td>\n",
       "      <td>2022-02-15 18:07:38</td>\n",
       "      <td>Co-Visit</td>\n",
       "      <td>Physical Therapy Services, PA (EIRA)</td>\n",
       "      <td>EIRA</td>\n",
       "      <td>Dev. Therapy Prof - Home/Community</td>\n",
       "    </tr>\n",
       "    <tr>\n",
       "      <th>7</th>\n",
       "      <td>458851</td>\n",
       "      <td>2022-02-15</td>\n",
       "      <td>14:15:00</td>\n",
       "      <td>14:45:00</td>\n",
       "      <td>Telehealth</td>\n",
       "      <td>Service Delivered</td>\n",
       "      <td>BUCKCYNTHIA</td>\n",
       "      <td>2022-02-15 18:08:54</td>\n",
       "      <td>Co-Visit</td>\n",
       "      <td>Physical Therapy Services, PA (EIRA)</td>\n",
       "      <td>EIRA</td>\n",
       "      <td>Dev. Therapy Prof - Home/Community</td>\n",
       "    </tr>\n",
       "  </tbody>\n",
       "</table>\n",
       "</div>"
      ],
      "text/plain": [
       "   CHILD_ID SERVICE_DATE START_TIME  END_TIME  SERVICE_SETTING  \\\n",
       "1    457136   2022-02-15   14:00:00  15:00:00  Community-based   \n",
       "6    458850   2022-02-15   14:00:00  14:30:00       Telehealth   \n",
       "7    458851   2022-02-15   14:15:00  14:45:00       Telehealth   \n",
       "\n",
       "    SERVICE_DELIVERY     ADD_USER            ADD_DATE IFSP_TEAMING_ID_NAME  \\\n",
       "1  Service Delivered    LEECAROL1 2022-02-16 05:29:12             Co-Visit   \n",
       "6  Service Delivered  BUCKCYNTHIA 2022-02-15 18:07:38             Co-Visit   \n",
       "7  Service Delivered  BUCKCYNTHIA 2022-02-15 18:08:54             Co-Visit   \n",
       "\n",
       "                            AGENCY_NAME AGENCY_TYPE  \\\n",
       "1    Siskin Children's Institute (EIRA)        EIRA   \n",
       "6  Physical Therapy Services, PA (EIRA)        EIRA   \n",
       "7  Physical Therapy Services, PA (EIRA)        EIRA   \n",
       "\n",
       "                         SERVICE_NAME  \n",
       "1  Dev. Therapy Prof - Home/Community  \n",
       "6  Dev. Therapy Prof - Home/Community  \n",
       "7  Dev. Therapy Prof - Home/Community  "
      ]
     },
     "execution_count": 20,
     "metadata": {},
     "output_type": "execute_result"
    }
   ],
   "source": [
    "##Question 1. * How many children are receiving co-visits?   \n",
    "##What is the rate of co-visits?That is, out of children how have an IFSP, how many are receiving co-visits?\n",
    "##https://www.statology.org/pandas-select-rows-based-on-column-values/ | df.loc[df['points'] == 7]\n",
    "#https://sparkbyexamples.com/python/pandas-get-number-of-rows-examples/#:~:text=Get%20Number%20of%20Rows%20in,()%20to%20get%20the%20count.\n",
    "##len(df.index)\n",
    "\n",
    "# Filter the rows where 'IFSP Teaming ID name' is 'Co-Visit'/ create new df / check len\n",
    "covisit_check = compiled_df1.loc[compiled_df1['IFSP_TEAMING_ID_NAME'] == 'Co-Visit']\n",
    "covisit_check_df = pd.DataFrame(covisit_check)\n",
    "#Filter for SERVICE_DELIVERY = Service Delivered\n",
    "covisit_check = covisit_check.loc[covisit_check['SERVICE_DELIVERY'] == 'Service Delivered']\n",
    "covisit_check_df = pd.DataFrame(covisit_check)\n",
    "print(len(covisit_check_df.index))\n",
    "covisit_check_df.head(3)"
   ]
  },
  {
   "cell_type": "code",
   "execution_count": 21,
   "id": "06a5b70d",
   "metadata": {},
   "outputs": [
    {
     "name": "stdout",
     "output_type": "stream",
     "text": [
      "count unique children receiving co-visits: 1642\n",
      "ifsp children unique count: CHILD_ID    19623\n",
      "dtype: int64\n",
      "percentage of children with ifsp receiving co-visits: CHILD_ID    8.367732\n",
      "dtype: float64\n",
      "sum of co-visits: 4087\n",
      "mean of co-visist: 2.4890377588306944\n",
      "top 5 count of co-visit by child_id:\n",
      "494031    48\n",
      "480109    33\n",
      "494794    31\n",
      "481017    31\n",
      "511895    30\n",
      "Name: CHILD_ID, dtype: int64\n",
      "bottom 5 count of co-visit by child_id:\n",
      "529111    1\n",
      "534648    1\n",
      "529063    1\n",
      "520346    1\n",
      "534840    1\n",
      "Name: CHILD_ID, dtype: int64\n"
     ]
    }
   ],
   "source": [
    "#count unique children co-visits\n",
    "unique_child_rcv_covisit = covisit_check_df.CHILD_ID.unique().size\n",
    "print('count unique children receiving co-visits: '+str(unique_child_rcv_covisit))\n",
    "\n",
    "#count unique ifsp children\n",
    "ifsp_children = children_df2[['CHILD_ID']].nunique()\n",
    "print('ifsp children unique count: ' + str(ifsp_children))\n",
    "\n",
    "#calc percentage of children w/ ifsp receiving covisit\n",
    "perct_child_ifsp_rcv_covisit = (covisit_check_df.CHILD_ID.unique().size / children_df2[['CHILD_ID']].nunique()) * 100\n",
    "print('percentage of children with ifsp receiving co-visits: ' + str(perct_child_ifsp_rcv_covisit))\n",
    "\n",
    "#sum co-visits\n",
    "sum_covisits = covisit_check_df['CHILD_ID'].value_counts().sum()\n",
    "print('sum of co-visits: '+str(sum_covisits))\n",
    "\n",
    "#mean co-visits\n",
    "mean_covisits = covisit_check_df['CHILD_ID'].value_counts().mean()\n",
    "print('mean of co-visist: '+ str(mean_covisits))\n",
    "\n",
    "#view nlargest / nsmallest\n",
    "print('top 5 count of co-visit by child_id:')\n",
    "print(covisit_check_df['CHILD_ID'].value_counts().nlargest(5))\n",
    "print('bottom 5 count of co-visit by child_id:')\n",
    "print(covisit_check_df['CHILD_ID'].value_counts().nsmallest(5))"
   ]
  },
  {
   "cell_type": "markdown",
   "id": "6757d127",
   "metadata": {},
   "source": [
    "##ANSWER: 1645 children are receiving co-visits. The average amount of co-visits is 2.49. The largest number of co-visits for a single child_id was 48, the lowest number of co-visits was 1. "
   ]
  },
  {
   "cell_type": "code",
   "execution_count": 22,
   "id": "620ff7eb",
   "metadata": {},
   "outputs": [
    {
     "name": "stdout",
     "output_type": "stream",
     "text": [
      "count of co-visits >= 6: 1434\n",
      "count co-visits < 6: 2653\n",
      "total co-visits: 4087\n",
      "percentage of co-visits >= 6: 35.086860778076826\n",
      "percentage of co-visits < 6: 64.91313922192316\n",
      "child_id with > 6 co-visits:\n",
      "494031    48\n",
      "480109    33\n",
      "494794    31\n",
      "481017    31\n",
      "511895    30\n",
      "          ..\n",
      "518156     6\n",
      "513218     6\n",
      "497482     6\n",
      "519961     6\n",
      "511790     6\n",
      "Name: CHILD_ID, Length: 131, dtype: int64\n"
     ]
    }
   ],
   "source": [
    "##Question 2. * Children can have up to 6 co-visits per year. How many are recieving all 6 visits? \n",
    "##Are there any who are exceeding 6 visits?\n",
    "##df.loc[df['points'] == 7\n",
    "##https://stackoverflow.com/questions/38345213/using-value-counts-in-pandas-with-conditions\n",
    "##my_value_count.loc[my_value_count.index < 0.4]\n",
    "covisit_child_valuecount = covisit_check_df['CHILD_ID'].value_counts()\n",
    "print('count of co-visits >= 6: ' + str(covisit_child_valuecount.loc[covisit_child_valuecount >= 6].sum()))\n",
    "print('count co-visits < 6: ' + str(covisit_child_valuecount.loc[covisit_child_valuecount < 6].sum()))\n",
    "print('total co-visits: ' + str(covisit_child_valuecount.loc[covisit_child_valuecount > 0].sum()))\n",
    "print('percentage of co-visits >= 6: ' + str(((covisit_child_valuecount.loc[covisit_child_valuecount >= 6].sum()) / (covisit_child_valuecount.loc[covisit_child_valuecount > 0].sum()))*100))\n",
    "print('percentage of co-visits < 6: ' + str(((covisit_child_valuecount.loc[covisit_child_valuecount < 6].sum()) / (covisit_child_valuecount.loc[covisit_child_valuecount > 0].sum()))*100))\n",
    "print('child_id with > 6 co-visits:')\n",
    "print(covisit_child_valuecount.loc[covisit_child_valuecount >= 6])"
   ]
  },
  {
   "cell_type": "markdown",
   "id": "848ea6fc",
   "metadata": {},
   "source": [
    "##ANSWER:\n",
    "##35.08% or 1435 of 4091 children listed for co-visits received 6 or more visits.\n",
    "##64.92% or 2656 children listed for covisits received fewer than 6 visits."
   ]
  },
  {
   "cell_type": "code",
   "execution_count": 23,
   "id": "bb4c6b9e",
   "metadata": {
    "scrolled": true
   },
   "outputs": [
    {
     "name": "stdout",
     "output_type": "stream",
     "text": [
      "count of co-visits > 1: 3199\n",
      "percentage of covisits > 1: 78.27257156838758\n",
      "494031    48\n",
      "480109    33\n",
      "494794    31\n",
      "481017    31\n",
      "511895    30\n",
      "          ..\n",
      "502494     2\n",
      "488598     2\n",
      "527618     2\n",
      "530689     2\n",
      "497839     2\n",
      "Name: CHILD_ID, Length: 754, dtype: int64\n"
     ]
    }
   ],
   "source": [
    "##Question 3. What is the cadence of co-visits?\n",
    "##df.loc[df['points'] == 7\n",
    "print('count of co-visits > 1: ' + str(covisit_child_valuecount.loc[covisit_child_valuecount > 1].sum()))\n",
    "print('percentage of covisits > 1: ' + str(((covisit_child_valuecount.loc[covisit_child_valuecount > 1].sum()) / (covisit_child_valuecount.loc[covisit_child_valuecount > 0].sum()))*100))\n",
    "print(covisit_child_valuecount.loc[covisit_child_valuecount > 1])"
   ]
  },
  {
   "cell_type": "code",
   "execution_count": 24,
   "id": "b67f2a1b",
   "metadata": {},
   "outputs": [
    {
     "name": "stdout",
     "output_type": "stream",
     "text": [
      "      CHILD_ID SERVICE_DATE VISIT_DIFF\n",
      "9       459167   2022-01-26     0 days\n",
      "12      459167   2022-01-26     0 days\n",
      "10      459167   2022-02-09    14 days\n",
      "11      459167   2022-02-09     0 days\n",
      "13      459167   2022-02-09     0 days\n",
      "...        ...          ...        ...\n",
      "9526    539735   2023-01-31     0 days\n",
      "9528    539820   2022-12-19     7 days\n",
      "9529    539820   2023-01-23    35 days\n",
      "9530    539820   2023-01-30     7 days\n",
      "9533    539948   2023-01-31     0 days\n",
      "\n",
      "[2445 rows x 3 columns]\n"
     ]
    }
   ],
   "source": [
    "# Sort the co-visit rows by CHILD_ID and SERVICE_DATE\n",
    "co_visit_rows = covisit_check_df.sort_values(['CHILD_ID', 'SERVICE_DATE'])\n",
    "\n",
    "# Calculate the time difference between consecutive co-visits for each child\n",
    "co_visit_rows['VISIT_DIFF'] = co_visit_rows.groupby('CHILD_ID')['SERVICE_DATE'].diff()\n",
    "\n",
    "# Remove the first co-visit for each child since it doesn't have a previous co-visit\n",
    "co_visit_rows = co_visit_rows.dropna(subset=['VISIT_DIFF'])\n",
    "\n",
    "# Print the resulting dataframe\n",
    "print(co_visit_rows[['CHILD_ID', 'SERVICE_DATE', 'VISIT_DIFF']])\n",
    "\n",
    "##avg_time_diff = co_visit_rows['VISIT_DIFF'].mean()\n",
    "\n",
    "##print(\"Average time difference between co-visits:\", avg_time_diff)"
   ]
  },
  {
   "cell_type": "code",
   "execution_count": 25,
   "id": "621fc89e",
   "metadata": {},
   "outputs": [
    {
     "data": {
      "text/html": [
       "<div>\n",
       "<style scoped>\n",
       "    .dataframe tbody tr th:only-of-type {\n",
       "        vertical-align: middle;\n",
       "    }\n",
       "\n",
       "    .dataframe tbody tr th {\n",
       "        vertical-align: top;\n",
       "    }\n",
       "\n",
       "    .dataframe thead th {\n",
       "        text-align: right;\n",
       "    }\n",
       "</style>\n",
       "<table border=\"1\" class=\"dataframe\">\n",
       "  <thead>\n",
       "    <tr style=\"text-align: right;\">\n",
       "      <th></th>\n",
       "      <th>CHILD_ID</th>\n",
       "      <th>SERVICE_DATE</th>\n",
       "      <th>START_TIME</th>\n",
       "      <th>END_TIME</th>\n",
       "      <th>SERVICE_SETTING</th>\n",
       "      <th>SERVICE_DELIVERY</th>\n",
       "      <th>ADD_USER</th>\n",
       "      <th>ADD_DATE</th>\n",
       "      <th>IFSP_TEAMING_ID_NAME</th>\n",
       "      <th>AGENCY_NAME</th>\n",
       "      <th>AGENCY_TYPE</th>\n",
       "      <th>SERVICE_NAME</th>\n",
       "      <th>VISIT_DIFF</th>\n",
       "    </tr>\n",
       "  </thead>\n",
       "  <tbody>\n",
       "    <tr>\n",
       "      <th>10</th>\n",
       "      <td>459167</td>\n",
       "      <td>2022-02-09</td>\n",
       "      <td>09:00:00</td>\n",
       "      <td>10:00:00</td>\n",
       "      <td>Telehealth</td>\n",
       "      <td>Service Delivered</td>\n",
       "      <td>GLASSKATHERINE</td>\n",
       "      <td>2022-02-09 11:40:03</td>\n",
       "      <td>Co-Visit</td>\n",
       "      <td>LeBonheur EI &amp; Dev (LEAD) (vendor)</td>\n",
       "      <td>Independent</td>\n",
       "      <td>Speech Therapy</td>\n",
       "      <td>14 days</td>\n",
       "    </tr>\n",
       "    <tr>\n",
       "      <th>24</th>\n",
       "      <td>460965</td>\n",
       "      <td>2022-02-10</td>\n",
       "      <td>09:00:00</td>\n",
       "      <td>10:00:00</td>\n",
       "      <td>Community-based</td>\n",
       "      <td>Service Delivered</td>\n",
       "      <td>PULLIAMAMY</td>\n",
       "      <td>2022-02-10 18:12:55</td>\n",
       "      <td>Co-Visit</td>\n",
       "      <td>LeBonheur EI &amp; Dev (LEAD) (vendor)</td>\n",
       "      <td>Independent</td>\n",
       "      <td>Dev. Therapy - BCBA</td>\n",
       "      <td>14 days</td>\n",
       "    </tr>\n",
       "    <tr>\n",
       "      <th>27</th>\n",
       "      <td>460965</td>\n",
       "      <td>2022-03-24</td>\n",
       "      <td>09:00:00</td>\n",
       "      <td>10:00:00</td>\n",
       "      <td>Telehealth</td>\n",
       "      <td>Service Delivered</td>\n",
       "      <td>PULLIAMAMY</td>\n",
       "      <td>2022-03-24 11:16:57</td>\n",
       "      <td>Co-Visit</td>\n",
       "      <td>LeBonheur EI &amp; Dev (LEAD) (vendor)</td>\n",
       "      <td>Independent</td>\n",
       "      <td>Dev. Therapy - BCBA</td>\n",
       "      <td>42 days</td>\n",
       "    </tr>\n",
       "    <tr>\n",
       "      <th>30</th>\n",
       "      <td>461124</td>\n",
       "      <td>2022-02-01</td>\n",
       "      <td>16:45:00</td>\n",
       "      <td>17:15:00</td>\n",
       "      <td>Telehealth</td>\n",
       "      <td>Service Delivered</td>\n",
       "      <td>ROGERSKALEY</td>\n",
       "      <td>2022-02-04 18:04:33</td>\n",
       "      <td>Co-Visit</td>\n",
       "      <td>Kid's Putnam, Inc.</td>\n",
       "      <td>EIRA</td>\n",
       "      <td>Dev. Therapy Prof - Home/Community</td>\n",
       "      <td>28 days</td>\n",
       "    </tr>\n",
       "    <tr>\n",
       "      <th>43</th>\n",
       "      <td>462936</td>\n",
       "      <td>2022-01-10</td>\n",
       "      <td>09:30:00</td>\n",
       "      <td>10:30:00</td>\n",
       "      <td>Other</td>\n",
       "      <td>Service Delivered</td>\n",
       "      <td>ROBINSONMEGHAN</td>\n",
       "      <td>2022-01-11 10:09:21</td>\n",
       "      <td>Co-Visit</td>\n",
       "      <td>Can Do Kids Pediatric Therapy Services, LLC</td>\n",
       "      <td>Independent</td>\n",
       "      <td>Occupational Therapy</td>\n",
       "      <td>5 days</td>\n",
       "    </tr>\n",
       "  </tbody>\n",
       "</table>\n",
       "</div>"
      ],
      "text/plain": [
       "    CHILD_ID SERVICE_DATE START_TIME  END_TIME  SERVICE_SETTING  \\\n",
       "10    459167   2022-02-09   09:00:00  10:00:00       Telehealth   \n",
       "24    460965   2022-02-10   09:00:00  10:00:00  Community-based   \n",
       "27    460965   2022-03-24   09:00:00  10:00:00       Telehealth   \n",
       "30    461124   2022-02-01   16:45:00  17:15:00       Telehealth   \n",
       "43    462936   2022-01-10   09:30:00  10:30:00            Other   \n",
       "\n",
       "     SERVICE_DELIVERY        ADD_USER            ADD_DATE  \\\n",
       "10  Service Delivered  GLASSKATHERINE 2022-02-09 11:40:03   \n",
       "24  Service Delivered      PULLIAMAMY 2022-02-10 18:12:55   \n",
       "27  Service Delivered      PULLIAMAMY 2022-03-24 11:16:57   \n",
       "30  Service Delivered     ROGERSKALEY 2022-02-04 18:04:33   \n",
       "43  Service Delivered  ROBINSONMEGHAN 2022-01-11 10:09:21   \n",
       "\n",
       "   IFSP_TEAMING_ID_NAME                                  AGENCY_NAME  \\\n",
       "10             Co-Visit           LeBonheur EI & Dev (LEAD) (vendor)   \n",
       "24             Co-Visit           LeBonheur EI & Dev (LEAD) (vendor)   \n",
       "27             Co-Visit           LeBonheur EI & Dev (LEAD) (vendor)   \n",
       "30             Co-Visit                           Kid's Putnam, Inc.   \n",
       "43             Co-Visit  Can Do Kids Pediatric Therapy Services, LLC   \n",
       "\n",
       "    AGENCY_TYPE                        SERVICE_NAME VISIT_DIFF  \n",
       "10  Independent                      Speech Therapy    14 days  \n",
       "24  Independent                 Dev. Therapy - BCBA    14 days  \n",
       "27  Independent                 Dev. Therapy - BCBA    42 days  \n",
       "30         EIRA  Dev. Therapy Prof - Home/Community    28 days  \n",
       "43  Independent                Occupational Therapy     5 days  "
      ]
     },
     "execution_count": 25,
     "metadata": {},
     "output_type": "execute_result"
    }
   ],
   "source": [
    "morethan1 = co_visit_rows[co_visit_rows.VISIT_DIFF != '0 days']\n",
    "morethan1.head()"
   ]
  },
  {
   "cell_type": "code",
   "execution_count": 26,
   "id": "252bd354",
   "metadata": {},
   "outputs": [
    {
     "name": "stdout",
     "output_type": "stream",
     "text": [
      "Average time difference between co-visits: 41 days 17:10:37.068062827\n",
      "Median time difference between co-visits: 28 days 00:00:00\n",
      "Mode difference between cov-visits: 0   14 days\n",
      "Name: VISIT_DIFF, dtype: timedelta64[ns]\n"
     ]
    }
   ],
   "source": [
    "# Calculate the average time difference\n",
    "avg_time_diff = morethan1['VISIT_DIFF'].mean()\n",
    "med_time_diff = morethan1['VISIT_DIFF'].median()\n",
    "mode_time_diff = morethan1['VISIT_DIFF'].mode()\n",
    "\n",
    "print(\"Average time difference between co-visits:\", avg_time_diff)\n",
    "print(\"Median time difference between co-visits:\", med_time_diff)\n",
    "print(\"Mode difference between cov-visits:\", mode_time_diff)"
   ]
  },
  {
   "cell_type": "code",
   "execution_count": 27,
   "id": "337968a5",
   "metadata": {},
   "outputs": [
    {
     "name": "stdout",
     "output_type": "stream",
     "text": [
      "Home               1940\n",
      "Community-based     871\n",
      "Telehealth          775\n",
      "Other               501\n",
      "Name: SERVICE_SETTING, dtype: int64\n",
      "percent of home co-visit: 47.46758013212625\n"
     ]
    }
   ],
   "source": [
    "##Question 4. In what setting do co-visits typically occur?\n",
    "print(covisit_check_df['SERVICE_SETTING'].value_counts())\n",
    "print('percent of home co-visit: ' + str(covisit_check_df.loc[covisit_check_df['SERVICE_SETTING'] == 'Home'].value_counts().sum() / len(covisit_check_df.index)*100))\n"
   ]
  },
  {
   "cell_type": "code",
   "execution_count": null,
   "id": "54c70552",
   "metadata": {},
   "outputs": [],
   "source": []
  },
  {
   "cell_type": "markdown",
   "id": "5b7e22b9",
   "metadata": {},
   "source": [
    "##ANSWER: 47.42% or 1941 of 4091 co-vists occurred in the 'Home' on most occasions. "
   ]
  },
  {
   "cell_type": "markdown",
   "id": "423576b1",
   "metadata": {},
   "source": [
    "print(len(covisit_check_df.index))\n",
    "print(covisit_check_df.loc[covisit_check_df['SERVICE_SETTING'] == 'Home'].value_counts().sum())\n",
    "print(covisit_check_df.loc[covisit_check_df['SERVICE_SETTING'] == 'Community-based'].value_counts().sum())\n",
    "print(covisit_check_df.loc[covisit_check_df['SERVICE_SETTING'] == 'Telehealth'].value_counts().sum())\n",
    "print(covisit_check_df.loc[covisit_check_df['SERVICE_SETTING'] == 'Other'].value_counts().sum())"
   ]
  },
  {
   "cell_type": "markdown",
   "id": "7a0f1e01",
   "metadata": {},
   "source": [
    "https://stackoverflow.com/questions/51325601/how-to-stop-my-pandas-data-table-from-being-truncated-when-printed\n",
    "example: \n",
    "pd.set_option('display.max_rows', 500)\n",
    "pd.set_option('display.max_columns', 500)\n",
    "pd.set_option('display.width', 150)\n",
    "\n",
    "And, if you want to set the options onlytemporarily, you can change it back to the default afterwards with pd.reset_option('display.max_rows|display.max_columns|display.width')"
   ]
  },
  {
   "cell_type": "code",
   "execution_count": 28,
   "id": "b6f252e0",
   "metadata": {},
   "outputs": [
    {
     "name": "stdout",
     "output_type": "stream",
     "text": [
      "agencies performing co-visits: 76\n",
      "sum of co-visits by agencies: 4087\n",
      "covisits by agency:\n",
      "LeBonheur EI & Dev (LEAD) (vendor)                    901\n",
      "LeBonheur EI & Dev (LEAD) (EIRA)                      340\n",
      "Shelby Residential & Voc Svcs(SRVS) (EIRA)            232\n",
      "Therapy & Learning Center, Inc. (EIRA)                216\n",
      "Kid's Putnam, Inc.                                    212\n",
      "Physical Therapy Services, PA (EIRA)                  181\n",
      "WAVES, Inc.                                           169\n",
      "Siskin Children's Institute (EIRA)                    149\n",
      "Emory Valley Center                                   136\n",
      "Expanding Horizons - ETSU                             130\n",
      "Erlanger Health Care System/TC Thompson's Children    127\n",
      "Michael Dunn Center/ The Henry Center                 112\n",
      "Cleveland TN Hosp dba Tennova Healthcare-Cleveland    111\n",
      "Signal Centers, Inc.                                   88\n",
      "Rainbow Early Intervention (HATS)                      81\n",
      "Middle Tennessee State University                      76\n",
      "Sunshine Early Intervention - Knox Cty ARC             66\n",
      "Therapeutic Rehab Services - Cathy Otis                57\n",
      "LTVEC                                                  56\n",
      "BEST (Blind-Visually Impaired Early Svcs Tn)           44\n",
      "Progressive Directions Inc.                            42\n",
      "Therapy & Learning Center Inc (vendor WTCCD)           41\n",
      "Morristown Hamblen Child Care Center                   39\n",
      "Community Development Center                           38\n",
      "Rehab At Your Place (EIRA)                             36\n",
      "Support Solutions of the Mid-South (CS Patterson)      30\n",
      "Infant Stimulation Program - UT Martin                 29\n",
      "Pediatric Language Clinic                              28\n",
      "Heightened Potential Co                                28\n",
      "KF Pediatric Therapy                                   27\n",
      "First Steps, Inc (EIRA)                                27\n",
      "Little Folks Arc of Washington Co.                     23\n",
      "Developmental Svcs  of Dickson Cty - Foundations       20\n",
      "Project Memphis-University of Memphis (EIRA)           20\n",
      "Feltz Therapy Services, LLC                            17\n",
      "Easter Seals Tennessee Inc                             14\n",
      "Courageous Kids, LLC                                   13\n",
      "BRIDGES - Tennessee Tech University                    12\n",
      "Fentress County School System                          12\n",
      "Holly Hanna dba Pediatric Physical Therapy             11\n",
      "Mountain States Hlth Alli dba Indian Path Comm Hos      9\n",
      "Susan Gray School - Vanderbilt Univ                     8\n",
      "James Developmental Ctr - Small Steps Preschool         8\n",
      "Play Ball Childrens Therapy, LLC                        6\n",
      "LeBonheur East Outpatient Rehab                         5\n",
      "Rehab At Your Place (vendor)                            5\n",
      "Innovative Therapy Solutions, PLLC                      5\n",
      "Results AST JV / Results Physiotherapy                  4\n",
      "TheraKids, Inc.                                         4\n",
      "Can Do Kids Pediatric Therapy Services, LLC             3\n",
      "Beth A. Ballinger                                       3\n",
      "Siskin Children's Institute (vendor svcs)               3\n",
      "Chattanooga-United Seating & MobilityLLC/Numotion       3\n",
      "Vanderbilt Pediatric Rehabilitation                     3\n",
      "Mini Miracles Pediatric Therapy, PLLC                   2\n",
      "Maury Regional Hospital dba Maury Regional Med Ctr      2\n",
      "Health Sphere Wellness Center, LLC.                     2\n",
      "LeBonheur Downtown Outpatient Rehab                     2\n",
      "Vanderbilt Bill Wilkerson Center                        2\n",
      "UT Hearing & Speech Center                              1\n",
      "LIFT Therapy dba Sports Plus Lexington                  1\n",
      "East Tennessee Children's Hospital Rehab Center         1\n",
      "WeeCommunicate, LLC                                     1\n",
      "Trillium Speech, Language and Voice Svcs, LLC           1\n",
      "Methodist Medical Center                                1\n",
      "Jon Allen, OTR/L                                        1\n",
      "LIFT Therapy dba Sports Plus Dyersburg                  1\n",
      "N. Scott Keaton, PT dba Little Heroes                   1\n",
      "Stellar Therapy Services                                1\n",
      "STAR Center, Inc.                                       1\n",
      "Deborah Curlee Communication Consultants                1\n",
      "Words for Life Speech & Language Center, LLC            1\n",
      "Jeannine Couvertiere, SLP Services                      1\n",
      "Choice Medical Inc / Choice Orthotics Prosthetics       1\n",
      "Blount Memorial Hospital                                1\n",
      "Therapy.Works LLC                                       1\n",
      "Name: AGENCY_NAME, dtype: int64\n",
      "covisits by service name:\n",
      "Dev. Therapy Prof - Home/Community               2397\n",
      "Occupational Therapy                              501\n",
      "Speech Therapy                                    425\n",
      "Physical Therapy                                  307\n",
      "Dev. Therapy - BCBA                               133\n",
      "Dev. Therapy Center-Based                         102\n",
      "Vision Services                                    60\n",
      "Eval/Assess - Developmental                        52\n",
      "Physical Therapy Assistant                         32\n",
      "Evaluation - Occupational Therapy                  26\n",
      "Evaluation - Speech Therapy                        15\n",
      "Evaluation - Physical Therapy                      15\n",
      "Dev. Therapy – Registered Behavior Tech (RBT)       9\n",
      "Dev. Therapy - Behavior                             4\n",
      "Assistive Technology                                3\n",
      "Evaluation - BCBA Developmental Therapy             3\n",
      "Speech Therapy-Group                                1\n",
      "Evaluation/Assessment - Vision                      1\n",
      "Occupational Therapy Assistant                      1\n",
      "Name: SERVICE_NAME, dtype: int64\n",
      "sum of co-visits by service: 4087\n"
     ]
    }
   ],
   "source": [
    "##Question 5. Who is performing co-visits? \n",
    "##Are they generally performed by the same provider or discipline or by multiple providers or disciplines? \n",
    "##Is it more likely for a co-visit to occur if vendor services are within the same agency? \n",
    " \n",
    "print('agencies performing co-visits: '+ str(len(covisit_check_df['AGENCY_NAME'].unique())))\n",
    "print('sum of co-visits by agencies: '+str(covisit_check_df['AGENCY_NAME'].value_counts().sum()))\n",
    "pd.set_option('display.max_rows', 100)\n",
    "print('covisits by agency:')\n",
    "print(covisit_check_df['AGENCY_NAME'].value_counts())\n",
    "print('covisits by service name:')\n",
    "print(covisit_check_df['SERVICE_NAME'].value_counts())\n",
    "print('sum of co-visits by service: '+str(covisit_check_df['SERVICE_NAME'].value_counts().sum()))\n",
    "pd.reset_option('display.max_rows')\n",
    "#print(covisit_check_df['AGENCY_NAME'].unique())"
   ]
  },
  {
   "cell_type": "code",
   "execution_count": 29,
   "id": "d85a1f4f",
   "metadata": {},
   "outputs": [
    {
     "name": "stdout",
     "output_type": "stream",
     "text": [
      "   CHILD_ID SERVICE_DATE START_TIME  END_TIME  SERVICE_SETTING  \\\n",
      "1    457136   2022-02-15   14:00:00  15:00:00  Community-based   \n",
      "\n",
      "    SERVICE_DELIVERY   ADD_USER            ADD_DATE IFSP_TEAMING_ID_NAME  \\\n",
      "1  Service Delivered  LEECAROL1 2022-02-16 05:29:12             Co-Visit   \n",
      "\n",
      "                          AGENCY_NAME AGENCY_TYPE  \\\n",
      "1  Siskin Children's Institute (EIRA)        EIRA   \n",
      "\n",
      "                         SERVICE_NAME  \n",
      "1  Dev. Therapy Prof - Home/Community  \n",
      "['Dev. Therapy Prof - Home/Community' 'Physical Therapy Assistant'\n",
      " 'Speech Therapy' 'Occupational Therapy' 'Dev. Therapy - BCBA'\n",
      " 'Speech Therapy-Group' 'Dev. Therapy Center-Based' 'Physical Therapy'\n",
      " 'Evaluation - Occupational Therapy' 'Vision Services'\n",
      " 'Evaluation - Speech Therapy' 'Eval/Assess - Developmental'\n",
      " 'Assistive Technology' 'Evaluation - BCBA Developmental Therapy'\n",
      " 'Dev. Therapy – Registered Behavior Tech (RBT)'\n",
      " 'Evaluation - Physical Therapy' 'Evaluation/Assessment - Vision'\n",
      " 'Dev. Therapy - Behavior' 'Occupational Therapy Assistant']\n"
     ]
    }
   ],
   "source": [
    "##review column headers / review unique service name\n",
    "print(covisit_check_df.head(1))\n",
    "print(covisit_check_df['SERVICE_NAME'].unique())"
   ]
  },
  {
   "cell_type": "markdown",
   "id": "687e6a62",
   "metadata": {},
   "source": [
    "##gkk = df.groupby(['Team', 'Position'])\n",
    "##df.sort_values(by=['Column_name'], ascending=True)\n",
    "##https://stackoverflow.com/questions/37787698/how-to-sort-pandas-dataframe-from-one-column\n",
    "##test = covisit_check_df.groupby(['CHILD_ID'])\n",
    "covisit_check_df.sort_values(by=['CHILD_ID'], ascending=True)"
   ]
  },
  {
   "cell_type": "markdown",
   "id": "aa93f22b",
   "metadata": {},
   "source": [
    "## GROUP PORTION START ##"
   ]
  },
  {
   "cell_type": "markdown",
   "id": "c854a5f9",
   "metadata": {},
   "source": [
    "##class questions for teis presentation:\n",
    "1. How many children are receiving co-visits? What is the rate of co-visits? That is, out of children how have an IFSP, how many are receiving co-visits? What is the cadence of co-visits?\n",
    "2. Children can have up to 6 co-visits per year. How many are recieving all 6 visits? Are there any who are exceeding 6 visits? In what setting do co-visits typically occur?\n",
    "3. Who is performing co-visits? Are they generally performed by the same provider or discipline or by multiple providers or disciplines? Is it more likely for a co-visit to occur if vendor services are within the same agency?\n",
    "4. Does participation vary by service type? by service setting? by point of entry?\n",
    "5. Free for all.\n",
    "\n",
    "##sockswithsandals question for teis presenta:\n",
    "##1. How many children are receiving co-visits? What is the rate of co-visits? \n",
    "##That is, out of children how have an IFSP, how many are receiving co-visits? \n",
    "##What is the cadence of co-visits?\n",
    "\n",
    "##melanie ref for export sns plots: https://seaborn.pydata.org/tutorial/aesthetics.html\n",
    "##melanie / erica assist with code for cadence"
   ]
  },
  {
   "cell_type": "code",
   "execution_count": 30,
   "id": "8876c2e4",
   "metadata": {},
   "outputs": [
    {
     "name": "stdout",
     "output_type": "stream",
     "text": [
      "4087\n"
     ]
    },
    {
     "data": {
      "text/html": [
       "<div>\n",
       "<style scoped>\n",
       "    .dataframe tbody tr th:only-of-type {\n",
       "        vertical-align: middle;\n",
       "    }\n",
       "\n",
       "    .dataframe tbody tr th {\n",
       "        vertical-align: top;\n",
       "    }\n",
       "\n",
       "    .dataframe thead th {\n",
       "        text-align: right;\n",
       "    }\n",
       "</style>\n",
       "<table border=\"1\" class=\"dataframe\">\n",
       "  <thead>\n",
       "    <tr style=\"text-align: right;\">\n",
       "      <th></th>\n",
       "      <th>CHILD_ID</th>\n",
       "      <th>SERVICE_DATE</th>\n",
       "      <th>START_TIME</th>\n",
       "      <th>END_TIME</th>\n",
       "      <th>SERVICE_SETTING</th>\n",
       "      <th>SERVICE_DELIVERY</th>\n",
       "      <th>ADD_USER</th>\n",
       "      <th>ADD_DATE</th>\n",
       "      <th>IFSP_TEAMING_ID_NAME</th>\n",
       "      <th>AGENCY_NAME</th>\n",
       "      <th>AGENCY_TYPE</th>\n",
       "      <th>SERVICE_NAME</th>\n",
       "    </tr>\n",
       "  </thead>\n",
       "  <tbody>\n",
       "    <tr>\n",
       "      <th>1</th>\n",
       "      <td>457136</td>\n",
       "      <td>2022-02-15</td>\n",
       "      <td>14:00:00</td>\n",
       "      <td>15:00:00</td>\n",
       "      <td>Community-based</td>\n",
       "      <td>Service Delivered</td>\n",
       "      <td>LEECAROL1</td>\n",
       "      <td>2022-02-16 05:29:12</td>\n",
       "      <td>Co-Visit</td>\n",
       "      <td>Siskin Children's Institute (EIRA)</td>\n",
       "      <td>EIRA</td>\n",
       "      <td>Dev. Therapy Prof - Home/Community</td>\n",
       "    </tr>\n",
       "    <tr>\n",
       "      <th>6</th>\n",
       "      <td>458850</td>\n",
       "      <td>2022-02-15</td>\n",
       "      <td>14:00:00</td>\n",
       "      <td>14:30:00</td>\n",
       "      <td>Telehealth</td>\n",
       "      <td>Service Delivered</td>\n",
       "      <td>BUCKCYNTHIA</td>\n",
       "      <td>2022-02-15 18:07:38</td>\n",
       "      <td>Co-Visit</td>\n",
       "      <td>Physical Therapy Services, PA (EIRA)</td>\n",
       "      <td>EIRA</td>\n",
       "      <td>Dev. Therapy Prof - Home/Community</td>\n",
       "    </tr>\n",
       "    <tr>\n",
       "      <th>7</th>\n",
       "      <td>458851</td>\n",
       "      <td>2022-02-15</td>\n",
       "      <td>14:15:00</td>\n",
       "      <td>14:45:00</td>\n",
       "      <td>Telehealth</td>\n",
       "      <td>Service Delivered</td>\n",
       "      <td>BUCKCYNTHIA</td>\n",
       "      <td>2022-02-15 18:08:54</td>\n",
       "      <td>Co-Visit</td>\n",
       "      <td>Physical Therapy Services, PA (EIRA)</td>\n",
       "      <td>EIRA</td>\n",
       "      <td>Dev. Therapy Prof - Home/Community</td>\n",
       "    </tr>\n",
       "  </tbody>\n",
       "</table>\n",
       "</div>"
      ],
      "text/plain": [
       "   CHILD_ID SERVICE_DATE START_TIME  END_TIME  SERVICE_SETTING  \\\n",
       "1    457136   2022-02-15   14:00:00  15:00:00  Community-based   \n",
       "6    458850   2022-02-15   14:00:00  14:30:00       Telehealth   \n",
       "7    458851   2022-02-15   14:15:00  14:45:00       Telehealth   \n",
       "\n",
       "    SERVICE_DELIVERY     ADD_USER            ADD_DATE IFSP_TEAMING_ID_NAME  \\\n",
       "1  Service Delivered    LEECAROL1 2022-02-16 05:29:12             Co-Visit   \n",
       "6  Service Delivered  BUCKCYNTHIA 2022-02-15 18:07:38             Co-Visit   \n",
       "7  Service Delivered  BUCKCYNTHIA 2022-02-15 18:08:54             Co-Visit   \n",
       "\n",
       "                            AGENCY_NAME AGENCY_TYPE  \\\n",
       "1    Siskin Children's Institute (EIRA)        EIRA   \n",
       "6  Physical Therapy Services, PA (EIRA)        EIRA   \n",
       "7  Physical Therapy Services, PA (EIRA)        EIRA   \n",
       "\n",
       "                         SERVICE_NAME  \n",
       "1  Dev. Therapy Prof - Home/Community  \n",
       "6  Dev. Therapy Prof - Home/Community  \n",
       "7  Dev. Therapy Prof - Home/Community  "
      ]
     },
     "execution_count": 30,
     "metadata": {},
     "output_type": "execute_result"
    }
   ],
   "source": [
    "# Filter the rows where 'IFSP Teaming ID name' is 'Co-Visit'/ create new df / check len\n",
    "covisit_check = compiled_df1.loc[compiled_df1['IFSP_TEAMING_ID_NAME'] == 'Co-Visit']\n",
    "covisit_check_df = pd.DataFrame(covisit_check)\n",
    "#Filter for SERVICE_DELIVERY = Service Delivered\n",
    "covisit_check = covisit_check.loc[covisit_check['SERVICE_DELIVERY'] == 'Service Delivered']\n",
    "covisit_check_df = pd.DataFrame(covisit_check)\n",
    "print(len(covisit_check_df.index))\n",
    "covisit_check_df.head(3)"
   ]
  },
  {
   "cell_type": "markdown",
   "id": "95808bae",
   "metadata": {},
   "source": [
    "##1. How many children are receiving co-visits? What is the rate of co-visits? \n",
    "##That is, out of children how have an IFSP, how many are receiving co-visits? "
   ]
  },
  {
   "cell_type": "code",
   "execution_count": 31,
   "id": "702a0401",
   "metadata": {},
   "outputs": [
    {
     "name": "stdout",
     "output_type": "stream",
     "text": [
      "count unique children receiving co-visits: 1642\n",
      "ifsp children unique count: CHILD_ID    19623\n",
      "dtype: int64\n",
      "percentage of children with ifsp receiving co-visits: CHILD_ID    8.367732\n",
      "dtype: float64\n",
      "sum of co-visits: 4087\n",
      "mean of co-visist: 2.4890377588306944\n",
      "top 5 count of co-visit by child_id:\n",
      "494031    48\n",
      "480109    33\n",
      "494794    31\n",
      "481017    31\n",
      "511895    30\n",
      "Name: CHILD_ID, dtype: int64\n",
      "bottom 5 count of co-visit by child_id:\n",
      "529111    1\n",
      "534648    1\n",
      "529063    1\n",
      "520346    1\n",
      "534840    1\n",
      "Name: CHILD_ID, dtype: int64\n"
     ]
    }
   ],
   "source": [
    "#count unique children co-visits\n",
    "unique_child_rcv_covisit = covisit_check_df.CHILD_ID.unique().size\n",
    "print('count unique children receiving co-visits: '+str(unique_child_rcv_covisit))\n",
    "\n",
    "#count unique ifsp children\n",
    "ifsp_children = children_df2[['CHILD_ID']].nunique()\n",
    "print('ifsp children unique count: ' + str(ifsp_children))\n",
    "\n",
    "#calc percentage of children w/ ifsp receiving covisit\n",
    "perct_child_ifsp_rcv_covisit = (covisit_check_df.CHILD_ID.unique().size / children_df2[['CHILD_ID']].nunique()) * 100\n",
    "print('percentage of children with ifsp receiving co-visits: ' + str(perct_child_ifsp_rcv_covisit))\n",
    "\n",
    "#sum co-visits\n",
    "sum_covisits = covisit_check_df['CHILD_ID'].value_counts().sum()\n",
    "print('sum of co-visits: '+str(sum_covisits))\n",
    "\n",
    "#mean co-visits\n",
    "mean_covisits = covisit_check_df['CHILD_ID'].value_counts().mean()\n",
    "print('mean of co-visist: '+ str(mean_covisits))\n",
    "\n",
    "#view nlargest / nsmallest\n",
    "print('top 5 count of co-visit by child_id:')\n",
    "print(covisit_check_df['CHILD_ID'].value_counts().nlargest(5))\n",
    "print('bottom 5 count of co-visit by child_id:')\n",
    "print(covisit_check_df['CHILD_ID'].value_counts().nsmallest(5))"
   ]
  },
  {
   "cell_type": "markdown",
   "id": "510dda92",
   "metadata": {},
   "source": [
    "##What is the cadence of co-visits?"
   ]
  },
  {
   "cell_type": "code",
   "execution_count": 32,
   "id": "a2d02fcc",
   "metadata": {},
   "outputs": [
    {
     "name": "stdout",
     "output_type": "stream",
     "text": [
      "      CHILD_ID SERVICE_DATE VISIT_DIFF\n",
      "9       459167   2022-01-26     0 days\n",
      "12      459167   2022-01-26     0 days\n",
      "10      459167   2022-02-09    14 days\n",
      "11      459167   2022-02-09     0 days\n",
      "13      459167   2022-02-09     0 days\n",
      "...        ...          ...        ...\n",
      "9526    539735   2023-01-31     0 days\n",
      "9528    539820   2022-12-19     7 days\n",
      "9529    539820   2023-01-23    35 days\n",
      "9530    539820   2023-01-30     7 days\n",
      "9533    539948   2023-01-31     0 days\n",
      "\n",
      "[2445 rows x 3 columns]\n",
      "Average time difference between co-visits: 41 days 17:10:37.068062827\n",
      "Median time difference between co-visits: 28 days 00:00:00\n",
      "Mode difference between cov-visits: 0   14 days\n",
      "Name: VISIT_DIFF, dtype: timedelta64[ns]\n"
     ]
    }
   ],
   "source": [
    "# Sort the co-visit rows by CHILD_ID and SERVICE_DATE\n",
    "co_visit_rows = covisit_check_df.sort_values(['CHILD_ID', 'SERVICE_DATE'])\n",
    "\n",
    "# Calculate the time difference between consecutive co-visits for each child\n",
    "co_visit_rows['VISIT_DIFF'] = co_visit_rows.groupby('CHILD_ID')['SERVICE_DATE'].diff()\n",
    "\n",
    "# Remove the first co-visit for each child since it doesn't have a previous co-visit\n",
    "co_visit_rows = co_visit_rows.dropna(subset=['VISIT_DIFF'])\n",
    "\n",
    "# Print the resulting dataframe\n",
    "print(co_visit_rows[['CHILD_ID', 'SERVICE_DATE', 'VISIT_DIFF']])\n",
    "\n",
    "morethan1 = co_visit_rows[co_visit_rows.VISIT_DIFF != '0 days']\n",
    "\n",
    "# Calculate the average time difference\n",
    "avg_time_diff = morethan1['VISIT_DIFF'].mean()\n",
    "med_time_diff = morethan1['VISIT_DIFF'].median()\n",
    "mode_time_diff = morethan1['VISIT_DIFF'].mode()\n",
    "\n",
    "print(\"Average time difference between co-visits:\", avg_time_diff)\n",
    "print(\"Median time difference between co-visits:\", med_time_diff)\n",
    "print(\"Mode difference between cov-visits:\", mode_time_diff)"
   ]
  },
  {
   "cell_type": "code",
   "execution_count": 33,
   "id": "059ab58e",
   "metadata": {},
   "outputs": [
    {
     "name": "stdout",
     "output_type": "stream",
     "text": [
      "   CHILD_ID SERVICE_DATE   SERVICE_DELIVERY\n",
      "1    457136   2022-02-15  Service Delivered\n",
      "6    458850   2022-02-15  Service Delivered\n",
      "7    458851   2022-02-15  Service Delivered\n",
      "8    459167   2022-01-26  Service Delivered\n",
      "9    459167   2022-01-26  Service Delivered\n"
     ]
    }
   ],
   "source": [
    "##filter df for child id , service date, service delivery for plot use\n",
    "##https://sparkbyexamples.com/pandas/pandas-select-columns-by-name-or-index/\n",
    "covisit_line_plot_df = covisit_check_df[['CHILD_ID','SERVICE_DATE','SERVICE_DELIVERY']]\n",
    "print(covisit_line_plot_df.head())"
   ]
  },
  {
   "cell_type": "code",
   "execution_count": 34,
   "id": "784731ab",
   "metadata": {
    "scrolled": true
   },
   "outputs": [
    {
     "name": "stdout",
     "output_type": "stream",
     "text": [
      "<class 'pandas.core.frame.DataFrame'>\n",
      "RangeIndex: 282 entries, 0 to 281\n",
      "Data columns (total 4 columns):\n",
      " #   Column       Non-Null Count  Dtype         \n",
      "---  ------       --------------  -----         \n",
      " 0   DATE         282 non-null    datetime64[ns]\n",
      " 1   VALUE_COUNT  282 non-null    int64         \n",
      " 2   YEAR         282 non-null    int64         \n",
      " 3   MONTH        282 non-null    int64         \n",
      "dtypes: datetime64[ns](1), int64(3)\n",
      "memory usage: 8.9 KB\n",
      "None\n",
      "          DATE  VALUE_COUNT  YEAR  MONTH\n",
      "0   2022-06-14           38  2022      6\n",
      "1   2022-12-06           33  2022     12\n",
      "2   2022-11-22           33  2022     11\n",
      "3   2022-02-15           32  2022      2\n",
      "4   2022-09-15           31  2022      9\n",
      "5   2023-01-19           31  2023      1\n",
      "6   2022-11-09           31  2022     11\n",
      "7   2022-12-14           30  2022     12\n",
      "8   2022-04-26           30  2022      4\n",
      "9   2022-06-02           30  2022      6\n",
      "10  2023-01-11           29  2023      1\n",
      "11  2022-03-23           29  2022      3\n",
      "12  2022-04-12           28  2022      4\n",
      "13  2023-01-10           27  2023      1\n",
      "14  2022-02-17           27  2022      2\n",
      "15  2022-02-23           27  2022      2\n",
      "16  2023-01-26           27  2023      1\n",
      "17  2022-01-18           26  2022      1\n",
      "18  2022-05-05           26  2022      5\n",
      "19  2022-04-21           26  2022      4\n",
      "20  2022-11-10           25  2022     11\n",
      "21  2022-12-08           25  2022     12\n",
      "22  2022-05-25           25  2022      5\n",
      "23  2022-03-03           25  2022      3\n",
      "24  2022-11-17           25  2022     11\n",
      "25  2022-03-29           25  2022      3\n",
      "26  2022-12-07           24  2022     12\n",
      "27  2022-03-22           24  2022      3\n",
      "28  2022-02-08           24  2022      2\n",
      "29  2022-05-11           24  2022      5\n",
      "30  2023-01-12           23  2023      1\n",
      "31  2023-01-09           23  2023      1\n",
      "32  2022-05-03           23  2022      5\n",
      "33  2022-02-24           23  2022      2\n",
      "34  2022-08-30           22  2022      8\n",
      "35  2023-01-05           22  2023      1\n",
      "36  2022-03-09           22  2022      3\n",
      "37  2022-11-15           22  2022     11\n",
      "38  2022-06-22           22  2022      6\n",
      "39  2022-10-24           22  2022     10\n",
      "40  2022-01-25           22  2022      1\n",
      "41  2022-05-23           22  2022      5\n",
      "42  2022-04-07           22  2022      4\n",
      "43  2022-02-10           22  2022      2\n",
      "44  2022-12-12           22  2022     12\n",
      "45  2023-01-23           21  2023      1\n",
      "46  2022-07-13           21  2022      7\n",
      "47  2023-01-25           21  2023      1\n",
      "48  2022-03-24           21  2022      3\n",
      "49  2022-06-16           21  2022      6\n",
      "50  2023-01-24           21  2023      1\n",
      "51  2022-04-27           21  2022      4\n",
      "52  2022-12-13           21  2022     12\n",
      "53  2022-10-13           21  2022     10\n",
      "54  2022-12-20           21  2022     12\n",
      "55  2022-02-28           21  2022      2\n",
      "56  2022-10-27           21  2022     10\n",
      "57  2022-02-09           21  2022      2\n",
      "58  2022-04-05           20  2022      4\n",
      "59  2023-01-17           20  2023      1\n",
      "60  2022-07-27           20  2022      7\n",
      "61  2022-12-21           20  2022     12\n",
      "62  2022-03-31           20  2022      3\n",
      "63  2022-04-28           20  2022      4\n",
      "64  2022-04-11           20  2022      4\n",
      "65  2022-12-15           20  2022     12\n",
      "66  2022-11-21           20  2022     11\n",
      "67  2022-01-31           20  2022      1\n",
      "68  2022-06-21           20  2022      6\n",
      "69  2022-01-12           20  2022      1\n",
      "70  2022-05-12           20  2022      5\n",
      "71  2022-02-22           20  2022      2\n",
      "72  2022-05-19           20  2022      5\n",
      "73  2022-01-26           20  2022      1\n",
      "74  2022-03-10           19  2022      3\n",
      "75  2022-11-30           19  2022     11\n",
      "76  2022-03-08           19  2022      3\n",
      "77  2022-10-20           19  2022     10\n",
      "78  2022-07-26           19  2022      7\n",
      "79  2022-05-17           19  2022      5\n",
      "80  2022-11-29           19  2022     11\n",
      "81  2023-01-18           18  2023      1\n",
      "82  2022-11-02           18  2022     11\n",
      "83  2022-08-09           18  2022      8\n",
      "84  2023-01-31           18  2023      1\n",
      "85  2022-01-06           18  2022      1\n",
      "86  2022-10-18           18  2022     10\n",
      "87  2022-09-06           18  2022      9\n",
      "88  2022-09-12           18  2022      9\n",
      "89  2022-07-21           18  2022      7\n",
      "90  2022-04-14           18  2022      4\n",
      "91  2022-01-10           18  2022      1\n",
      "92  2022-06-07           18  2022      6\n",
      "93  2022-10-19           18  2022     10\n",
      "94  2022-09-29           18  2022      9\n",
      "95  2022-05-02           18  2022      5\n",
      "96  2022-09-14           17  2022      9\n",
      "97  2022-03-01           17  2022      3\n",
      "98  2022-10-12           17  2022     10\n",
      "99  2022-06-13           17  2022      6\n",
      "100 2022-06-15           17  2022      6\n",
      "101 2022-03-28           17  2022      3\n",
      "102 2022-08-25           17  2022      8\n",
      "103 2022-02-01           17  2022      2\n",
      "104 2022-01-04           17  2022      1\n",
      "105 2022-03-16           17  2022      3\n",
      "106 2022-08-24           17  2022      8\n",
      "107 2022-11-01           17  2022     11\n",
      "108 2023-01-04           17  2023      1\n",
      "109 2022-06-09           16  2022      6\n",
      "110 2022-09-21           16  2022      9\n",
      "111 2022-09-27           16  2022      9\n",
      "112 2022-05-26           16  2022      5\n",
      "113 2022-09-22           16  2022      9\n",
      "114 2022-05-16           16  2022      5\n",
      "115 2023-01-03           16  2023      1\n",
      "116 2022-11-03           16  2022     11\n",
      "117 2022-09-08           16  2022      9\n",
      "118 2022-09-28           16  2022      9\n",
      "119 2022-08-04           16  2022      8\n",
      "120 2022-12-19           16  2022     12\n",
      "121 2022-03-21           16  2022      3\n",
      "122 2022-07-05           16  2022      7\n",
      "123 2022-08-16           16  2022      8\n",
      "124 2022-08-23           16  2022      8\n",
      "125 2022-03-15           16  2022      3\n",
      "126 2022-04-25           16  2022      4\n",
      "127 2022-01-11           16  2022      1\n",
      "128 2022-01-24           16  2022      1\n",
      "129 2022-07-25           15  2022      7\n",
      "130 2022-04-04           15  2022      4\n",
      "131 2022-11-16           15  2022     11\n",
      "132 2022-08-18           15  2022      8\n",
      "133 2022-01-05           15  2022      1\n",
      "134 2023-01-30           15  2023      1\n",
      "135 2022-01-13           15  2022      1\n",
      "136 2022-06-06           15  2022      6\n",
      "137 2022-06-28           15  2022      6\n",
      "138 2022-10-04           15  2022     10\n",
      "139 2022-09-07           14  2022      9\n",
      "140 2022-08-29           14  2022      8\n",
      "141 2022-12-01           14  2022     12\n",
      "142 2022-04-13           14  2022      4\n",
      "143 2022-05-24           14  2022      5\n",
      "144 2022-10-25           14  2022     10\n",
      "145 2022-11-08           14  2022     11\n",
      "146 2022-03-07           14  2022      3\n",
      "147 2022-03-17           14  2022      3\n",
      "148 2022-05-10           14  2022      5\n",
      "149 2022-06-27           14  2022      6\n",
      "150 2022-02-02           14  2022      2\n",
      "151 2022-06-20           14  2022      6\n",
      "152 2022-03-14           14  2022      3\n",
      "153 2022-12-16           14  2022     12\n",
      "154 2022-05-09           14  2022      5\n",
      "155 2022-10-05           14  2022     10\n",
      "156 2022-10-11           14  2022     10\n",
      "157 2022-07-19           14  2022      7\n",
      "158 2022-07-18           14  2022      7\n",
      "159 2022-02-14           13  2022      2\n",
      "160 2022-10-31           13  2022     10\n",
      "161 2022-06-23           13  2022      6\n",
      "162 2022-08-31           13  2022      8\n",
      "163 2022-01-14           13  2022      1\n",
      "164 2022-07-12           13  2022      7\n",
      "165 2022-10-03           13  2022     10\n",
      "166 2022-06-01           13  2022      6\n",
      "167 2022-10-26           12  2022     10\n",
      "168 2022-06-08           12  2022      6\n",
      "169 2022-02-07           12  2022      2\n",
      "170 2022-08-02           12  2022      8\n",
      "171 2023-01-27           12  2023      1\n",
      "172 2022-09-20           12  2022      9\n",
      "173 2022-10-06           12  2022     10\n",
      "174 2022-08-10           12  2022      8\n",
      "175 2022-10-17           12  2022     10\n",
      "176 2022-09-26           12  2022      9\n",
      "177 2022-12-22           12  2022     12\n",
      "178 2022-01-27           12  2022      1\n",
      "179 2023-01-06           12  2023      1\n",
      "180 2022-08-11           12  2022      8\n",
      "181 2022-02-21           12  2022      2\n",
      "182 2022-03-02           11  2022      3\n",
      "183 2022-10-21           11  2022     10\n",
      "184 2022-06-30           11  2022      6\n",
      "185 2022-03-11           11  2022      3\n",
      "186 2022-04-06           11  2022      4\n",
      "187 2022-01-20           11  2022      1\n",
      "188 2022-07-28           11  2022      7\n",
      "189 2022-09-01           11  2022      9\n",
      "190 2022-11-07           11  2022     11\n",
      "191 2022-08-03           11  2022      8\n",
      "192 2022-08-17           11  2022      8\n",
      "193 2022-03-30           11  2022      3\n",
      "194 2022-05-31           11  2022      5\n",
      "195 2022-09-30           11  2022      9\n",
      "196 2022-01-03           11  2022      1\n",
      "197 2022-08-01           11  2022      8\n",
      "198 2022-08-15           10  2022      8\n",
      "199 2022-11-14           10  2022     11\n",
      "200 2022-06-10           10  2022      6\n",
      "201 2022-02-03           10  2022      2\n",
      "202 2022-07-14           10  2022      7\n",
      "203 2022-03-18           10  2022      3\n",
      "204 2022-09-13           10  2022      9\n",
      "205 2022-05-04           10  2022      5\n",
      "206 2022-05-18           10  2022      5\n",
      "207 2022-05-20            9  2022      5\n",
      "208 2022-10-10            9  2022     10\n",
      "209 2022-05-13            9  2022      5\n",
      "210 2022-07-15            9  2022      7\n",
      "211 2022-11-28            9  2022     11\n",
      "212 2022-01-19            9  2022      1\n",
      "213 2022-08-08            9  2022      8\n",
      "214 2022-01-21            9  2022      1\n",
      "215 2023-01-13            9  2023      1\n",
      "216 2022-04-08            8  2022      4\n",
      "217 2022-02-25            8  2022      2\n",
      "218 2022-07-22            8  2022      7\n",
      "219 2022-07-11            8  2022      7\n",
      "220 2022-07-20            8  2022      7\n",
      "221 2022-07-29            8  2022      7\n",
      "222 2022-09-16            8  2022      9\n",
      "223 2022-09-09            8  2022      9\n",
      "224 2022-04-18            8  2022      4\n",
      "225 2022-10-28            8  2022     10\n",
      "226 2022-07-07            8  2022      7\n",
      "227 2022-02-16            8  2022      2\n",
      "228 2022-08-22            8  2022      8\n",
      "229 2022-06-24            7  2022      6\n",
      "230 2022-08-05            7  2022      8\n",
      "231 2022-05-06            7  2022      5\n",
      "232 2022-08-19            7  2022      8\n",
      "233 2022-12-05            7  2022     12\n",
      "234 2022-04-22            7  2022      4\n",
      "235 2022-12-29            7  2022     12\n",
      "236 2022-04-19            7  2022      4\n",
      "237 2022-12-27            7  2022     12\n",
      "238 2022-02-11            7  2022      2\n",
      "239 2022-12-09            6  2022     12\n",
      "240 2022-09-19            6  2022      9\n",
      "241 2022-06-29            6  2022      6\n",
      "242 2022-04-29            6  2022      4\n",
      "243 2022-12-02            6  2022     12\n",
      "244 2022-02-18            6  2022      2\n",
      "245 2022-08-12            6  2022      8\n",
      "246 2022-03-04            5  2022      3\n",
      "247 2022-11-23            5  2022     11\n",
      "248 2022-07-06            5  2022      7\n",
      "249 2022-01-28            5  2022      1\n",
      "250 2022-12-28            5  2022     12\n",
      "251 2022-05-27            5  2022      5\n",
      "252 2022-11-18            5  2022     11\n",
      "253 2022-11-04            5  2022     11\n",
      "254 2023-01-20            5  2023      1\n",
      "255 2022-09-02            5  2022      9\n",
      "256 2022-08-26            4  2022      8\n",
      "257 2022-01-07            4  2022      1\n",
      "258 2022-07-08            4  2022      7\n",
      "259 2023-01-16            4  2023      1\n",
      "260 2022-10-07            3  2022     10\n",
      "261 2022-07-01            3  2022      7\n",
      "262 2022-11-11            3  2022     11\n",
      "263 2022-04-01            3  2022      4\n",
      "264 2022-06-03            3  2022      6\n",
      "265 2022-03-27            2  2022      3\n",
      "266 2022-04-20            2  2022      4\n",
      "267 2022-06-17            2  2022      6\n",
      "268 2022-03-25            2  2022      3\n",
      "269 2022-12-30            1  2022     12\n",
      "270 2022-09-23            1  2022      9\n",
      "271 2022-10-02            1  2022     10\n",
      "272 2022-02-06            1  2022      2\n",
      "273 2022-07-24            1  2022      7\n",
      "274 2022-04-15            1  2022      4\n",
      "275 2022-10-29            1  2022     10\n",
      "276 2022-03-13            1  2022      3\n",
      "277 2022-01-22            1  2022      1\n",
      "278 2022-02-20            1  2022      2\n",
      "279 2022-02-04            1  2022      2\n",
      "280 2022-10-14            1  2022     10\n",
      "281 2023-01-02            1  2023      1\n"
     ]
    }
   ],
   "source": [
    "##value_counts for service dates\n",
    "service_date_plot = covisit_line_plot_df['SERVICE_DATE'].value_counts()\n",
    "\n",
    "##convert to df\n",
    "service_date_plot_df = pd.DataFrame(service_date_plot)\n",
    "\n",
    "##fix columns\n",
    "service_date_plot_df.columns = ['VALUE_COUNT']\n",
    "service_date_plot_df.index.name = 'DATE'\n",
    "service_date_plot_df = service_date_plot_df.reset_index()\n",
    "##extract date info: https://sparkbyexamples.com/pandas/pandas-extract-month-and-year-separately-from-datetime-column/#:~:text=Use%20pandas%20DatetimeIndex()%20to,a%20date%20as%20an%20argument.\n",
    "service_date_plot_df['YEAR'] = service_date_plot_df['DATE'].dt.year\n",
    "service_date_plot_df['MONTH'] = service_date_plot_df['DATE'].dt.month\n",
    "print(service_date_plot_df.info())\n",
    "pd.set_option('display.max_rows', 300)\n",
    "print(service_date_plot_df)\n",
    "pd.reset_option('display.max_rows')\n"
   ]
  },
  {
   "cell_type": "code",
   "execution_count": 35,
   "id": "aea9e5d1",
   "metadata": {},
   "outputs": [
    {
     "name": "stderr",
     "output_type": "stream",
     "text": [
      "C:\\Users\\larld\\AppData\\Local\\Temp\\ipykernel_3020\\61229223.py:4: FutureWarning: The default value of numeric_only in DataFrameGroupBy.sum is deprecated. In a future version, numeric_only will default to False. Either specify numeric_only or select only columns which should be valid for the function.\n",
      "  service_date_groupby_df = service_date_plot_df.groupby([(service_date_plot_df.YEAR), (service_date_plot_df.MONTH)]).sum()\n"
     ]
    },
    {
     "data": {
      "text/html": [
       "<div>\n",
       "<style scoped>\n",
       "    .dataframe tbody tr th:only-of-type {\n",
       "        vertical-align: middle;\n",
       "    }\n",
       "\n",
       "    .dataframe tbody tr th {\n",
       "        vertical-align: top;\n",
       "    }\n",
       "\n",
       "    .dataframe thead th {\n",
       "        text-align: right;\n",
       "    }\n",
       "</style>\n",
       "<table border=\"1\" class=\"dataframe\">\n",
       "  <thead>\n",
       "    <tr style=\"text-align: right;\">\n",
       "      <th></th>\n",
       "      <th></th>\n",
       "      <th>VALUE_COUNT</th>\n",
       "    </tr>\n",
       "    <tr>\n",
       "      <th>YEAR</th>\n",
       "      <th>MONTH</th>\n",
       "      <th></th>\n",
       "    </tr>\n",
       "  </thead>\n",
       "  <tbody>\n",
       "    <tr>\n",
       "      <th rowspan=\"12\" valign=\"top\">2022</th>\n",
       "      <th>1</th>\n",
       "      <td>298</td>\n",
       "    </tr>\n",
       "    <tr>\n",
       "      <th>2</th>\n",
       "      <td>327</td>\n",
       "    </tr>\n",
       "    <tr>\n",
       "      <th>3</th>\n",
       "      <td>382</td>\n",
       "    </tr>\n",
       "    <tr>\n",
       "      <th>4</th>\n",
       "      <td>303</td>\n",
       "    </tr>\n",
       "    <tr>\n",
       "      <th>5</th>\n",
       "      <td>332</td>\n",
       "    </tr>\n",
       "    <tr>\n",
       "      <th>6</th>\n",
       "      <td>334</td>\n",
       "    </tr>\n",
       "    <tr>\n",
       "      <th>7</th>\n",
       "      <td>233</td>\n",
       "    </tr>\n",
       "    <tr>\n",
       "      <th>8</th>\n",
       "      <td>284</td>\n",
       "    </tr>\n",
       "    <tr>\n",
       "      <th>9</th>\n",
       "      <td>280</td>\n",
       "    </tr>\n",
       "    <tr>\n",
       "      <th>10</th>\n",
       "      <td>289</td>\n",
       "    </tr>\n",
       "    <tr>\n",
       "      <th>11</th>\n",
       "      <td>322</td>\n",
       "    </tr>\n",
       "    <tr>\n",
       "      <th>12</th>\n",
       "      <td>311</td>\n",
       "    </tr>\n",
       "    <tr>\n",
       "      <th>2023</th>\n",
       "      <th>1</th>\n",
       "      <td>392</td>\n",
       "    </tr>\n",
       "  </tbody>\n",
       "</table>\n",
       "</div>"
      ],
      "text/plain": [
       "            VALUE_COUNT\n",
       "YEAR MONTH             \n",
       "2022 1              298\n",
       "     2              327\n",
       "     3              382\n",
       "     4              303\n",
       "     5              332\n",
       "     6              334\n",
       "     7              233\n",
       "     8              284\n",
       "     9              280\n",
       "     10             289\n",
       "     11             322\n",
       "     12             311\n",
       "2023 1              392"
      ]
     },
     "execution_count": 35,
     "metadata": {},
     "output_type": "execute_result"
    }
   ],
   "source": [
    "##group by for chart\n",
    "\n",
    "##group by year / month | https://stackoverflow.com/questions/26646191/pandas-groupby-month-and-year\n",
    "service_date_groupby_df = service_date_plot_df.groupby([(service_date_plot_df.YEAR), (service_date_plot_df.MONTH)]).sum()\n",
    "service_date_groupby_df"
   ]
  },
  {
   "cell_type": "code",
   "execution_count": 76,
   "id": "cfa9d202",
   "metadata": {},
   "outputs": [
    {
     "name": "stdout",
     "output_type": "stream",
     "text": [
      "range(0, 13)\n",
      "13\n"
     ]
    }
   ],
   "source": [
    "print(range(len(service_date_groupby_df.index)))\n",
    "print(len(service_date_groupby_df.index))\n",
    "\n",
    "##https://rollbar.com/blog/python-indexerror/#:~:text=The%20Python%20IndexError%3A%20list%20index,with%20the%20len()%20function."
   ]
  },
  {
   "cell_type": "markdown",
   "id": "cff9ce39",
   "metadata": {},
   "source": [
    "viol_plot = viol_counts[:10].plot(kind='bar')\n",
    "\n",
    "viol_plot.set_ylabel('No. of Violations')\n",
    "viol_plot.set_title('Audit Results')\n",
    "viol_plot.set_xticks(width)\n",
    "viol_plot.set_xticklabels( ('A', 'B','C') )\n",
    "##https://stackoverflow.com/questions/31536202/renaming-x-axis-labels-when-using-matplotlib-and-pandas"
   ]
  },
  {
   "cell_type": "code",
   "execution_count": 90,
   "id": "da9463b4",
   "metadata": {
    "scrolled": false
   },
   "outputs": [
    {
     "data": {
      "image/png": "[encoded data removed]",
      "text/plain": [
       "<Figure size 1200x600 with 1 Axes>"
      ]
     },
     "metadata": {},
     "output_type": "display_data"
    }
   ],
   "source": [
    "##build line chart\n",
    "service_date_lineplot = service_date_groupby_df.plot.line(legend=False)\n",
    "plt.title(\"Co-Visit by Month\")\n",
    "service_date_lineplot.set_ylabel(ylabel=None)\n",
    "service_date_lineplot.set(xlabel=None)\n",
    "\n",
    "##adjust xlabels\n",
    "labels = [item.get_text() for item in service_date_lineplot.get_xticklabels()]\n",
    "labels[1] = 'Jan-22'\n",
    "labels[2] = 'Mar-22'\n",
    "labels[3] = 'May-22'\n",
    "labels[4] = 'Jul-22'\n",
    "labels[5] = 'Sep-22'\n",
    "labels[6] = 'Nov-22'\n",
    "labels[7] = 'Jan-23'\n",
    "service_date_lineplot.set_xticklabels(labels)\n",
    "\n",
    "#adjust chart size\n",
    "plt.rcParams['figure.figsize'] = [12, 6]\n",
    "\n",
    "#export image\n",
    "covisit_line_plot = service_date_lineplot.get_figure()\n",
    "covisit_line_plot.savefig('../data/covisit_line_plot.png')\n",
    "\n",
    "\n",
    "##https://stackoverflow.com/questions/11244514/modify-tick-label-text\n",
    "##https://www.tutorialspoint.com/how-to-remove-or-hide-x-axis-labels-from-a-seaborn-matplotlib-plot\n",
    "##https://stackoverflow.com/questions/9622163/save-plot-to-image-file-instead-of-displaying-it"
   ]
  },
  {
   "cell_type": "markdown",
   "id": "c5c36702",
   "metadata": {},
   "source": [
    "sns.relplot(data=service_date_groupby_df, x='MONTH', y='VALUE_COUNT')"
   ]
  },
  {
   "cell_type": "code",
   "execution_count": null,
   "id": "8a972d01",
   "metadata": {},
   "outputs": [],
   "source": []
  },
  {
   "cell_type": "code",
   "execution_count": 91,
   "id": "a95fce3e",
   "metadata": {},
   "outputs": [
    {
     "data": {
      "image/png": "[encoded data removed]",
      "text/plain": [
       "<Figure size 1200x600 with 1 Axes>"
      ]
     },
     "metadata": {},
     "output_type": "display_data"
    }
   ],
   "source": [
    "##build bar chart\n",
    "service_date_barplot = service_date_groupby_df.plot.bar(legend=False)\n",
    "plt.title(\"Co-Visit by Month\")\n",
    "service_date_barplot.set_ylabel(ylabel=None)\n",
    "service_date_barplot.set(xlabel=None)\n",
    "\n",
    "#adjust xlabels\n",
    "labels1 = [item.get_text() for item in service_date_barplot.get_xticklabels()]\n",
    "labels1[0] = 'Jan-22'\n",
    "labels1[1] = 'Feb-22'\n",
    "labels1[2] = 'Mar-22'\n",
    "labels1[3] = 'Apr-22'\n",
    "labels1[4] = 'May-22'\n",
    "labels1[5] = 'Jun-22'\n",
    "labels1[6] = 'Jul-23'\n",
    "labels1[7] = 'Aug-22'\n",
    "labels1[8] = 'Sep-22'\n",
    "labels1[9] = 'Oct-22'\n",
    "labels1[10] = 'Nov-22'\n",
    "labels1[11] = 'Dec-22'\n",
    "labels1[12] = 'Jan-23'\n",
    "service_date_barplot.set_xticklabels(labels1)\n",
    "\n",
    "##adjust chart size\n",
    "plt.rcParams['figure.figsize'] = [12, 6]\n",
    "\n",
    "##export image\n",
    "covisit_bar_plot = service_date_barplot.get_figure()\n",
    "covisit_bar_plot.savefig('../data/covisit_bar_plot.png')"
   ]
  },
  {
   "cell_type": "code",
   "execution_count": 85,
   "id": "ab652985",
   "metadata": {},
   "outputs": [
    {
     "data": {
      "text/plain": [
       "<Axes: xlabel='MONTH', ylabel='VALUE_COUNT'>"
      ]
     },
     "execution_count": 85,
     "metadata": {},
     "output_type": "execute_result"
    },
    {
     "data": {
      "image/png": "[encoded data removed]",
      "text/plain": [
       "<Figure size 1200x600 with 1 Axes>"
      ]
     },
     "metadata": {},
     "output_type": "display_data"
    }
   ],
   "source": [
    "service_date_sctterplot = service_date_plot_df.plot.scatter(x='MONTH', y='VALUE_COUNT', legend=False)\n",
    "##sns.relplot(data=service_date_groupby_df, x='MONTH', y='VALUE_COUNT')\n",
    "service_date_sctterplot"
   ]
  },
  {
   "cell_type": "code",
   "execution_count": 86,
   "id": "6d5aacc5",
   "metadata": {},
   "outputs": [
    {
     "data": {
      "text/plain": [
       "<seaborn.axisgrid.FacetGrid at 0x1b41106bf10>"
      ]
     },
     "execution_count": 86,
     "metadata": {},
     "output_type": "execute_result"
    },
    {
     "data": {
      "image/png": "[encoded data removed]",
      "text/plain": [
       "<Figure size 500x500 with 1 Axes>"
      ]
     },
     "metadata": {},
     "output_type": "display_data"
    }
   ],
   "source": [
    "sns.relplot(data=service_date_groupby_df, x='MONTH', y='VALUE_COUNT')"
   ]
  },
  {
   "cell_type": "code",
   "execution_count": null,
   "id": "e52f66f5",
   "metadata": {},
   "outputs": [],
   "source": []
  }
 ],
 "metadata": {
  "kernelspec": {
   "display_name": "Python 3 (ipykernel)",
   "language": "python",
   "name": "python3"
  },
  "language_info": {
   "codemirror_mode": {
    "name": "ipython",
    "version": 3
   },
   "file_extension": ".py",
   "mimetype": "text/x-python",
   "name": "python",
   "nbconvert_exporter": "python",
   "pygments_lexer": "ipython3",
   "version": "3.10.9"
  }
 },
 "nbformat": 4,
 "nbformat_minor": 5
}
