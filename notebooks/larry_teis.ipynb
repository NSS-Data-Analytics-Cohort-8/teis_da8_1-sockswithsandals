{
 "cells": [
  {
   "cell_type": "code",
   "execution_count": 1,
   "id": "1b522fa9",
   "metadata": {},
   "outputs": [],
   "source": [
    "##READ ME\n",
    "## TEIS IFSP Teaming Data Question\n",
    "\n",
    "[The Tennessee Early Intervention System (TEIS)](https://www.tn.gov/didd/for-consumers/tennessee-early-intervention-system-teis.html) is a program that provides services to children ages birth up to age three who have disabilities or other developmental delays. In this project, you'll be looking into how teams that support children work together. \n",
    "\n",
    "You've been provided a spreadsheet containing data on children who received IFSP Teaming services. This spreadsheet is divided into two tabs.\n",
    "* Tab 1 contains log details of all children receiving IFSP Teaming services between January 1, 2022 and January 31, 2023. See the data dictionary for a description of each column.\n",
    "* Tab 2 contains a list of all children with IFSPs during the same timeframe. This includes a point of entry office, a referral date and an exit date.\n",
    "\n",
    "Analysis Questions:\n",
    "* How many children are receiving co-visits? What is the rate of co-visits? That is, out of children how have an IFSP, how many are receiving co-visits?\n",
    "* Children can have up to 6 co-visits per year. How many are recieving all 6 visits? Are there any who are exceeding 6 visits?\n",
    "* What is the cadence of co-visits?\n",
    "* In what setting do co-visits typically occur?\n",
    "* Who is performing co-visits? Are they generally performed by the same provider or discipline or by multiple providers or disciplines? Is it more likely for a co-visit to occur if vendor services are within th esame agency? \n",
    "* Does participation vary by service type? by point of entry?"
   ]
  },
  {
   "cell_type": "code",
   "execution_count": 15,
   "id": "12f6a0f6",
   "metadata": {},
   "outputs": [],
   "source": [
    "import pandas as pd\n",
    "import numpy as np"
   ]
  },
  {
   "cell_type": "code",
   "execution_count": 7,
   "id": "1220d516",
   "metadata": {},
   "outputs": [],
   "source": [
    "##EDA....part 1 import sreadsheet\n",
    "##https://stackoverflow.com/questions/26521266/using-pandas-to-pd-read-excel-for-multiple-worksheets-of-the-same-workbook\n",
    "## xls = pd.ExcelFile('path_to_file.xls')\n",
    "## df1 = pd.read_excel(xls, 'Sheet1')\n",
    "## df2 = pd.read_excel(xls, 'Sheet2')\n",
    "\n",
    "xlsx_teis = pd.ExcelFile('../data/TEIS_IFSP_Teaming_Jan_2022-_Jan_2023.xlsx')\n",
    "compiled_df1 = pd.read_excel(xlsx_teis, 'Compiled_IFSP Teaming')\n",
    "children_df2 = pd.read_excel(xlsx_teis, 'All Children with IFSPs')\n"
   ]
  },
  {
   "cell_type": "code",
   "execution_count": 10,
   "id": "6d145b47",
   "metadata": {},
   "outputs": [
    {
     "data": {
      "text/html": [
       "<div>\n",
       "<style scoped>\n",
       "    .dataframe tbody tr th:only-of-type {\n",
       "        vertical-align: middle;\n",
       "    }\n",
       "\n",
       "    .dataframe tbody tr th {\n",
       "        vertical-align: top;\n",
       "    }\n",
       "\n",
       "    .dataframe thead th {\n",
       "        text-align: right;\n",
       "    }\n",
       "</style>\n",
       "<table border=\"1\" class=\"dataframe\">\n",
       "  <thead>\n",
       "    <tr style=\"text-align: right;\">\n",
       "      <th></th>\n",
       "      <th>CHILD_ID</th>\n",
       "      <th>SERVICE_DATE</th>\n",
       "      <th>START_TIME</th>\n",
       "      <th>END_TIME</th>\n",
       "      <th>SERVICE_SETTING</th>\n",
       "      <th>SERVICE DELIVERY</th>\n",
       "      <th>ADD_USER</th>\n",
       "      <th>ADD_DATE</th>\n",
       "      <th>IFSP Teaming ID name</th>\n",
       "      <th>Agency Name</th>\n",
       "      <th>Agency Type</th>\n",
       "      <th>Service Name</th>\n",
       "    </tr>\n",
       "  </thead>\n",
       "  <tbody>\n",
       "    <tr>\n",
       "      <th>0</th>\n",
       "      <td>457136</td>\n",
       "      <td>2022-01-21</td>\n",
       "      <td>09:30:00</td>\n",
       "      <td>10:30:00</td>\n",
       "      <td>Community-based</td>\n",
       "      <td>Service Delivered</td>\n",
       "      <td>LEECAROL1</td>\n",
       "      <td>2022-01-21 17:54:45</td>\n",
       "      <td>IEP Meeting</td>\n",
       "      <td>Siskin Children's Institute (EIRA)</td>\n",
       "      <td>EIRA</td>\n",
       "      <td>Dev. Therapy Prof - Home/Community</td>\n",
       "    </tr>\n",
       "    <tr>\n",
       "      <th>1</th>\n",
       "      <td>457136</td>\n",
       "      <td>2022-02-15</td>\n",
       "      <td>14:00:00</td>\n",
       "      <td>15:00:00</td>\n",
       "      <td>Community-based</td>\n",
       "      <td>Service Delivered</td>\n",
       "      <td>LEECAROL1</td>\n",
       "      <td>2022-02-16 05:29:12</td>\n",
       "      <td>Co-Visit</td>\n",
       "      <td>Siskin Children's Institute (EIRA)</td>\n",
       "      <td>EIRA</td>\n",
       "      <td>Dev. Therapy Prof - Home/Community</td>\n",
       "    </tr>\n",
       "    <tr>\n",
       "      <th>2</th>\n",
       "      <td>457585</td>\n",
       "      <td>2022-01-24</td>\n",
       "      <td>08:30:00</td>\n",
       "      <td>09:30:00</td>\n",
       "      <td>Telehealth</td>\n",
       "      <td>Service Delivered</td>\n",
       "      <td>MILLARDCATHERINE</td>\n",
       "      <td>2022-01-24 14:18:29</td>\n",
       "      <td>IEP Meeting</td>\n",
       "      <td>Siskin Children's Institute (EIRA)</td>\n",
       "      <td>EIRA</td>\n",
       "      <td>Dev. Therapy Prof - Home/Community</td>\n",
       "    </tr>\n",
       "    <tr>\n",
       "      <th>3</th>\n",
       "      <td>457852</td>\n",
       "      <td>2022-01-12</td>\n",
       "      <td>14:00:00</td>\n",
       "      <td>15:00:00</td>\n",
       "      <td>Community-based</td>\n",
       "      <td>Service Delivered</td>\n",
       "      <td>HEMELKATIE1</td>\n",
       "      <td>2022-01-18 10:39:51</td>\n",
       "      <td>IEP Meeting</td>\n",
       "      <td>LTVEC</td>\n",
       "      <td>EIRA</td>\n",
       "      <td>Dev. Therapy Prof - Home/Community</td>\n",
       "    </tr>\n",
       "    <tr>\n",
       "      <th>4</th>\n",
       "      <td>458051</td>\n",
       "      <td>2022-01-12</td>\n",
       "      <td>12:00:00</td>\n",
       "      <td>13:00:00</td>\n",
       "      <td>Telehealth</td>\n",
       "      <td>Service Delivered</td>\n",
       "      <td>JONESMEGAN</td>\n",
       "      <td>2022-01-12 13:46:48</td>\n",
       "      <td>IFSP Meeting</td>\n",
       "      <td>First Steps, Inc (EIRA)</td>\n",
       "      <td>EIRA</td>\n",
       "      <td>Dev. Therapy Prof - Home/Community</td>\n",
       "    </tr>\n",
       "  </tbody>\n",
       "</table>\n",
       "</div>"
      ],
      "text/plain": [
       "   CHILD_ID SERVICE_DATE START_TIME  END_TIME  SERVICE_SETTING  \\\n",
       "0    457136   2022-01-21   09:30:00  10:30:00  Community-based   \n",
       "1    457136   2022-02-15   14:00:00  15:00:00  Community-based   \n",
       "2    457585   2022-01-24   08:30:00  09:30:00       Telehealth   \n",
       "3    457852   2022-01-12   14:00:00  15:00:00  Community-based   \n",
       "4    458051   2022-01-12   12:00:00  13:00:00       Telehealth   \n",
       "\n",
       "    SERVICE DELIVERY          ADD_USER            ADD_DATE  \\\n",
       "0  Service Delivered         LEECAROL1 2022-01-21 17:54:45   \n",
       "1  Service Delivered         LEECAROL1 2022-02-16 05:29:12   \n",
       "2  Service Delivered  MILLARDCATHERINE 2022-01-24 14:18:29   \n",
       "3  Service Delivered       HEMELKATIE1 2022-01-18 10:39:51   \n",
       "4  Service Delivered        JONESMEGAN 2022-01-12 13:46:48   \n",
       "\n",
       "  IFSP Teaming ID name                         Agency Name Agency Type  \\\n",
       "0          IEP Meeting  Siskin Children's Institute (EIRA)        EIRA   \n",
       "1             Co-Visit  Siskin Children's Institute (EIRA)        EIRA   \n",
       "2          IEP Meeting  Siskin Children's Institute (EIRA)        EIRA   \n",
       "3          IEP Meeting                               LTVEC        EIRA   \n",
       "4         IFSP Meeting             First Steps, Inc (EIRA)        EIRA   \n",
       "\n",
       "                         Service Name  \n",
       "0  Dev. Therapy Prof - Home/Community  \n",
       "1  Dev. Therapy Prof - Home/Community  \n",
       "2  Dev. Therapy Prof - Home/Community  \n",
       "3  Dev. Therapy Prof - Home/Community  \n",
       "4  Dev. Therapy Prof - Home/Community  "
      ]
     },
     "execution_count": 10,
     "metadata": {},
     "output_type": "execute_result"
    }
   ],
   "source": [
    "compiled_df1.head() "
   ]
  },
  {
   "cell_type": "code",
   "execution_count": 11,
   "id": "3a3283e4",
   "metadata": {},
   "outputs": [
    {
     "data": {
      "text/html": [
       "<div>\n",
       "<style scoped>\n",
       "    .dataframe tbody tr th:only-of-type {\n",
       "        vertical-align: middle;\n",
       "    }\n",
       "\n",
       "    .dataframe tbody tr th {\n",
       "        vertical-align: top;\n",
       "    }\n",
       "\n",
       "    .dataframe thead th {\n",
       "        text-align: right;\n",
       "    }\n",
       "</style>\n",
       "<table border=\"1\" class=\"dataframe\">\n",
       "  <thead>\n",
       "    <tr style=\"text-align: right;\">\n",
       "      <th></th>\n",
       "      <th>POE</th>\n",
       "      <th>Child ID</th>\n",
       "      <th>Referral Date</th>\n",
       "      <th>Exit Date</th>\n",
       "    </tr>\n",
       "  </thead>\n",
       "  <tbody>\n",
       "    <tr>\n",
       "      <th>0</th>\n",
       "      <td>ET</td>\n",
       "      <td>508615</td>\n",
       "      <td>2021-08-06</td>\n",
       "      <td>NaT</td>\n",
       "    </tr>\n",
       "    <tr>\n",
       "      <th>1</th>\n",
       "      <td>ET</td>\n",
       "      <td>488455</td>\n",
       "      <td>2021-11-02</td>\n",
       "      <td>NaT</td>\n",
       "    </tr>\n",
       "    <tr>\n",
       "      <th>2</th>\n",
       "      <td>ET</td>\n",
       "      <td>494500</td>\n",
       "      <td>2020-12-14</td>\n",
       "      <td>NaT</td>\n",
       "    </tr>\n",
       "    <tr>\n",
       "      <th>3</th>\n",
       "      <td>ET</td>\n",
       "      <td>515143</td>\n",
       "      <td>2021-11-22</td>\n",
       "      <td>NaT</td>\n",
       "    </tr>\n",
       "    <tr>\n",
       "      <th>4</th>\n",
       "      <td>ET</td>\n",
       "      <td>505490</td>\n",
       "      <td>2021-06-15</td>\n",
       "      <td>NaT</td>\n",
       "    </tr>\n",
       "  </tbody>\n",
       "</table>\n",
       "</div>"
      ],
      "text/plain": [
       "  POE  Child ID Referral Date Exit Date\n",
       "0  ET    508615    2021-08-06       NaT\n",
       "1  ET    488455    2021-11-02       NaT\n",
       "2  ET    494500    2020-12-14       NaT\n",
       "3  ET    515143    2021-11-22       NaT\n",
       "4  ET    505490    2021-06-15       NaT"
      ]
     },
     "execution_count": 11,
     "metadata": {},
     "output_type": "execute_result"
    }
   ],
   "source": [
    "children_df2.head()"
   ]
  },
  {
   "cell_type": "code",
   "execution_count": 17,
   "id": "3178fbf6",
   "metadata": {},
   "outputs": [
    {
     "name": "stdout",
     "output_type": "stream",
     "text": [
      "<class 'pandas.core.frame.DataFrame'>\n",
      "RangeIndex: 9543 entries, 0 to 9542\n",
      "Data columns (total 12 columns):\n",
      " #   Column                Non-Null Count  Dtype         \n",
      "---  ------                --------------  -----         \n",
      " 0   CHILD_ID              9543 non-null   int64         \n",
      " 1   SERVICE_DATE          9543 non-null   datetime64[ns]\n",
      " 2   START_TIME            9532 non-null   object        \n",
      " 3   END_TIME              9532 non-null   object        \n",
      " 4   SERVICE_SETTING       9533 non-null   object        \n",
      " 5   SERVICE DELIVERY      9543 non-null   object        \n",
      " 6   ADD_USER              9543 non-null   object        \n",
      " 7   ADD_DATE              9543 non-null   datetime64[ns]\n",
      " 8   IFSP Teaming ID name  9543 non-null   object        \n",
      " 9   Agency Name           9543 non-null   object        \n",
      " 10  Agency Type           9543 non-null   object        \n",
      " 11  Service Name          9543 non-null   object        \n",
      "dtypes: datetime64[ns](2), int64(1), object(9)\n",
      "memory usage: 894.8+ KB\n",
      "None\n",
      "<class 'pandas.core.frame.DataFrame'>\n",
      "RangeIndex: 138664 entries, 0 to 138663\n",
      "Data columns (total 4 columns):\n",
      " #   Column         Non-Null Count   Dtype         \n",
      "---  ------         --------------   -----         \n",
      " 0   POE            138664 non-null  object        \n",
      " 1   Child ID       138664 non-null  int64         \n",
      " 2   Referral Date  138664 non-null  datetime64[ns]\n",
      " 3   Exit Date      15607 non-null   datetime64[ns]\n",
      "dtypes: datetime64[ns](2), int64(1), object(1)\n",
      "memory usage: 4.2+ MB\n",
      "None\n"
     ]
    }
   ],
   "source": [
    "print(compiled_df1.info(verbose=True))\n",
    "print(children_df2.info(verbose=True))"
   ]
  },
  {
   "cell_type": "code",
   "execution_count": 18,
   "id": "4c120094",
   "metadata": {},
   "outputs": [
    {
     "name": "stdout",
     "output_type": "stream",
     "text": [
      "            CHILD_ID\n",
      "count    9543.000000\n",
      "mean   503923.012051\n",
      "std     17148.944343\n",
      "min    457136.000000\n",
      "25%    492312.500000\n",
      "50%    505531.000000\n",
      "75%    515686.000000\n",
      "max    542122.000000\n",
      "<class 'pandas.core.frame.DataFrame'>\n",
      "RangeIndex: 138664 entries, 0 to 138663\n",
      "Data columns (total 4 columns):\n",
      " #   Column         Non-Null Count   Dtype         \n",
      "---  ------         --------------   -----         \n",
      " 0   POE            138664 non-null  object        \n",
      " 1   Child ID       138664 non-null  int64         \n",
      " 2   Referral Date  138664 non-null  datetime64[ns]\n",
      " 3   Exit Date      15607 non-null   datetime64[ns]\n",
      "dtypes: datetime64[ns](2), int64(1), object(1)\n",
      "memory usage: 4.2+ MB\n",
      "None\n"
     ]
    }
   ],
   "source": [
    "print(compiled_df1.describe())\n",
    "print(children_df2.info())"
   ]
  },
  {
   "cell_type": "code",
   "execution_count": 21,
   "id": "5bf4fe21",
   "metadata": {},
   "outputs": [
    {
     "name": "stdout",
     "output_type": "stream",
     "text": [
      "2022-01-03 00:00:00\n",
      "2023-01-31 00:00:00\n",
      "2019-01-11 00:00:00\n",
      "2023-01-31 00:00:00\n",
      "NaT\n",
      "NaT\n"
     ]
    }
   ],
   "source": [
    "## min / max dates in compiled_df1 / children_df2\n",
    "##https://stackoverflow.com/questions/23178129/getting-min-and-max-dates-from-a-pandas-dataframe\n",
    "##min(df['some_property']) / max(df['some_property'])\n",
    "\n",
    "print(min(compiled_df1['SERVICE_DATE']))\n",
    "print(max(compiled_df1['SERVICE_DATE']))\n",
    "print(min(children_df2['Referral Date']))\n",
    "print(max(children_df2['Referral Date']))\n",
    "print(min(children_df2['Exit Date']))\n",
    "print(max(children_df2['Exit Date']))"
   ]
  },
  {
   "cell_type": "code",
   "execution_count": 23,
   "id": "28d5d56f",
   "metadata": {},
   "outputs": [
    {
     "data": {
      "text/plain": [
       "CHILD_ID                4789\n",
       "SERVICE_SETTING            4\n",
       "SERVICE DELIVERY           4\n",
       "IFSP Teaming ID name       3\n",
       "Agency Name               85\n",
       "Agency Type                3\n",
       "Service Name              23\n",
       "dtype: int64"
      ]
     },
     "execution_count": 23,
     "metadata": {},
     "output_type": "execute_result"
    }
   ],
   "source": [
    "##check unique count compiled_df1\n",
    "#https://sparkbyexamples.com/pandas/pandas-count-unique-values-in-column/\n",
    "#Count unique on multiple columns\n",
    "#count = df[['Courses','Fee']].nunique()\n",
    "\n",
    "count_df1 = compiled_df1[['CHILD_ID','SERVICE_SETTING','SERVICE DELIVERY','IFSP Teaming ID name','Agency Name','Agency Type','Service Name']].nunique() \n",
    "count_df1"
   ]
  },
  {
   "cell_type": "code",
   "execution_count": 24,
   "id": "3a8cbc23",
   "metadata": {},
   "outputs": [
    {
     "data": {
      "text/plain": [
       "POE             9\n",
       "Child ID    19623\n",
       "dtype: int64"
      ]
     },
     "execution_count": 24,
     "metadata": {},
     "output_type": "execute_result"
    }
   ],
   "source": [
    "##check unique count children_df2\n",
    "count_df2 = children_df2[['POE','Child ID']].nunique() \n",
    "count_df2"
   ]
  },
  {
   "cell_type": "code",
   "execution_count": 34,
   "id": "c442a466",
   "metadata": {},
   "outputs": [
    {
     "name": "stdout",
     "output_type": "stream",
     "text": [
      "['Community-based' 'Telehealth' 'Home' 'Other' nan]\n",
      "['Service Delivered' 'Absence Due to Family' 'Family No Show'\n",
      " 'Absence Due to Provider']\n",
      "['IEP Meeting' 'Co-Visit' 'IFSP Meeting']\n",
      "[\"Siskin Children's Institute (EIRA)\" 'LTVEC' 'First Steps, Inc (EIRA)'\n",
      " 'Sunshine Early Intervention - Knox Cty ARC'\n",
      " 'Physical Therapy Services, PA (EIRA)' 'LeBonheur EI & Dev (LEAD) (EIRA)'\n",
      " 'LeBonheur EI & Dev (LEAD) (vendor)'\n",
      " 'Shelby Residential & Voc Svcs(SRVS) (EIRA)' 'Signal Centers, Inc.'\n",
      " 'Therapy & Learning Center, Inc. (EIRA)'\n",
      " 'Susan Gray School - Vanderbilt Univ'\n",
      " 'Support Solutions of the Mid-South (CS Patterson)' \"Kid's Putnam, Inc.\"\n",
      " 'Little Folks Arc of Washington Co.'\n",
      " 'Michael Dunn Center/ The Henry Center' 'Pediatric Language Clinic'\n",
      " 'BRIDGES - Tennessee Tech University' 'Vanderbilt Bill Wilkerson Center'\n",
      " 'BEST (Blind-Visually Impaired Early Svcs Tn)'\n",
      " 'Can Do Kids Pediatric Therapy Services, LLC'\n",
      " 'Morristown Hamblen Child Care Center' 'Emory Valley Center'\n",
      " 'Progressive Directions Inc.'\n",
      " 'James Developmental Ctr - Small Steps Preschool'\n",
      " 'Middle Tennessee State University' 'Expanding Horizons - ETSU'\n",
      " 'Infant Stimulation Program - UT Martin' 'WAVES, Inc.'\n",
      " 'Developmental Svcs  of Dickson Cty - Foundations'\n",
      " 'Rainbow Early Intervention (HATS)' 'Easter Seals Tennessee Inc'\n",
      " 'Community Development Center'\n",
      " 'Therapy & Learning Center Inc (vendor WTCCD)'\n",
      " \"Erlanger Health Care System/TC Thompson's Children\"\n",
      " 'KF Pediatric Therapy' 'Heightened Potential Co'\n",
      " 'Holly Hanna dba Pediatric Physical Therapy'\n",
      " 'Pediatric Physical Therapy (Nancy Cogburn)'\n",
      " 'Mini Miracles Pediatric Therapy, PLLC' 'Rehab At Your Place (EIRA)'\n",
      " 'Therapeutic Rehab Services - Cathy Otis'\n",
      " \"Siskin Children's Institute (vendor svcs)\"\n",
      " 'Project Memphis-University of Memphis (EIRA)'\n",
      " 'Fentress County School System'\n",
      " 'Chattanooga-United Seating & MobilityLLC/Numotion' 'TheraKids, Inc.'\n",
      " 'Cleveland TN Hosp dba Tennova Healthcare-Cleveland'\n",
      " 'Blount Memorial Hospital' 'LeBonheur East Outpatient Rehab'\n",
      " 'Mountain States Hlth Alli dba Indian Path Comm Hos'\n",
      " 'Feltz Therapy Services, LLC' 'Play Ball Childrens Therapy, LLC'\n",
      " 'Choice Medical Inc / Choice Orthotics Prosthetics' 'Twana Mullins'\n",
      " 'Courageous Kids, LLC' 'Beth A. Ballinger'\n",
      " 'Jeannine Couvertiere, SLP Services'\n",
      " 'Words for Life Speech & Language Center, LLC'\n",
      " 'Rehab At Your Place (vendor)' 'Deborah Curlee Communication Consultants'\n",
      " 'Sarah Elizabeth Henry' 'Prospect, Inc.'\n",
      " 'Health Sphere Wellness Center, LLC.' 'Jon Allen, OTR/L'\n",
      " 'STAR Center, Inc.' 'Project Play Therapy dba Franklin Speech &Learning'\n",
      " 'Maury Regional Hospital dba Maury Regional Med Ctr'\n",
      " 'Vanderbilt Pediatric Rehabilitation' 'CTS, LLC (Tyrice Cartwright)'\n",
      " 'Vanderbilt-TRIAD' 'Siskin EIBS' 'Stellar Therapy Services'\n",
      " 'N. Scott Keaton, PT dba Little Heroes'\n",
      " 'LIFT Therapy dba Sports Plus Dyersburg'\n",
      " 'Innovative Therapy Solutions, PLLC' 'Methodist Medical Center'\n",
      " 'LeBonheur Downtown Outpatient Rehab'\n",
      " 'LIFT Therapy dba Sports Plus Lexington' 'TalkBack'\n",
      " \"East Tennessee Children's Hospital Rehab Center\"\n",
      " 'UT Hearing & Speech Center' 'WeeCommunicate, LLC'\n",
      " 'Results AST JV / Results Physiotherapy'\n",
      " 'Trillium Speech, Language and Voice Svcs, LLC' 'Therapy.Works LLC']\n",
      "['EIRA' 'Independent' 'Other']\n",
      "['Dev. Therapy Prof - Home/Community' 'Physical Therapy Assistant'\n",
      " 'Speech Therapy' 'Occupational Therapy' 'Dev. Therapy - BCBA'\n",
      " 'Speech Therapy-Group' 'Dev. Therapy Center-Based' 'Physical Therapy'\n",
      " 'Evaluation - Occupational Therapy'\n",
      " 'IFSP Team Member Participation (Face-To-Face)' 'Vision Services'\n",
      " 'Evaluation - Speech Therapy' 'Eval/Assess - Developmental'\n",
      " 'Dev. Therapy ParaProf - Home/Community'\n",
      " 'IFSP Team Member Participation (Virtual)' 'Assistive Technology'\n",
      " 'Evaluation - BCBA Developmental Therapy'\n",
      " 'Dev. Therapy – Registered Behavior Tech (RBT)'\n",
      " 'Evaluation - Physical Therapy' 'Evaluation/Assessment - Vision'\n",
      " 'Consultation – Developmental Therapy' 'Dev. Therapy - Behavior'\n",
      " 'Occupational Therapy Assistant']\n"
     ]
    }
   ],
   "source": [
    "##check unique values compiled_df1\n",
    "##https://www.geeksforgeeks.org/get-unique-values-from-a-column-in-pandas-dataframe/\n",
    "print(compiled_df1['SERVICE_SETTING'].unique())\n",
    "print(compiled_df1['SERVICE DELIVERY'].unique())\n",
    "print(compiled_df1['IFSP Teaming ID name'].unique())\n",
    "print(compiled_df1['Agency Name'].unique())\n",
    "print(compiled_df1['Agency Type'].unique())\n",
    "print(compiled_df1['Service Name'].unique())"
   ]
  },
  {
   "cell_type": "code",
   "execution_count": 35,
   "id": "b005b950",
   "metadata": {},
   "outputs": [
    {
     "name": "stdout",
     "output_type": "stream",
     "text": [
      "['ET' 'FT' 'GN' 'MD' 'NW' 'SC' 'SE' 'SW' 'UC']\n"
     ]
    }
   ],
   "source": [
    "##check unique values children_df2\n",
    "print(children_df2['POE'].unique())"
   ]
  },
  {
   "cell_type": "code",
   "execution_count": null,
   "id": "0fda07c6",
   "metadata": {},
   "outputs": [],
   "source": []
  }
 ],
 "metadata": {
  "kernelspec": {
   "display_name": "Python 3 (ipykernel)",
   "language": "python",
   "name": "python3"
  },
  "language_info": {
   "codemirror_mode": {
    "name": "ipython",
    "version": 3
   },
   "file_extension": ".py",
   "mimetype": "text/x-python",
   "name": "python",
   "nbconvert_exporter": "python",
   "pygments_lexer": "ipython3",
   "version": "3.10.9"
  }
 },
 "nbformat": 4,
 "nbformat_minor": 5
}
